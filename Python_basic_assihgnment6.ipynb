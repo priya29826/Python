{
  "nbformat": 4,
  "nbformat_minor": 0,
  "metadata": {
    "colab": {
      "provenance": []
    },
    "kernelspec": {
      "name": "python3",
      "display_name": "Python 3"
    },
    "language_info": {
      "name": "python"
    }
  },
  "cells": [
    {
      "cell_type": "markdown",
      "source": [
        "**1. What are escape characters, and how do you use them?**\n",
        "\n",
        "**Ans:** Escape characters are special characters used in programming and markup languages to indicate that the following character should be treated differently. They are typically used to represent characters that are difficult or impossible to represent directly in code or to format text in a specific way.\n",
        "\n",
        "The most common escape character is the backslash (). When used before a character, it indicates that the character following it should be interpreted differently. For example:\n",
        "\n",
        "* \\n represents a newline character.\n",
        "* \\t represents a tab character.\n",
        "* \\\" represents a double quote character within a string literal.\n",
        "* \\\\ represents a single backslash character.\n",
        "Here's an example of how escape characters are used in Python:"
      ],
      "metadata": {
        "id": "cwQ4kceJSnUy"
      }
    },
    {
      "cell_type": "code",
      "execution_count": null,
      "metadata": {
        "colab": {
          "base_uri": "https://localhost:8080/"
        },
        "id": "_o_lKzE4SRLs",
        "outputId": "6d35c0ad-c7f3-42ae-8ba5-374f16e6cca5"
      },
      "outputs": [
        {
          "output_type": "stream",
          "name": "stdout",
          "text": [
            "Hello\n",
            "World\n",
            "This is a\ttab\n",
            "He said, \"Hello!\"\n",
            "This is a backslash: \\\n"
          ]
        }
      ],
      "source": [
        "# Using escape characters in Python\n",
        "print(\"Hello\\nWorld\")  # Prints \"Hello\" followed by a newline and then \"World\"\n",
        "print(\"This is a\\ttab\")  # Prints \"This is a\" followed by a tab and then \"tab\"\n",
        "print(\"He said, \\\"Hello!\\\"\")  # Prints \"He said, \"Hello!\"\"\n",
        "print(\"This is a backslash: \\\\\")  # Prints \"This is a backslash: \\\""
      ]
    },
    {
      "cell_type": "markdown",
      "source": [
        "**2. What do the escape characters n and t stand for?**\n",
        "\n",
        "**Ans:** The escape characters \\n and \\t stand for newline and tab, respectively.\n",
        "\n",
        "* \\n represents a newline character, which moves the cursor to the beginning of the next line.\n",
        "* \\t represents a tab character, which inserts a horizontal tab space.\n",
        "\n",
        "These escape characters are commonly used in programming languages and text-based formats to control the formatting of output text. For example, in a string literal, \\n would create a new line, and \\t would insert a tab space.\n",
        "\n",
        "\n",
        "\n",
        "\n",
        "\n"
      ],
      "metadata": {
        "id": "bkWsHGODTKRQ"
      }
    },
    {
      "cell_type": "markdown",
      "source": [
        "**3. What is the way to include backslash characters in a string?**\n",
        "\n",
        "**Ans:**\n",
        "To include a backslash character (\\) in a string, you can use the escape character \\ itself. You simply use two backslashes \\\\ to represent a single backslash within the string. This is because the backslash is an escape character, so when you want to include it as a literal character in the string, you need to escape it with another backslash.\n",
        "\n",
        "Here's an example in Python:\n",
        "\n",
        "So, when you want to include a single backslash in a string, you would write \\\\. This approach is common in many programming languages and contexts where escape characters are used."
      ],
      "metadata": {
        "id": "ZXJT01G0Tb2w"
      }
    },
    {
      "cell_type": "code",
      "source": [
        "# Including backslash characters in a string in Python\n",
        "print(\"This is a backslash: \\\\\")  # Prints \"This is a backslash: \\\""
      ],
      "metadata": {
        "colab": {
          "base_uri": "https://localhost:8080/"
        },
        "id": "KhrBFFs0TCYw",
        "outputId": "734ff833-2a8e-449c-98cf-caaf21bb7c29"
      },
      "execution_count": null,
      "outputs": [
        {
          "output_type": "stream",
          "name": "stdout",
          "text": [
            "This is a backslash: \\\n"
          ]
        }
      ]
    },
    {
      "cell_type": "markdown",
      "source": [
        "**4. The string &quot;Howl&#39;s Moving Castle&quot; is a correct value. Why isn&#39;t the single quote character in the\n",
        "word Howl&#39;s not escaped a problem?**\n",
        "\n",
        "**Ans:**In HTML and XML, the characters &quot; and &#39; are used to represent double quotes (\") and single quotes ('), respectively. These are called HTML character entities or named character references. When you see &quot;, it represents a double quote character, and when you see &#39;, it represents a single quote character.\n",
        "\n",
        "In the string \"Howl's Moving Castle,\" the single quote character ' is represented as &#39;, which is the HTML character entity for a single quote. So, even though it appears to be a single quote in the string, it's actually encoded as its HTML entity representation, making it compatible with HTML or XML without needing to be escaped further.\n",
        "\n",
        "Therefore, when using the string \"Howl's Moving Castle\" in an HTML or XML context, there's no need to escape the single quote character because it's already represented using the appropriate HTML character entity &#39;.\n",
        "\n",
        "\n",
        "\n",
        "\n",
        "\n"
      ],
      "metadata": {
        "id": "zJ2sLGxyhimD"
      }
    },
    {
      "cell_type": "markdown",
      "source": [
        "**5. How do you write a string of newlines if you don&#39;t want to use the n character?**\n",
        "\n",
        "**Ans:**\n",
        "If you want to write a string with multiple newlines without using the \\n escape character, you can achieve this by using multiline string literals in some programming languages.\n",
        "\n",
        "For example, in Python, you can create a multiline string by enclosing the text within triple quotes (''' or \"\"\"). Each line break you include within the triple quotes will be preserved in the string. Here's an example:\n"
      ],
      "metadata": {
        "id": "Bf53CdoTh0YK"
      }
    },
    {
      "cell_type": "code",
      "source": [
        "multiline_string  = '''This is a multiline string.\n",
        "It spans multiple lines.\n",
        "Each line is separated by a newline character.'''\n",
        "\n",
        "print(multiline_string )\n",
        "\n",
        "#Using these techniques, you can create strings with newlines without explicitly using the \\n escape character."
      ],
      "metadata": {
        "id": "3mHwnD1mT6dk",
        "colab": {
          "base_uri": "https://localhost:8080/"
        },
        "outputId": "f3e2757f-6f26-4e67-fa3a-fe20e7c7200e"
      },
      "execution_count": 10,
      "outputs": [
        {
          "output_type": "stream",
          "name": "stdout",
          "text": [
            "This is a multiline string.\n",
            "It spans multiple lines.\n",
            "Each line is separated by a newline character.\n"
          ]
        }
      ]
    },
    {
      "cell_type": "markdown",
      "source": [
        "**6. What are the values of the given expressions?**\n",
        "\n",
        "&#39;Hello, world!&#39;[1]\n",
        "\n",
        "&#39;Hello, world!&#39;[0:5]\n",
        "\n",
        "&#39;Hello, world!&#39;[:5]\n",
        "\n",
        "&#39;Hello, world!&#39;[3:]\n",
        "\n",
        "**Ans:**\n",
        "\n",
        "Let's break down each expression:\n",
        "\n",
        "1. 'Hello, world!'[1]: This expression accesses the character at index 1 of the string 'Hello, world!'. In Python, string indexing starts from 0. So, 'Hello, world!'[1] returns the character 'e'.\n",
        "2. 'Hello, world!'[0:5]: This expression is a slice that extracts characters starting from index 0 up to (but not including) index 5 from the string 'Hello, world!'. So, it returns 'Hello'.\n",
        "3. 'Hello, world!'[:5]: This is also a slice that extracts characters from the beginning of the string up to (but not including) index 5. So, it also returns 'Hello'.\n",
        "4. 'Hello, world!'[3:]: This slice extracts characters starting from index 3 to the end of the string. So, it returns 'lo, world!'.\n",
        "So, the values of the given expressions are:\n",
        "\n",
        "    1. 'e'\n",
        "    2. 'Hello'\n",
        "    3. 'Hello'\n",
        "    4. 'lo, world!'\n",
        "\n",
        "\n",
        "\n",
        "\n",
        "\n",
        "\n"
      ],
      "metadata": {
        "id": "lSNyEYBkiUmk"
      }
    },
    {
      "cell_type": "markdown",
      "source": [
        "**7. What are the values of the following expressions?**\n",
        "1. &#39;Hello&#39;.upper()\n",
        "2. &#39;Hello&#39;.upper().isupper()\n",
        "3. &#39;Hello&#39;.upper().lower()\n",
        "\n",
        "**Ans:** Let's evaluate each expression:\n",
        "\n",
        "1. 'Hello'.upper(): This expression converts the string 'Hello' to uppercase, resulting in 'HELLO'.\n",
        "2. 'Hello'.upper().isupper(): Here, 'Hello'.upper() converts the string to uppercase ('HELLO'), and then .isupper() checks if all characters in the string are uppercase. Since they are, it returns True.\n",
        "3. 'Hello'.upper().lower(): This expression first converts 'Hello' to uppercase ('HELLO'), and then .lower() converts it back to lowercase, resulting in 'hello'.\n",
        "So, the values of the given expressions are:\n",
        "\n",
        "  1. 'HELLO'\n",
        "  2.  True\n",
        "  3. 'hello'\n",
        "\n",
        "\n",
        "\n"
      ],
      "metadata": {
        "id": "5UYiHHERjoHQ"
      }
    },
    {
      "cell_type": "code",
      "source": [
        "print('Hello'.upper())\n",
        "print('Hello'.upper().isupper())\n",
        "print('Hello'.upper().lower())"
      ],
      "metadata": {
        "colab": {
          "base_uri": "https://localhost:8080/"
        },
        "id": "lEutkab2mNc0",
        "outputId": "d84f3345-87d8-41bd-d304-a534a3510eca"
      },
      "execution_count": 5,
      "outputs": [
        {
          "output_type": "stream",
          "name": "stdout",
          "text": [
            "HELLO\n",
            "True\n",
            "hello\n"
          ]
        }
      ]
    },
    {
      "cell_type": "markdown",
      "source": [
        "**8. What are the values of the following expressions?**\n",
        "\n",
        "&#39;Remember, remember, the fifth of July.&#39;.split()\n",
        "&#39;-&#39;.\n",
        "\n",
        "join(&#39;There can only one.&#39;.split())\n",
        "\n",
        "**Ans:**\n",
        "Let's evaluate each expression:\n",
        "\n",
        "1. 'Remember, remember, the fifth of July.'.split(): This expression splits the string at whitespace characters (spaces, tabs, newlines, etc.) and returns a list of the individual words. Since no specific separator is provided, it splits on whitespace by default. So, it returns ['Remember,', 'remember,', 'the', 'fifth', 'of', 'July.'].\n",
        "2. ' - '.join('There can only one.'.split()): Here, 'There can only one.'.split() splits the string at whitespace characters and returns a list ['There', 'can', 'only', 'one.']. Then, ' - '.join() joins the elements of this list with the string ' - ' inserted between each element. So, it returns 'There - can - only - one.'.\n",
        "So, the values of the given expressions are:\n",
        "\n",
        "  1.  ['Remember,', 'remember,', 'the', 'fifth', 'of', 'July.']\n",
        "  2.  'There - can - only - one.'\n",
        "\n",
        "\n",
        "\n"
      ],
      "metadata": {
        "id": "2ahnF86okJK7"
      }
    },
    {
      "cell_type": "code",
      "source": [
        "# Expression 1\n",
        "expression_1_result = 'Remember, remember, the fifth of July.'.split()\n",
        "print(expression_1_result)  # Output: ['Remember,', 'remember,', 'the', 'fifth', 'of', 'July.']\n",
        "\n",
        "# Expression 2\n",
        "expression_2_result = '-'.join('There can only one.'.split())\n",
        "print(expression_2_result)  # Output: 'There-can-only-one.'\n"
      ],
      "metadata": {
        "colab": {
          "base_uri": "https://localhost:8080/"
        },
        "id": "su_xRDojnR-y",
        "outputId": "6264dc1c-786c-43d5-8280-8848cb03169a"
      },
      "execution_count": 8,
      "outputs": [
        {
          "output_type": "stream",
          "name": "stdout",
          "text": [
            "['Remember,', 'remember,', 'the', 'fifth', 'of', 'July.']\n",
            "There-can-only-one.\n"
          ]
        }
      ]
    },
    {
      "cell_type": "markdown",
      "source": [
        "**9. What are the methods for right-justifying, left-justifying, and centering a string?**\n",
        "\n",
        "**Ans:**\n",
        "In Python, you can use the following string methods to justify text:\n",
        "\n",
        "Each of these methods takes an integer argument specifying the width of the resulting string. If the specified width is greater than the length of the original string, the method pads the string with spaces on the left (for right-justification), right (for left-justification), or on both sides (for centering) to achieve the desired width. If the specified width is less than or equal to the length of the original string, the methods return the original string unchanged.\n",
        "\n",
        "\n",
        "\n",
        "\n",
        "\n"
      ],
      "metadata": {
        "id": "yDg0wabpkm_C"
      }
    },
    {
      "cell_type": "code",
      "source": [
        "#Right-justifying a string: Use the rjust() method.\n",
        "\n",
        "text = \"Hello\"\n",
        "justified_text = text.rjust(10)  # Right-justifies 'Hello' in a string of length 10\n",
        "print(justified_text)  # Output: '     Hello'\n",
        "\n",
        "#Left-justifying a string: Use the ljust() method.\n",
        "\n",
        "text = \"Hello\"\n",
        "justified_text = text.ljust(10)  # Left-justifies 'Hello' in a string of length 10\n",
        "print(justified_text)  # Output: 'Hello     '\n",
        "\n",
        "#Centering a string: Use the center() method.\n",
        "\n",
        "text = \"Hello\"\n",
        "centered_text = text.center(10)  # Centers 'Hello' in a string of length 10\n",
        "print(centered_text)  # Output: '  Hello   '\n"
      ],
      "metadata": {
        "colab": {
          "base_uri": "https://localhost:8080/"
        },
        "id": "_UY7HhPPiQJG",
        "outputId": "2aaa878b-9b19-4709-9803-9b2e8f48420b"
      },
      "execution_count": 2,
      "outputs": [
        {
          "output_type": "stream",
          "name": "stdout",
          "text": [
            "     Hello\n",
            "Hello     \n",
            "  Hello   \n"
          ]
        }
      ]
    },
    {
      "cell_type": "markdown",
      "source": [
        "**10. What is the best way to remove whitespace characters from the start or end?**\n",
        "\n",
        "**Ans:** The best way to remove whitespace characters (spaces, tabs, newlines, etc.) from the start or end of a string is to use the strip() method in Python. This method removes leading (at the start) and trailing (at the end) whitespace characters from the string.\n",
        "\n",
        "Here's how you can use it:\n",
        "\n",
        "This will remove the leading and trailing whitespace characters from the string \" Hello, world! \" and return \"Hello, world!\".\n",
        "\n",
        "Alternatively, if you only want to remove leading whitespace characters from the start of the string, you can use the lstrip() method. If you only want to remove trailing whitespace characters from the end of the string, you can use the rstrip() method.\n",
        "\n",
        "\n",
        "\n",
        "\n"
      ],
      "metadata": {
        "id": "hP7R7uLSlWFR"
      }
    },
    {
      "cell_type": "code",
      "source": [
        "text = \"   Hello, world!   \"\n",
        "stripped_text = text.strip()\n",
        "print(stripped_text)  # Output: 'Hello, world!'"
      ],
      "metadata": {
        "colab": {
          "base_uri": "https://localhost:8080/"
        },
        "id": "KzE8os54lN_M",
        "outputId": "dbebaaf6-cab8-41ee-8a25-7e6af5b7078e"
      },
      "execution_count": 3,
      "outputs": [
        {
          "output_type": "stream",
          "name": "stdout",
          "text": [
            "Hello, world!\n"
          ]
        }
      ]
    }
  ]
}