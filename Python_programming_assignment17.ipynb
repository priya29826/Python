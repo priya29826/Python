{
  "nbformat": 4,
  "nbformat_minor": 0,
  "metadata": {
    "colab": {
      "provenance": []
    },
    "kernelspec": {
      "name": "python3",
      "display_name": "Python 3"
    },
    "language_info": {
      "name": "python"
    }
  },
  "cells": [
    {
      "cell_type": "markdown",
      "source": [
        "**Question1. Create a function that takes three arguments a, b, c and returns the sum of the\n",
        "numbers that are evenly divided by c from the range a, b inclusive.**\n",
        "\n",
        "**Examples**\n",
        "\n",
        "evenly_divisible(1, 10, 20) ➞ 0\n",
        "#### No number between 1 and 10 can be evenly divided by 20.\n",
        "evenly_divisible(1, 10, 2) ➞ 30\n",
        "#### 2 + 4 + 6 + 8 + 10 = 30\n",
        "evenly_divisible(1, 10, 3) ➞ 18\n",
        "#### 3 + 6 + 9 = 18"
      ],
      "metadata": {
        "id": "5G3GYjXl2vSN"
      }
    },
    {
      "cell_type": "code",
      "source": [
        "def evenly_divisible(a, b, c):\n",
        "    # Initialize the sum\n",
        "    total = 0\n",
        "    # Iterate through the range from a to b inclusive\n",
        "    for num in range(a, b + 1):\n",
        "        # Check if the number is evenly divisible by c\n",
        "        if num % c == 0:\n",
        "            # If so, add it to the total\n",
        "            total += num\n",
        "    return total\n",
        "\n",
        "# Test cases\n",
        "print(evenly_divisible(1, 10, 20))  # ➞ 0\n",
        "print(evenly_divisible(1, 10, 2))   # ➞ 30\n",
        "print(evenly_divisible(1, 10, 3))   # ➞ 18\n"
      ],
      "metadata": {
        "colab": {
          "base_uri": "https://localhost:8080/"
        },
        "id": "uX8USMOr3WzC",
        "outputId": "7e5cc21d-3c76-4fc3-8334-4963fbd03240"
      },
      "execution_count": 6,
      "outputs": [
        {
          "output_type": "stream",
          "name": "stdout",
          "text": [
            "0\n",
            "30\n",
            "18\n"
          ]
        }
      ]
    },
    {
      "cell_type": "markdown",
      "source": [
        "**Question2. Create a function that returns True if a given inequality expression is correct and\n",
        "False otherwise.**\n",
        "\n",
        "**Examples**\n",
        "\n",
        "**correct_signs(&quot;3 &lt; 7 &lt; 11&quot;) ➞ True**\n",
        "\n",
        "**correct_signs(&quot;13 &gt; 44 &gt; 33 &gt; 1&quot;) ➞ False**\n",
        "\n",
        "**correct_signs(&quot;1 &lt; 2 &lt; 6 &lt; 9 &gt; 3&quot;) ➞ True**"
      ],
      "metadata": {
        "id": "-NZVYHo-1G7h"
      }
    },
    {
      "cell_type": "code",
      "source": [
        "def correct_signs(expression):\n",
        "    # Evaluate the expression\n",
        "    return eval(expression)\n",
        "\n",
        "# Test cases\n",
        "print(correct_signs(\"3 < 7 < 11\"))        # ➞ True\n",
        "print(correct_signs(\"13 > 44 > 33 > 1\"))   # ➞ False\n",
        "print(correct_signs(\"1 < 2 < 6 < 9 > 3\"))  # ➞ True\n"
      ],
      "metadata": {
        "colab": {
          "base_uri": "https://localhost:8080/"
        },
        "id": "LCq9QOH72eee",
        "outputId": "218cad38-ff07-4c95-fa19-51673176c4ce"
      },
      "execution_count": 5,
      "outputs": [
        {
          "output_type": "stream",
          "name": "stdout",
          "text": [
            "True\n",
            "False\n",
            "True\n"
          ]
        }
      ]
    },
    {
      "cell_type": "markdown",
      "source": [
        "**Question3. Create a function that replaces all the vowels in a string with a specified character.**\n",
        "\n",
        "**Examples**\n",
        "\n",
        "**replace_vowels(&quot;the aardvark&quot;, &quot;#&quot;) ➞ &quot;th# ##rdv#rk&quot;**\n",
        "\n",
        "**replace_vowels(&quot;minnie mouse&quot;, &quot;?&quot;) ➞ &quot;m?nn?? m??s?&quot;**\n",
        "\n",
        "**replace_vowels(&quot;shakespeare&quot;, &quot;*&quot;) ➞ &quot;sh*k*sp**r*&quot;**\n",
        "\n"
      ],
      "metadata": {
        "id": "4CssqlKr1Ffw"
      }
    },
    {
      "cell_type": "code",
      "source": [
        "def replace_vowels(string, char):\n",
        "    # Define the vowels\n",
        "    vowels = 'aeiouAEIOU'\n",
        "    # Replace each vowel with the specified character\n",
        "    replaced_string = ''.join(char if char.lower() in vowels else c for c in string)\n",
        "    return replaced_string\n",
        "\n",
        "# Test cases\n",
        "print(replace_vowels(\"the aardvark\", \"#\"))  # ➞ \"th# ##rdv#rk\"\n",
        "print(replace_vowels(\"minnie mouse\", \"?\"))  # ➞ \"m?nn?? m??s?\"\n",
        "print(replace_vowels(\"shakespeare\", \"*\"))   # ➞ \"sh*k*sp**r*\"\n"
      ],
      "metadata": {
        "colab": {
          "base_uri": "https://localhost:8080/"
        },
        "id": "nooTDRAc1OUQ",
        "outputId": "d752f858-b8ab-49a6-9dea-e9dffd80e4c6"
      },
      "execution_count": 4,
      "outputs": [
        {
          "output_type": "stream",
          "name": "stdout",
          "text": [
            "the aardvark\n",
            "minnie mouse\n",
            "shakespeare\n"
          ]
        }
      ]
    },
    {
      "cell_type": "markdown",
      "source": [
        "**Question4. Write a function that calculates the factorial of a number recursively.**\n",
        "\n",
        "**Examples**\n",
        "\n",
        "factorial(5) ➞ 120\n",
        "\n",
        "factorial(3) ➞ 6\n",
        "\n",
        "factorial(1) ➞ 1\n",
        "\n",
        "factorial(0) ➞ 1"
      ],
      "metadata": {
        "id": "oGiiXxm004Sx"
      }
    },
    {
      "cell_type": "code",
      "source": [
        "def factorial(n):\n",
        "    # Base case: factorial of 0 or 1 is 1\n",
        "    if n == 0 or n == 1:\n",
        "        return 1\n",
        "    # Recursive case: factorial of n is n multiplied by factorial of n-1\n",
        "    else:\n",
        "        return n * factorial(n - 1)\n",
        "\n",
        "# Test cases\n",
        "print(factorial(5))  # ➞ 120\n",
        "print(factorial(3))  # ➞ 6\n",
        "print(factorial(1))  # ➞ 1\n",
        "print(factorial(0))  # ➞ 1\n"
      ],
      "metadata": {
        "colab": {
          "base_uri": "https://localhost:8080/"
        },
        "id": "ZhBrLrBx1C_J",
        "outputId": "21d47ee8-0c7d-4fb8-aa1f-d8385b6b961b"
      },
      "execution_count": 3,
      "outputs": [
        {
          "output_type": "stream",
          "name": "stdout",
          "text": [
            "120\n",
            "6\n",
            "1\n",
            "1\n"
          ]
        }
      ]
    },
    {
      "cell_type": "markdown",
      "source": [
        "\n",
        "**Question 5\n",
        "Hamming distance is the number of characters that differ between two strings.\n",
        "To illustrate:**\n",
        "\n",
        "String1: &quot;abcbba&quot;\n",
        "\n",
        "String2: &quot;abcbda&quot;\n",
        "\n",
        "**Hamming Distance: 1 - &quot;b&quot; vs. &quot;d&quot; is the only difference.\n",
        "Create a function that computes the hamming distance between two strings.**\n",
        "\n",
        "**Examples**\n",
        "\n",
        "hamming_distance(&quot;abcde&quot;, &quot;bcdef&quot;) ➞ 5\n",
        "\n",
        "hamming_distance(&quot;abcde&quot;, &quot;abcde&quot;) ➞ 0\n",
        "\n",
        "hamming_distance(&quot;strong&quot;, &quot;strung&quot;) ➞ 1"
      ],
      "metadata": {
        "id": "mwGfSq_F0HlB"
      }
    },
    {
      "cell_type": "code",
      "execution_count": 2,
      "metadata": {
        "colab": {
          "base_uri": "https://localhost:8080/"
        },
        "id": "5_ytCvmZz7L6",
        "outputId": "44d4e65a-d5a5-47e1-8b08-f78a0efb5d1b"
      },
      "outputs": [
        {
          "output_type": "stream",
          "name": "stdout",
          "text": [
            "5\n",
            "0\n",
            "1\n"
          ]
        }
      ],
      "source": [
        "def hamming_distance(str1, str2):\n",
        "    # Check if the strings have equal length\n",
        "    if len(str1) != len(str2):\n",
        "        return \"Strings must be of equal length\"\n",
        "\n",
        "    # Initialize the distance counter\n",
        "    distance = 0\n",
        "\n",
        "    # Iterate through each character in the strings\n",
        "    for i in range(len(str1)):\n",
        "        # If characters at the same index are different, increment distance\n",
        "        if str1[i] != str2[i]:\n",
        "            distance += 1\n",
        "\n",
        "    return distance\n",
        "\n",
        "# Test cases\n",
        "print(hamming_distance(\"abcde\", \"bcdef\"))\n",
        "print(hamming_distance(\"abcde\", \"abcde\"))\n",
        "print(hamming_distance(\"strong\", \"strung\"))\n"
      ]
    }
  ]
}