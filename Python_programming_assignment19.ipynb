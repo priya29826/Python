{
  "nbformat": 4,
  "nbformat_minor": 0,
  "metadata": {
    "colab": {
      "provenance": []
    },
    "kernelspec": {
      "name": "python3",
      "display_name": "Python 3"
    },
    "language_info": {
      "name": "python"
    }
  },
  "cells": [
    {
      "cell_type": "markdown",
      "source": [
        "**Question1:\n",
        "Create a function that takes a string and returns a string in which each character is repeated\n",
        "once.**\n",
        "\n",
        "**Examples**\n",
        "\n",
        "double_char(&quot;String&quot;) ➞ &quot;SSttrriinngg&quot;\n",
        "\n",
        "double_char(&quot;Hello World!&quot;) ➞ &quot;HHeelllloo WWoorrlldd!!&quot;\n",
        "\n",
        "double_char(&quot;1234!_ &quot;) ➞ &quot;11223344!!__ &quot;"
      ],
      "metadata": {
        "id": "fW90_w1ULMlD"
      }
    },
    {
      "cell_type": "code",
      "execution_count": 3,
      "metadata": {
        "colab": {
          "base_uri": "https://localhost:8080/"
        },
        "id": "5wLZbGWJJt7a",
        "outputId": "5cdd8307-f872-40d3-e19c-6ba7bf4bab01"
      },
      "outputs": [
        {
          "output_type": "stream",
          "name": "stdout",
          "text": [
            "SSttrriinngg\n",
            "HHeelllloo  WWoorrlldd!!\n",
            "11223344!!__  \n"
          ]
        }
      ],
      "source": [
        "def double_char(string):\n",
        "    return ''.join(char * 2 for char in string)\n",
        "\n",
        "# Test cases\n",
        "print(double_char(\"String\"))      # ➞ \"SSttrriinngg\"\n",
        "print(double_char(\"Hello World!\"))# ➞ \"HHeelllloo WWoorrlldd!!\"\n",
        "print(double_char(\"1234!_ \"))     # ➞ \"11223344!!__ \"\n"
      ]
    },
    {
      "cell_type": "markdown",
      "source": [
        "**Question2:\n",
        "Create a function that reverses a boolean value and returns the string &quot;boolean expected&quot;\n",
        "if another variable type is given.**\n",
        "\n",
        "**Examples**\n",
        "\n",
        "reverse(True) ➞ False\n",
        "\n",
        "reverse(False) ➞ True\n",
        "\n",
        "reverse(0) ➞ &quot;boolean expected&quot;\n",
        "\n",
        "reverse(None) ➞ &quot;boolean expected&quot;"
      ],
      "metadata": {
        "id": "NV5qnhYbLORn"
      }
    },
    {
      "cell_type": "code",
      "source": [
        "def reverse(boolean):\n",
        "    if isinstance(boolean, bool):\n",
        "        return not boolean\n",
        "    else:\n",
        "        return \"boolean expected\"\n",
        "\n",
        "# Test cases\n",
        "print(reverse(True))   # ➞ False\n",
        "print(reverse(False))  # ➞ True\n",
        "print(reverse(0))      # ➞ \"boolean expected\"\n",
        "print(reverse(None))   # ➞ \"boolean expected\"\n"
      ],
      "metadata": {
        "colab": {
          "base_uri": "https://localhost:8080/"
        },
        "id": "BFNsGYa7LRbG",
        "outputId": "3307c8c2-0d06-421e-da94-8ee3a5621633"
      },
      "execution_count": 4,
      "outputs": [
        {
          "output_type": "stream",
          "name": "stdout",
          "text": [
            "False\n",
            "True\n",
            "boolean expected\n",
            "boolean expected\n"
          ]
        }
      ]
    },
    {
      "cell_type": "markdown",
      "source": [
        "**Question3\n",
        "Create a function that returns the thickness (in meters) of a piece of paper after folding it n\n",
        "number of times. The paper starts off with a thickness of 0.5mm.**\n",
        "\n",
        "**Examples**\n",
        "\n",
        "num_layers(1) ➞ &quot;0.001m&quot;\n",
        "\n",
        "#### Paper folded once is 1mm (equal to 0.001m)\n",
        "\n",
        "num_layers(4) ➞ &quot;0.008m&quot;\n",
        "\n",
        "#### Paper folded 4 times is 8mm (equal to 0.008m)\n",
        "\n",
        "num_layers(21) ➞ &quot;1048.576m&quot;\n",
        "\n",
        "#### Paper folded 21 times is 1048576mm (equal to 1048.576m)"
      ],
      "metadata": {
        "id": "6hGeVmGMLYl4"
      }
    },
    {
      "cell_type": "code",
      "source": [
        "def num_layers(n):\n",
        "    thickness_mm = 0.5 * 2**n\n",
        "    thickness_m = thickness_mm / 1000  # Convert mm to meters\n",
        "    return \"{:.3f}m\".format(thickness_m)\n",
        "\n",
        "# Test cases\n",
        "print(num_layers(1))   # ➞ \"0.001m\"\n",
        "print(num_layers(4))   # ➞ \"0.008m\"\n",
        "print(num_layers(21))  # ➞ \"1048.576m\"\n"
      ],
      "metadata": {
        "colab": {
          "base_uri": "https://localhost:8080/"
        },
        "id": "Te-uw2ETLU01",
        "outputId": "d56ae35f-f5c8-4a84-e845-ab98fd2b4d3b"
      },
      "execution_count": 5,
      "outputs": [
        {
          "output_type": "stream",
          "name": "stdout",
          "text": [
            "0.001m\n",
            "0.008m\n",
            "1048.576m\n"
          ]
        }
      ]
    },
    {
      "cell_type": "markdown",
      "source": [
        "**Question4: Create a function that takes a single string as argument and returns an ordered list containing\n",
        "the indices of all capital letters in the string.**\n",
        "\n",
        "**Examples**\n",
        "\n",
        "index_of_caps(&quot;eDaBiT&quot;) ➞ [1, 3, 5]\n",
        "\n",
        "index_of_caps(&quot;eQuINoX&quot;) ➞ [1, 3, 4, 6]\n",
        "\n",
        "index_of_caps(&quot;determine&quot;) ➞ []\n",
        "\n",
        "index_of_caps(&quot;STRIKE&quot;) ➞ [0, 1, 2, 3, 4, 5]\n",
        "\n",
        "index_of_caps(&quot;sUn&quot;) ➞ [1]"
      ],
      "metadata": {
        "id": "rDmPQ39ALfY1"
      }
    },
    {
      "cell_type": "code",
      "source": [
        "def index_of_caps(word):\n",
        "    return [i for i, char in enumerate(word) if char.isupper()]\n",
        "\n",
        "# Test cases\n",
        "print(index_of_caps(\"eDaBiT\"))   # ➞ [1, 3, 5]\n",
        "print(index_of_caps(\"eQuINoX\"))  # ➞ [1, 3, 4, 6]\n",
        "print(index_of_caps(\"determine\")) # ➞ []\n",
        "print(index_of_caps(\"STRIKE\"))    # ➞ [0, 1, 2, 3, 4, 5]\n",
        "print(index_of_caps(\"sUn\"))       # ➞ [1]\n"
      ],
      "metadata": {
        "colab": {
          "base_uri": "https://localhost:8080/"
        },
        "id": "QUEGiptvLf3P",
        "outputId": "8e11c52f-79b7-45c1-d249-b503ebfc5c5c"
      },
      "execution_count": 2,
      "outputs": [
        {
          "output_type": "stream",
          "name": "stdout",
          "text": [
            "[1, 3, 5]\n",
            "[1, 3, 4, 6]\n",
            "[]\n",
            "[0, 1, 2, 3, 4, 5]\n",
            "[1]\n"
          ]
        }
      ]
    },
    {
      "cell_type": "markdown",
      "source": [
        "**Question5:\n",
        "Using list comprehensions, create a function that finds all even numbers from 1 to the given\n",
        "number.**\n",
        "\n",
        "**Examples**\n",
        "\n",
        "find_even_nums(8) ➞ [2, 4, 6, 8]\n",
        "\n",
        "find_even_nums(4) ➞ [2, 4]\n",
        "\n",
        "find_even_nums(2) ➞ [2]"
      ],
      "metadata": {
        "id": "2m0ySAaNLk9B"
      }
    },
    {
      "cell_type": "code",
      "source": [
        "def find_even_nums(n):\n",
        "    return [i for i in range(1, n+1) if i % 2 == 0]\n",
        "\n",
        "# Test cases\n",
        "print(find_even_nums(8))  # ➞ [2, 4, 6, 8]\n",
        "print(find_even_nums(4))  # ➞ [2, 4]\n",
        "print(find_even_nums(2))  # ➞ [2]\n"
      ],
      "metadata": {
        "colab": {
          "base_uri": "https://localhost:8080/"
        },
        "id": "QbCfXXk7Lnfg",
        "outputId": "c34be9d8-6f31-48fc-9227-1f91d1cd4708"
      },
      "execution_count": 1,
      "outputs": [
        {
          "output_type": "stream",
          "name": "stdout",
          "text": [
            "[2, 4, 6, 8]\n",
            "[2, 4]\n",
            "[2]\n"
          ]
        }
      ]
    },
    {
      "cell_type": "code",
      "source": [],
      "metadata": {
        "id": "M7tlWMdaL8pH"
      },
      "execution_count": null,
      "outputs": []
    }
  ]
}