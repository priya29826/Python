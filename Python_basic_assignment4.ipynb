{
  "nbformat": 4,
  "nbformat_minor": 0,
  "metadata": {
    "colab": {
      "provenance": []
    },
    "kernelspec": {
      "name": "python3",
      "display_name": "Python 3"
    },
    "language_info": {
      "name": "python"
    }
  },
  "cells": [
    {
      "cell_type": "markdown",
      "source": [
        "**1. What exactly is []?**\n",
        "\n",
        "**Ans:**\n",
        "In Python, [] represents an empty list. It is a built-in data structure used to store a collection of elements. An empty list contains no elements and has a length of zero.\n",
        "\n",
        "You can create an empty list by simply using a pair of square brackets with no elements inside:\n",
        "\n",
        "Empty lists are commonly used as placeholders to store data dynamically or as initial values for lists that will be populated later in the program. They can also be used to represent the absence of elements or to initialize lists in situations where you don't have any initial data to include."
      ],
      "metadata": {
        "id": "EjNOiGvKx2HX"
      }
    },
    {
      "cell_type": "code",
      "source": [
        "empty_list = []\n"
      ],
      "metadata": {
        "id": "wYCi7Nfzy85n"
      },
      "execution_count": 14,
      "outputs": []
    },
    {
      "cell_type": "markdown",
      "source": [
        "**2. In a list of values stored in a variable called spam, how would you assign the value &#39;hello&#39; as the\n",
        "third value? (Assume [2, 4, 6, 8, 10] are in spam.)**\n",
        "\n",
        "**Let&#39;s pretend the spam includes the list [&#39;a&#39;, &#39;b&#39;, &#39;c&#39;, &#39;d&#39;] for the next three queries.**\n",
        "\n",
        "**Ans:**\n",
        "To assign the value 'hello' as the third value in the list stored in the variable spam, you can use list indexing and assignment. Here's how you can do it:\n",
        "\n",
        "In this example, spam[2] = 'hello' assigns the value 'hello' to the element at index 2, which is the third value in the list. Therefore, the resulting list becomes [2, 4, 'hello', 8, 10]."
      ],
      "metadata": {
        "id": "E8ypuKcLxnA3"
      }
    },
    {
      "cell_type": "code",
      "source": [
        "spam = [2, 4, 6, 8, 10]\n",
        "spam[2] = 'hello'\n",
        "print(spam)\n"
      ],
      "metadata": {
        "colab": {
          "base_uri": "https://localhost:8080/"
        },
        "id": "UWyXA2HYyF16",
        "outputId": "ce517a6b-d24c-4490-8959-7a6ef292701b"
      },
      "execution_count": 13,
      "outputs": [
        {
          "output_type": "stream",
          "name": "stdout",
          "text": [
            "[2, 4, 'hello', 8, 10]\n"
          ]
        }
      ]
    },
    {
      "cell_type": "markdown",
      "source": [
        "**3. What is the value of spam[int(int(&#39;3&#39; * 2) / 11)]?**\n",
        "\n",
        "**Ans:** The expression spam[int(int('3' * 2) / 11)]:\n",
        "\n",
        "1. '3' * 2 evaluates to the string '33'.\n",
        "2. int('33') converts the string '33' to the integer 33.\n",
        "3. int('33') / 11 evaluates to 33 / 11, which is 3.0 (floating point division).\n",
        "4. int(3.0) converts 3.0 to the integer 3.\n",
        "\n",
        "Given the expression spam[int(int('3' * 2) / 11)], it becomes spam[3].\n",
        "\n",
        "However, since you mentioned bacon for the next three questions, let's use bacon instead of spam. So, in the context of the list bacon = [3.14, 'cat', 11, 'cat', True], bacon[3] will retrieve the element at index 3, which is 'cat'.\n",
        "\n",
        "Therefore, the value of bacon[int(int('3' * 2) / 11)] is 'cat'."
      ],
      "metadata": {
        "id": "hlMvrzXgwgwm"
      }
    },
    {
      "cell_type": "code",
      "source": [],
      "metadata": {
        "id": "hhMMhA4Exl4W"
      },
      "execution_count": 12,
      "outputs": []
    },
    {
      "cell_type": "code",
      "source": [
        "bacon = [3.14, 'cat', 11, 'cat', True]\n",
        "print(bacon[3])  # Output: 'cat'\n"
      ],
      "metadata": {
        "id": "ugHpLo3SxljG"
      },
      "execution_count": null,
      "outputs": []
    },
    {
      "cell_type": "markdown",
      "source": [
        "**4. What is the value of spam[-1]?**\n",
        "\n",
        "**Ans:**\n",
        "The expression spam[-1] retrieves the last element of the list spam.\n",
        "\n",
        "Since you mentioned bacon for the next three questions, let's use bacon instead of spam. Given the list bacon = [3.14, 'cat', 11, 'cat', True], bacon[-1] will return the last element of the list:\n",
        "\n",
        "So, the value of bacon[-1] is True, which is the last element of the list bacon.\n",
        "\n",
        "\n",
        "\n",
        "\n"
      ],
      "metadata": {
        "id": "KuEfm44mwMiy"
      }
    },
    {
      "cell_type": "code",
      "source": [
        "bacon = [3.14, 'cat', 11, 'cat', True]\n",
        "print(bacon[-1])\n"
      ],
      "metadata": {
        "colab": {
          "base_uri": "https://localhost:8080/"
        },
        "id": "AcGLaqkDwdgp",
        "outputId": "8966ea35-5c13-4773-9c6d-844da3d3afe6"
      },
      "execution_count": 12,
      "outputs": [
        {
          "output_type": "stream",
          "name": "stdout",
          "text": [
            "True\n"
          ]
        }
      ]
    },
    {
      "cell_type": "markdown",
      "source": [
        "**5. What is the value of spam[:2]?**\n",
        "\n",
        "**Let&#39;s pretend bacon has the list [3.14, &#39;cat,&#39; 11, &#39;cat,&#39; True] for the next three questions.**\n",
        "\n",
        "**Ans:**\n",
        "The expression spam[:2] retrieves a sublist of the list spam containing elements from index 0 up to, but not including, index 2. It effectively selects the first two elements of the list.\n",
        "\n",
        "However, you mentioned bacon for the next three questions, so let's use bacon instead of spam. Given the list bacon = [3.14, 'cat', 11, 'cat', True], bacon[:2] will return the sublist containing the first two elements:\n",
        "\n",
        "So, the value of bacon[:2] is [3.14, 'cat']. It includes the elements at index 0 and index 1 (up to, but not including index 2).\n",
        "\n",
        "\n",
        "\n",
        "\n"
      ],
      "metadata": {
        "id": "8MKu0bMdvyR-"
      }
    },
    {
      "cell_type": "code",
      "source": [
        "bacon = [3.14, 'cat', 11, 'cat', True]\n",
        "print(bacon[:2])  # Output: [3.14, 'cat']\n"
      ],
      "metadata": {
        "colab": {
          "base_uri": "https://localhost:8080/"
        },
        "id": "pVbhoEMyvx6Z",
        "outputId": "930444c0-d211-4df1-be4f-015b18a85b0c"
      },
      "execution_count": 11,
      "outputs": [
        {
          "output_type": "stream",
          "name": "stdout",
          "text": [
            "[3.14, 'cat']\n"
          ]
        }
      ]
    },
    {
      "cell_type": "markdown",
      "source": [
        "**6. What is the value of bacon.index(&#39;cat&#39;)?**\n",
        "\n",
        "**Ans:** The value of bacon.index('cat') returns the index of the first occurrence of the string 'cat' in the list bacon. If 'cat' is present in the list, it will return the index of its first occurrence. If 'cat' is not found in the list, it will raise a ValueError.\n",
        "\n",
        "In this example, 'cat' is present in the list bacon, and its first occurrence is at index 1. Therefore, bacon.index('cat') returns 1.\n",
        "\n",
        "\n",
        "\n",
        "\n",
        "\n"
      ],
      "metadata": {
        "id": "vIHNS9B5vBBQ"
      }
    },
    {
      "cell_type": "code",
      "source": [
        "bacon = [42, 'cat', 7, 'cat', 99]\n",
        "index_of_cat = bacon.index('cat')\n",
        "print(index_of_cat)\n"
      ],
      "metadata": {
        "colab": {
          "base_uri": "https://localhost:8080/"
        },
        "id": "Mc5Opt9Avup0",
        "outputId": "40a387ea-2f9a-4f47-8b75-fd090656c19f"
      },
      "execution_count": 10,
      "outputs": [
        {
          "output_type": "stream",
          "name": "stdout",
          "text": [
            "1\n"
          ]
        }
      ]
    },
    {
      "cell_type": "markdown",
      "source": [
        "**7. How does bacon.append(99) change the look of the list value in bacon?**\n",
        "\n",
        "**Ans:**\n",
        "The expression bacon.append(99) adds the integer 99 to the end of the list bacon. It modifies the list by appending the new element to the existing elements, effectively extending the list.\n",
        "\n",
        "In this example, 99 is appended to the end of the list bacon, so the resulting list becomes [42, 'cat', 7, 99]. The original list is modified, and the new element is added after the existing elements."
      ],
      "metadata": {
        "id": "41l803YRuqns"
      }
    },
    {
      "cell_type": "code",
      "source": [
        "bacon = [42, 'cat', 7]\n",
        "bacon.append(99)\n",
        "print(bacon)\n"
      ],
      "metadata": {
        "colab": {
          "base_uri": "https://localhost:8080/"
        },
        "id": "w3EUrC6Au9vY",
        "outputId": "903f8c32-8025-422d-cab0-85bf4eb97eda"
      },
      "execution_count": 9,
      "outputs": [
        {
          "output_type": "stream",
          "name": "stdout",
          "text": [
            "[42, 'cat', 7, 99]\n"
          ]
        }
      ]
    },
    {
      "cell_type": "markdown",
      "source": [
        "**8. How does bacon.remove(&#39;cat&#39;) change the look of the list in bacon?**\n",
        "\n",
        "**Ans:**\n",
        "The expression bacon.remove('cat') removes the first occurrence of the string 'cat' from the list bacon. If 'cat' is present in the list, it will be removed, altering the list by deleting that particular element. If 'cat' is not present in the list, it will raise a ValueError because Python cannot find the specified value to remove.\n",
        "\n",
        "In this example, 'cat' is removed from the list bacon, so the resulting list contains only 'dog' and 'bat'. The order of the remaining elements is preserved, and only the first occurrence of 'cat' is removed.\n",
        "\n",
        "\n",
        "\n",
        "\n",
        "\n"
      ],
      "metadata": {
        "id": "XcxdsZeOuUJM"
      }
    },
    {
      "cell_type": "code",
      "source": [
        "bacon = ['dog', 'cat', 'bat']\n",
        "bacon.remove('cat')\n",
        "print(bacon)\n"
      ],
      "metadata": {
        "colab": {
          "base_uri": "https://localhost:8080/"
        },
        "id": "s4gcDd0num5q",
        "outputId": "d79d68e3-d276-4696-ebbf-3b11125fcc07"
      },
      "execution_count": 8,
      "outputs": [
        {
          "output_type": "stream",
          "name": "stdout",
          "text": [
            "['dog', 'bat']\n"
          ]
        }
      ]
    },
    {
      "cell_type": "markdown",
      "source": [
        "**9. What are the list concatenation and list replication operators?**\n",
        "\n",
        "**Ans:**  the list concatenation operator is +, and the list replication operator is *.\n",
        "\n",
        "**List Concatenation Operator (+):**\n",
        "\n",
        "* The + operator is used to concatenate (join) two or more lists, creating a new list that contains all the elements of the concatenated lists.\n",
        "* Syntax: list1 + list2\n",
        "\n",
        "**List Replication Operator (*):**\n",
        "\n",
        "* The * operator is used to replicate a list a specified number of times, creating a new list that contains multiple copies of the original list's elements.\n",
        "* Syntax: list * n or n * list\n",
        "\n",
        "These operators provide convenient ways to manipulate lists in Python, allowing you to concatenate lists together or replicate lists as needed.\n",
        "\n",
        "\n",
        "\n",
        "\n",
        "\n"
      ],
      "metadata": {
        "id": "E-r0AYxAtfFb"
      }
    },
    {
      "cell_type": "code",
      "source": [
        "#List Concatenation Operator (+):\n",
        "\n",
        "list1 = [1, 2, 3]\n",
        "list2 = [4, 5, 6]\n",
        "concatenated_list = list1 + list2\n",
        "print(concatenated_list)\n",
        "\n",
        "#List Replication Operator (*):\n",
        "\n",
        "original_list = [1, 2, 3]\n",
        "replicated_list = original_list * 3\n",
        "print(replicated_list)\n"
      ],
      "metadata": {
        "colab": {
          "base_uri": "https://localhost:8080/"
        },
        "id": "h5q5-UlEt_vw",
        "outputId": "4ef54d22-38ce-4444-858b-c6cf48e11e6e"
      },
      "execution_count": 7,
      "outputs": [
        {
          "output_type": "stream",
          "name": "stdout",
          "text": [
            "[1, 2, 3, 4, 5, 6]\n",
            "[1, 2, 3, 1, 2, 3, 1, 2, 3]\n"
          ]
        }
      ]
    },
    {
      "cell_type": "markdown",
      "source": [
        "**10. What is difference between the list methods append() and insert()?**\n",
        "\n",
        "**Ans:**\n",
        "The append() and insert() methods are both used to add elements to a list in Python, but they differ in how they add elements and where they add them within the list:\n",
        "\n",
        "**1. append() Method:**\n",
        "\n",
        "* The append() method adds a single element to the end of the list.\n",
        "* Syntax: list.append(element)\n",
        "* append() is commonly used when you want to add an element to the end of a list without specifying its position explicitly.\n",
        "\n",
        "**2. insert() Method:**\n",
        "\n",
        "* The insert() method adds a single element to the list at a specified position (index).\n",
        "* Syntax: list.insert(index, element)\n",
        "* insert() allows you to specify the index where you want to insert the element. The element at the specified index and all subsequent elements are shifted to the right.\n",
        "\n",
        "In summary, append() adds an element to the end of the list, while insert() allows you to specify the position where you want to insert the element. The choice between the two methods depends on whether you want to add elements to the end of the list or at a specific position within the list.\n",
        "\n",
        "\n",
        "\n",
        "\n"
      ],
      "metadata": {
        "id": "LV7YIQGfsQ5e"
      }
    },
    {
      "cell_type": "code",
      "source": [
        "#append() Method:\n",
        "\n",
        "my_list = [1, 2, 3]\n",
        "my_list.append(4)  # Adds 4 to the end of the list\n",
        "print(my_list)\n",
        "\n",
        "#insert() Method:\n",
        "\n",
        "my_list = [1, 2, 3]\n",
        "my_list.insert(1, 4)  # Inserts 4 at index 1\n",
        "print(my_list)\n"
      ],
      "metadata": {
        "colab": {
          "base_uri": "https://localhost:8080/"
        },
        "id": "oOyEe6Wbs7rZ",
        "outputId": "aace488c-5bb2-40c8-94db-6f8bf947c267"
      },
      "execution_count": 6,
      "outputs": [
        {
          "output_type": "stream",
          "name": "stdout",
          "text": [
            "[1, 2, 3, 4]\n",
            "[1, 4, 2, 3]\n"
          ]
        }
      ]
    },
    {
      "cell_type": "markdown",
      "source": [
        "**11. What are the two methods for removing items from a list?**\n",
        "\n",
        "**Ans:**\n",
        "In Python, there are two primary methods for removing items from a list:\n",
        "\n",
        "**1. Using the remove() Method:**\n",
        "\n",
        "* The remove() method is used to remove the first occurrence of a specified value from the list.\n",
        "* Syntax: list.remove(value)\n",
        "\n",
        "**2. Using the pop() Method:**\n",
        "\n",
        "* The pop() method is used to remove and return the element at a specified index (or the last element if no index is provided).\n",
        "* Syntax: list.pop(index)\n",
        "* If no index is provided, pop() removes and returns the last element of the list.\n",
        "\n",
        "If you don't need the removed element, you can simply call list.pop(index) without assigning its return value to a variable.\n",
        "Both methods offer different functionalities for removing items from a list, allowing you to choose the appropriate one based on your specific requirements.\n",
        "\n",
        "\n",
        "\n",
        "\n"
      ],
      "metadata": {
        "id": "EUUcQVAgo0LT"
      }
    },
    {
      "cell_type": "code",
      "source": [
        "#Using the remove() Method:\n",
        "my_list = [1, 2, 3, 4, 3]\n",
        "my_list.remove(3)  # Removes the first occurrence of 3\n",
        "print(my_list)\n",
        "\n",
        "#Using the pop() Method:\n",
        "my_list = [1, 2, 3, 4]\n",
        "popped_element = my_list.pop(1)  # Removes and returns the element at index 1 (2)\n",
        "print(my_list)\n",
        "print(popped_element)\n",
        "\n"
      ],
      "metadata": {
        "colab": {
          "base_uri": "https://localhost:8080/"
        },
        "id": "A63es7H_r8hN",
        "outputId": "359f5342-58d9-4e33-8fe9-187c79337cb9"
      },
      "execution_count": 5,
      "outputs": [
        {
          "output_type": "stream",
          "name": "stdout",
          "text": [
            "[1, 2, 4, 3]\n",
            "[1, 3, 4]\n",
            "2\n"
          ]
        }
      ]
    },
    {
      "cell_type": "markdown",
      "source": [
        "**12. Describe how list values and string values are identical.**\n",
        "\n",
        "**Ans:**\n",
        "List values and string values in Python share several similarities:\n",
        "\n",
        "1. **Sequential Data Structures:** Both lists and strings are sequential data structures, meaning they store a collection of elements in a specific order. Elements in both lists and strings can be accessed by their index.\n",
        "\n",
        "2. **Indexing and Slicing:** You can access individual elements within both lists and strings using indexing and slicing. For example, my_list[0] would access the first element of a list, and my_string[0] would access the first character of a string.\n",
        "\n",
        "3. **Iteration:** You can iterate over both lists and strings using loops, such as for loops, to access each element or character in sequence.\n",
        "\n",
        "4. **Concatenation:** Both lists and strings support concatenation. You can combine multiple lists or strings into a single list or string using the + operator.\n",
        "\n",
        "5. **Length:** You can determine the length (i.e., the number of elements or characters) of both lists and strings using the len() function.\n",
        "\n",
        "6. **Membership Testing:** You can check whether an element or character exists in both lists and strings using the in operator.\n",
        "\n",
        "7. **Immutable and Mutable Versions:** While strings are immutable (they cannot be modified after creation), lists are mutable (their elements can be changed, added, or removed).\n",
        "Despite these similarities, there are also some key differences between lists and strings, such as their mutability, the type of elements they contain, and the methods and operations specific to each data type. However, their shared characteristics make them versatile data structures that are widely used in Python programming."
      ],
      "metadata": {
        "id": "G_MW7IL5nYXB"
      }
    },
    {
      "cell_type": "markdown",
      "source": [
        "**13. What&#39;s the difference between tuples and lists?**\n",
        "\n",
        "**Ans:** Tuples and lists are both data structures in Python, but they have several differences:\n",
        "\n",
        "**1. Mutability:**\n",
        "\n",
        "* Lists are mutable, meaning you can change, add, or remove elements after the list has been created.\n",
        "* Tuples are immutable, meaning once they are created, their elements cannot be changed, added, or removed.\n",
        "\n",
        "**2. Syntax:**\n",
        "\n",
        "* Lists are enclosed in square brackets [], while tuples are enclosed in parentheses ().\n",
        "* For example, my_list = [1, 2, 3] is a list, and my_tuple = (1, 2, 3) is a tuple.\n",
        "\n",
        "**3. Performance:**\n",
        "\n",
        "* Due to their immutability, tuples are generally faster than lists when it comes to accessing elements and iterating over them.\n",
        "* Lists, being mutable, might require more memory and operations to maintain, especially for large datasets or when frequently modifying elements.\n",
        "\n",
        "**4. Usage:**\n",
        "\n",
        "* Lists are commonly used when you need a collection of items that can be modified, such as when you're maintaining a dynamic list of items or performing operations like sorting or appending.\n",
        "* Tuples are often used for fixed collections of items, such as storing coordinates, representing fixed data structures, or when you want to ensure that the data remains constant throughout the program.\n",
        "\n",
        "**5. Return Values:**\n",
        "\n",
        "* Functions and methods in Python often return tuples to represent multiple return values, as tuples provide a convenient way to group different values together.\n",
        "* Lists are not typically used for returning multiple values because they are mutable and can be changed outside the function, potentially leading to unintended consequences.\n",
        "\n",
        "In summary, use lists when you need a mutable collection of items, and use tuples when you want an immutable collection of items or when you need to ensure that the data remains constant.\n",
        "\n",
        "\n",
        "\n",
        "\n",
        "\n"
      ],
      "metadata": {
        "id": "cVtA8EhXmpSc"
      }
    },
    {
      "cell_type": "markdown",
      "source": [
        "**14. How do you type a tuple value that only contains the integer 42?**\n",
        "\n",
        "**Ans:**\n",
        "To type a tuple value that only contains the integer 42, you can use the following notation in Python:\n",
        "\n",
        "\n",
        "In this notation:\n",
        "\n",
        "* tuple[int] specifies that the tuple contains integers.\n",
        "* (42,) represents a tuple with a single element, the integer 42. Note the comma after 42; it is required to distinguish a tuple from a parenthesized expression.\n",
        "\n",
        "This type annotation ensures that tuple_value is a tuple containing only integers, providing type hints to aid in code readability and maintainability."
      ],
      "metadata": {
        "id": "-bvmjBOYmNzZ"
      }
    },
    {
      "cell_type": "code",
      "source": [
        "tuple_value: tuple[int] = (42,)\n"
      ],
      "metadata": {
        "id": "d6ODKImZmmeT"
      },
      "execution_count": 4,
      "outputs": []
    },
    {
      "cell_type": "markdown",
      "source": [
        "**15. How do you get a list value&#39;s tuple form? How do you get a tuple value&#39;s list form?**\n",
        "\n",
        "**Ans:**\n",
        "To convert a list value to its tuple form in Python, you can use the tuple() function. This function takes an iterable (such as a list) as its argument and returns a tuple containing the same elements as the iterable.\n",
        "\n",
        "To convert a tuple value to its list form, you can use the list() function. This function takes an iterable (such as a tuple) as its argument and returns a list containing the same elements as the iterable.\n",
        "\n",
        "\n",
        "These functions allow you to convert between lists and tuples in Python easily. Keep in mind that while tuples are immutable (their elements cannot be changed), lists are mutable (their elements can be modified). Therefore, the resulting tuple or list will retain the immutability or mutability properties of the original data structure.\n",
        "\n",
        "\n",
        "\n",
        "\n"
      ],
      "metadata": {
        "id": "3RNrPRLnlgGh"
      }
    },
    {
      "cell_type": "code",
      "source": [
        "#list to tuple\n",
        "my_list = [1, 2, 3, 4, 5]\n",
        "tuple_form = tuple(my_list)\n",
        "print(tuple_form)\n",
        "\n",
        "\n",
        "\n",
        "#tuple to list\n",
        "my_tuple = (1, 2, 3, 4, 5)\n",
        "list_form = list(my_tuple)\n",
        "print(list_form)\n"
      ],
      "metadata": {
        "colab": {
          "base_uri": "https://localhost:8080/"
        },
        "id": "CmK0N2Bol2Ee",
        "outputId": "d778980c-feec-49d2-987b-b15844f07f19"
      },
      "execution_count": 3,
      "outputs": [
        {
          "output_type": "stream",
          "name": "stdout",
          "text": [
            "(1, 2, 3, 4, 5)\n",
            "[1, 2, 3, 4, 5]\n"
          ]
        }
      ]
    },
    {
      "cell_type": "markdown",
      "source": [
        "**16. Variables that &quot;contain&quot; list values are not necessarily lists themselves. Instead, what do they\n",
        "contain?**\n",
        "\n",
        "**Ans:** Variables that \"contain\" list values in Python do not actually contain the list itself. Instead, they contain references or pointers to the list object in memory. In Python, everything is an object, including lists, and variables are simply labels or names that point to those objects in memory.\n",
        "\n",
        "When you assign a list to a variable, you are essentially storing the memory address of the list object in that variable. This means that if you assign the same list to multiple variables, they will all reference the same list object in memory. Changes made to the list through one variable will be reflected in all other variables that reference the same list object."
      ],
      "metadata": {
        "id": "nyES-bOflRFr"
      }
    },
    {
      "cell_type": "code",
      "source": [
        "# Creating a list\n",
        "my_list = [1, 2, 3]\n",
        "\n",
        "# Assigning the list to another variable\n",
        "another_list = my_list\n",
        "\n",
        "# Modifying the list through one variable\n",
        "my_list.append(4)\n",
        "\n",
        "# Accessing the modified list through another variable\n",
        "print(another_list)\n"
      ],
      "metadata": {
        "colab": {
          "base_uri": "https://localhost:8080/"
        },
        "id": "NvFfwFuoldln",
        "outputId": "5f16f50b-a3a8-4ebb-a610-b56481588096"
      },
      "execution_count": 2,
      "outputs": [
        {
          "output_type": "stream",
          "name": "stdout",
          "text": [
            "[1, 2, 3, 4]\n"
          ]
        }
      ]
    },
    {
      "cell_type": "markdown",
      "source": [
        "**17. How do you distinguish between copy.copy() and copy.deepcopy()?**\n",
        "\n",
        "**Ans:** copy.copy() and copy.deepcopy() are both functions provided by Python's copy module for creating copies of objects. However, they differ in the depth of the copying process:\n",
        "\n",
        "**1. copy.copy():** This function creates a shallow copy of an object. Shallow copy means that it constructs a new compound object and then (to the extent possible) inserts references into it to the objects found in the original. In essence, it duplicates the outermost structure of the object, but the inner objects are still shared between the original and the copy. Shallow copies are generally faster and require less memory compared to deep copies.\n",
        "\n",
        "**2. copy.deepcopy():** This function creates a deep copy of an object. Deep copy means that it constructs a new compound object and then, recursively, inserts copies into it of the objects found in the original. In other words, it duplicates both the outermost structure and all nested objects within it. Deep copies ensure that changes made to the copied object do not affect the original, and vice versa. However, deep copying can be slower and more memory-intensive, especially for complex nested structures.\n",
        "\n",
        "Here's a simple example to illustrate the difference:"
      ],
      "metadata": {
        "id": "CjJQ5XwFktF3"
      }
    },
    {
      "cell_type": "code",
      "execution_count": 1,
      "metadata": {
        "colab": {
          "base_uri": "https://localhost:8080/"
        },
        "id": "o2lsESEpkpDh",
        "outputId": "90de3a62-b296-4b43-8f5c-4388ea9d7f0d"
      },
      "outputs": [
        {
          "output_type": "stream",
          "name": "stdout",
          "text": [
            "Original list: [[100, 2, 3], [4, 5, 6]]\n",
            "Shallow copy: [[100, 2, 3], [4, 5, 6]]\n",
            "Deep copy: [[1000, 2, 3], [4, 5, 6]]\n"
          ]
        }
      ],
      "source": [
        "import copy\n",
        "\n",
        "# Original list with nested list\n",
        "original_list = [[1, 2, 3], [4, 5, 6]]\n",
        "\n",
        "# Shallow copy\n",
        "shallow_copy = copy.copy(original_list)\n",
        "\n",
        "# Deep copy\n",
        "deep_copy = copy.deepcopy(original_list)\n",
        "\n",
        "# Modify the nested list in the shallow copy\n",
        "shallow_copy[0][0] = 100\n",
        "\n",
        "# Modify the nested list in the deep copy\n",
        "deep_copy[0][0] = 1000\n",
        "\n",
        "print(\"Original list:\", original_list)\n",
        "print(\"Shallow copy:\", shallow_copy)\n",
        "print(\"Deep copy:\", deep_copy)\n"
      ]
    },
    {
      "cell_type": "code",
      "source": [],
      "metadata": {
        "id": "Qq5sKNuXlIQO"
      },
      "execution_count": null,
      "outputs": []
    }
  ]
}