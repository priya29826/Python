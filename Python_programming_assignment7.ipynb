{
  "nbformat": 4,
  "nbformat_minor": 0,
  "metadata": {
    "colab": {
      "provenance": []
    },
    "kernelspec": {
      "name": "python3",
      "display_name": "Python 3"
    },
    "language_info": {
      "name": "python"
    }
  },
  "cells": [
    {
      "cell_type": "markdown",
      "source": [
        "**1. Write a Python Program to find sum of array?**"
      ],
      "metadata": {
        "id": "tnaptQyiYuQY"
      }
    },
    {
      "cell_type": "code",
      "source": [
        "def array_sum(arr):\n",
        "    return sum(arr)\n",
        "\n",
        "arr = [1, 2, 3, 4, 5]\n",
        "print(\"Sum of array:\", array_sum(arr))\n"
      ],
      "metadata": {
        "colab": {
          "base_uri": "https://localhost:8080/",
          "height": 0
        },
        "id": "O_yXdi7MaJ64",
        "outputId": "9287213e-6ff5-4245-f09b-d159af729281"
      },
      "execution_count": 1,
      "outputs": [
        {
          "output_type": "stream",
          "name": "stdout",
          "text": [
            "Sum of array: 15\n"
          ]
        }
      ]
    },
    {
      "cell_type": "markdown",
      "source": [
        "**2. Write a Python Program to find largest element in an array?**\n"
      ],
      "metadata": {
        "id": "4dKYMQ3ZY10G"
      }
    },
    {
      "cell_type": "code",
      "execution_count": 2,
      "metadata": {
        "colab": {
          "base_uri": "https://localhost:8080/",
          "height": 0
        },
        "id": "n6bKjPQJYk64",
        "outputId": "46434afc-fbb5-4d40-f967-9098ee0a6905"
      },
      "outputs": [
        {
          "output_type": "stream",
          "name": "stdout",
          "text": [
            "Largest element in array: 20\n"
          ]
        }
      ],
      "source": [
        "def find_largest(arr):\n",
        "    return max(arr)\n",
        "\n",
        "arr = [1, 10, 5, 20, 8]\n",
        "print(\"Largest element in array:\", find_largest(arr))\n"
      ]
    },
    {
      "cell_type": "markdown",
      "source": [
        "\n",
        "**3. Write a Python Program for array rotation?**\n"
      ],
      "metadata": {
        "id": "jNQ4JLzEY6ip"
      }
    },
    {
      "cell_type": "code",
      "source": [
        "def rotate_array(arr, n):\n",
        "    return arr[n:] + arr[:n]\n",
        "\n",
        "arr = [1, 2, 3, 4, 5]\n",
        "n = 2\n",
        "print(\"Array after rotation:\", rotate_array(arr, n))\n"
      ],
      "metadata": {
        "colab": {
          "base_uri": "https://localhost:8080/",
          "height": 0
        },
        "id": "j-VgaxffY_Kv",
        "outputId": "43681fd2-5550-41ec-b13b-48f378c39636"
      },
      "execution_count": 3,
      "outputs": [
        {
          "output_type": "stream",
          "name": "stdout",
          "text": [
            "Array after rotation: [3, 4, 5, 1, 2]\n"
          ]
        }
      ]
    },
    {
      "cell_type": "markdown",
      "source": [
        "\n",
        "**4. Write a Python Program to Split the array and add the first part to the end?**"
      ],
      "metadata": {
        "id": "0BP9vQLxY_9u"
      }
    },
    {
      "cell_type": "code",
      "source": [
        "def split_and_add(arr, k):\n",
        "    return arr[k:] + arr[:k]\n",
        "\n",
        "arr = [1, 2, 3, 4, 5]\n",
        "k = 2\n",
        "print(\"Array after splitting and adding:\", split_and_add(arr, k))\n"
      ],
      "metadata": {
        "colab": {
          "base_uri": "https://localhost:8080/",
          "height": 0
        },
        "id": "wGeLy0-NZF0Q",
        "outputId": "b1be57a8-e30f-4f90-cbcd-5d929a9c0bfd"
      },
      "execution_count": 4,
      "outputs": [
        {
          "output_type": "stream",
          "name": "stdout",
          "text": [
            "Array after splitting and adding: [3, 4, 5, 1, 2]\n"
          ]
        }
      ]
    },
    {
      "cell_type": "markdown",
      "source": [
        "\n",
        "**5. Write a Python Program to check if given array is Monotonic?**"
      ],
      "metadata": {
        "id": "S8ELndFnZG47"
      }
    },
    {
      "cell_type": "code",
      "source": [
        "def is_monotonic(arr):\n",
        "    increasing = all(arr[i] <= arr[i + 1] for i in range(len(arr) - 1))\n",
        "    decreasing = all(arr[i] >= arr[i + 1] for i in range(len(arr) - 1))\n",
        "    return increasing or decreasing\n",
        "\n",
        "arr1 = [1, 2, 3, 4, 5]\n",
        "arr2 = [5, 4, 3, 2, 1]\n",
        "arr3 = [1, 2, 2, 3, 6]\n",
        "\n",
        "print(\"Is arr1 monotonic?\", is_monotonic(arr1))\n",
        "print(\"Is arr2 monotonic?\", is_monotonic(arr2))\n",
        "print(\"Is arr3 monotonic?\", is_monotonic(arr3))\n"
      ],
      "metadata": {
        "colab": {
          "base_uri": "https://localhost:8080/",
          "height": 0
        },
        "id": "abatV4YeZNya",
        "outputId": "a45b5343-308e-476c-aeb6-de1ebf2b7306"
      },
      "execution_count": 5,
      "outputs": [
        {
          "output_type": "stream",
          "name": "stdout",
          "text": [
            "Is arr1 monotonic? True\n",
            "Is arr2 monotonic? True\n",
            "Is arr3 monotonic? True\n"
          ]
        }
      ]
    },
    {
      "cell_type": "code",
      "source": [],
      "metadata": {
        "id": "pOHX6Yvka2nc"
      },
      "execution_count": null,
      "outputs": []
    }
  ]
}