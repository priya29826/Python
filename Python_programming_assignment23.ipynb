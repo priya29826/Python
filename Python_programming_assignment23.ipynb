{
  "nbformat": 4,
  "nbformat_minor": 0,
  "metadata": {
    "colab": {
      "provenance": []
    },
    "kernelspec": {
      "name": "python3",
      "display_name": "Python 3"
    },
    "language_info": {
      "name": "python"
    }
  },
  "cells": [
    {
      "cell_type": "markdown",
      "source": [
        "**Question 1\n",
        "Create a function that takes a number as an argument and returns True or False depending\n",
        "on whether the number is symmetrical or not. A number is symmetrical when it is the same as\n",
        "its reverse.**\n",
        "\n",
        "**Examples**\n",
        "\n",
        "is_symmetrical(7227) ➞ True\n",
        "\n",
        "is_symmetrical(12567) ➞ False\n",
        "\n",
        "is_symmetrical(44444444) ➞ True\n",
        "\n",
        "is_symmetrical(9939) ➞ False\n",
        "\n",
        "is_symmetrical(1112111) ➞ True"
      ],
      "metadata": {
        "id": "K3BqO1ZZ6xxs"
      }
    },
    {
      "cell_type": "code",
      "execution_count": 1,
      "metadata": {
        "colab": {
          "base_uri": "https://localhost:8080/"
        },
        "id": "g4WCAD3p6sz7",
        "outputId": "8226388a-f1c8-4657-fb9d-f44b099dd43c"
      },
      "outputs": [
        {
          "output_type": "stream",
          "name": "stdout",
          "text": [
            "True\n",
            "False\n",
            "True\n",
            "False\n",
            "True\n"
          ]
        }
      ],
      "source": [
        "def is_symmetrical(num):\n",
        "    # Convert the number to a string\n",
        "    num_str = str(num)\n",
        "\n",
        "    # Reverse the string\n",
        "    reversed_str = num_str[::-1]\n",
        "\n",
        "    # Compare the original string with the reversed one\n",
        "    return num_str == reversed_str\n",
        "\n",
        "# Test cases\n",
        "print(is_symmetrical(7227))    # ➞ True\n",
        "print(is_symmetrical(12567))   # ➞ False\n",
        "print(is_symmetrical(44444444))# ➞ True\n",
        "print(is_symmetrical(9939))    # ➞ False\n",
        "print(is_symmetrical(1112111)) # ➞ True\n"
      ]
    },
    {
      "cell_type": "markdown",
      "source": [
        "**Question 2\n",
        "Given a string of numbers separated by a comma and space, return the product of the\n",
        "numbers.**\n",
        "\n",
        "**Examples**\n",
        "\n",
        "multiply_nums(&quot;2, 3&quot;) ➞ 6\n",
        "\n",
        "multiply_nums(&quot;1, 2, 3, 4&quot;) ➞ 24\n",
        "\n",
        "multiply_nums(&quot;54, 75, 453, 0&quot;) ➞ 0\n",
        "\n",
        "multiply_nums(&quot;10, -2&quot;) ➞ -20"
      ],
      "metadata": {
        "id": "37m6jbqC61fO"
      }
    },
    {
      "cell_type": "code",
      "source": [
        "def multiply_nums(nums_str):\n",
        "    # Split the string into individual numbers\n",
        "    nums_list = nums_str.split(\", \")\n",
        "\n",
        "    # Convert the numbers to integers and multiply them together\n",
        "    product = 1\n",
        "    for num in nums_list:\n",
        "        product *= int(num)\n",
        "\n",
        "    return product\n",
        "\n",
        "# Test cases\n",
        "print(multiply_nums(\"2, 3\"))           # ➞ 6\n",
        "print(multiply_nums(\"1, 2, 3, 4\"))      # ➞ 24\n",
        "print(multiply_nums(\"54, 75, 453, 0\"))  # ➞ 0\n",
        "print(multiply_nums(\"10, -2\"))          # ➞ -20\n"
      ],
      "metadata": {
        "colab": {
          "base_uri": "https://localhost:8080/"
        },
        "id": "O12rpxii614w",
        "outputId": "10bf3438-f97b-4976-80ed-b3042180b766"
      },
      "execution_count": 2,
      "outputs": [
        {
          "output_type": "stream",
          "name": "stdout",
          "text": [
            "6\n",
            "24\n",
            "0\n",
            "-20\n"
          ]
        }
      ]
    },
    {
      "cell_type": "markdown",
      "source": [
        "**Question 3\n",
        "Create a function that squares every digit of a number.**\n",
        "\n",
        "**Examples**\n",
        "\n",
        "square_digits(9119) ➞ 811181\n",
        "\n",
        "square_digits(2483) ➞ 416649\n",
        "\n",
        "square_digits(3212) ➞ 9414\n",
        "\n",
        "**Notes**\n",
        "\n",
        "The function receives an integer and must return an integer."
      ],
      "metadata": {
        "id": "DXcLfOr064zL"
      }
    },
    {
      "cell_type": "code",
      "source": [
        "def square_digits(num):\n",
        "    # Convert the number to a list of digits\n",
        "    digits = [int(digit) for digit in str(num)]\n",
        "\n",
        "    # Square each digit and reconstruct the number\n",
        "    squared_num = int(''.join(str(digit**2) for digit in digits))\n",
        "\n",
        "    return squared_num\n",
        "\n",
        "# Test cases\n",
        "print(square_digits(9119))  # ➞ 811181\n",
        "print(square_digits(2483))  # ➞ 416649\n",
        "print(square_digits(3212))  # ➞ 9414\n"
      ],
      "metadata": {
        "colab": {
          "base_uri": "https://localhost:8080/"
        },
        "id": "yA-b8Tx_7Fsy",
        "outputId": "e83fcb6c-11d6-4d78-b532-ec0c4d521074"
      },
      "execution_count": 3,
      "outputs": [
        {
          "output_type": "stream",
          "name": "stdout",
          "text": [
            "811181\n",
            "416649\n",
            "9414\n"
          ]
        }
      ]
    },
    {
      "cell_type": "markdown",
      "source": [
        "**Question 4\n",
        "Create a function that sorts a list and removes all duplicate items from it.**\n",
        "\n",
        "**Examples**\n",
        "\n",
        "setify([1, 3, 3, 5, 5]) ➞ [1, 3, 5]\n",
        "\n",
        "setify([4, 4, 4, 4]) ➞ [4]\n",
        "\n",
        "setify([5, 7, 8, 9, 10, 15]) ➞ [5, 7, 8, 9, 10, 15]\n",
        "\n",
        "setify([3, 3, 3, 2, 1]) ➞ [1, 2, 3]"
      ],
      "metadata": {
        "id": "0K5eB3ko64wR"
      }
    },
    {
      "cell_type": "code",
      "source": [
        "def setify(lst):\n",
        "    # Convert the list to a set to remove duplicates\n",
        "    unique_set = set(lst)\n",
        "\n",
        "    # Convert the set back to a sorted list\n",
        "    sorted_list = sorted(unique_set)\n",
        "\n",
        "    return sorted_list\n",
        "\n",
        "# Test cases\n",
        "print(setify([1, 3, 3, 5, 5]))          # ➞ [1, 3, 5]\n",
        "print(setify([4, 4, 4, 4]))              # ➞ [4]\n",
        "print(setify([5, 7, 8, 9, 10, 15]))      # ➞ [5, 7, 8, 9, 10, 15]\n",
        "print(setify([3, 3, 3, 2, 1]))           # ➞ [1, 2, 3]\n"
      ],
      "metadata": {
        "colab": {
          "base_uri": "https://localhost:8080/"
        },
        "id": "yydsXwIO69Ni",
        "outputId": "616f81f9-731a-46f2-ace7-a94945fe22b1"
      },
      "execution_count": 4,
      "outputs": [
        {
          "output_type": "stream",
          "name": "stdout",
          "text": [
            "[1, 3, 5]\n",
            "[4]\n",
            "[5, 7, 8, 9, 10, 15]\n",
            "[1, 2, 3]\n"
          ]
        }
      ]
    },
    {
      "cell_type": "markdown",
      "source": [
        "**Question 5\n",
        "Create a function that returns the mean of all digits.**\n",
        "\n",
        "**Examples**\n",
        "\n",
        "mean(42) ➞ 3\n",
        "\n",
        "mean(12345) ➞ 3\n",
        "\n",
        "mean(666) ➞ 6\n",
        "\n",
        "**Notes**\n",
        "\n",
        " The mean of all digits is the sum of digits / how many digits there are (e.g. mean of digits in\n",
        "512 is (5+1+2)/3(number of digits) = 8/3=2).\n",
        "\n",
        " The mean will always be an integer."
      ],
      "metadata": {
        "id": "UNOmkSsK7EWs"
      }
    },
    {
      "cell_type": "code",
      "source": [
        "def mean(num):\n",
        "    # Convert the number to a string to iterate through its digits\n",
        "    num_str = str(num)\n",
        "\n",
        "    # Sum of digits\n",
        "    total = sum(int(digit) for digit in num_str)\n",
        "\n",
        "    # Number of digits\n",
        "    count = len(num_str)\n",
        "\n",
        "    # Calculate the mean\n",
        "    mean_value = total // count\n",
        "\n",
        "    return mean_value\n",
        "\n",
        "# Test cases\n",
        "print(mean(42))     # ➞ 3\n",
        "print(mean(12345))  # ➞ 3\n",
        "print(mean(666))    # ➞ 6\n"
      ],
      "metadata": {
        "colab": {
          "base_uri": "https://localhost:8080/"
        },
        "id": "vb3v5AC47E25",
        "outputId": "9d29c0e7-a5f5-4e8d-8eb9-06f9e6344247"
      },
      "execution_count": 5,
      "outputs": [
        {
          "output_type": "stream",
          "name": "stdout",
          "text": [
            "3\n",
            "3\n",
            "6\n"
          ]
        }
      ]
    },
    {
      "cell_type": "code",
      "source": [],
      "metadata": {
        "id": "eD9CfpzE7wLd"
      },
      "execution_count": null,
      "outputs": []
    }
  ]
}