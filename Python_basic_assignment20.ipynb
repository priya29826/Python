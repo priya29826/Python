{
  "nbformat": 4,
  "nbformat_minor": 0,
  "metadata": {
    "colab": {
      "provenance": []
    },
    "kernelspec": {
      "name": "python3",
      "display_name": "Python 3"
    },
    "language_info": {
      "name": "python"
    }
  },
  "cells": [
    {
      "cell_type": "markdown",
      "source": [
        "**1. Set the variable test1 to the string &#39;This is a test of the emergency text system,&#39; and save test1 to a\n",
        "file named test.txt.**\n",
        "\n"
      ],
      "metadata": {
        "id": "GGC8ptFmRhmO"
      }
    },
    {
      "cell_type": "code",
      "execution_count": null,
      "metadata": {
        "id": "04oIUeQxQ1gY"
      },
      "outputs": [],
      "source": [
        "# Set the variable test1\n",
        "test1 = 'This is a test of the emergency text system.'\n",
        "\n",
        "# Save test1 to a file named test.txt\n",
        "with open('test.txt', 'w') as file:\n",
        "    file.write(test1)\n"
      ]
    },
    {
      "cell_type": "markdown",
      "source": [
        "**2. Read the contents of the file test.txt into the variable test2. Is there a difference between test 1\n",
        "and test 2?**"
      ],
      "metadata": {
        "id": "aMpp6CdSn7tE"
      }
    },
    {
      "cell_type": "code",
      "source": [
        "with open('test.txt', 'r') as file:\n",
        "    test2 = file.read()\n",
        "\n",
        "print(\"test1:\", test1)\n",
        "print(\"test2:\", test2)\n",
        "print(\"Are test1 and test2 equal?\", test1 == test2)\n"
      ],
      "metadata": {
        "colab": {
          "base_uri": "https://localhost:8080/"
        },
        "id": "iuxo7FmboCcO",
        "outputId": "13fa4a05-7828-47ae-d15a-bb6670ce91ef"
      },
      "execution_count": 2,
      "outputs": [
        {
          "output_type": "stream",
          "name": "stdout",
          "text": [
            "test1: This is a test of the emergency text system.\n",
            "test2: This is a test of the emergency text system.\n",
            "Are test1 and test2 equal? True\n"
          ]
        }
      ]
    },
    {
      "cell_type": "markdown",
      "source": [
        "3. Create a CSV file called books.csv by using these lines:\n",
        "title,author,year\n",
        "The Weirdstone of Brisingamen,Alan Garner,1960\n",
        "Perdido Street Station,China Miéville,2000\n",
        "Thud!,Terry Pratchett,2005\n",
        "The Spellman Files,Lisa Lutz,2007\n",
        "Small Gods,Terry Pratchett,1992"
      ],
      "metadata": {
        "id": "oZw3d7V6oHOA"
      }
    },
    {
      "cell_type": "code",
      "source": [
        "import csv\n",
        "\n",
        "lines = [\n",
        "    [\"title\", \"author\", \"year\"],\n",
        "    [\"The Weirdstone of Brisingamen\", \"Alan Garner\", \"1960\"],\n",
        "    [\"Perdido Street Station\", \"China Miéville\", \"2000\"],\n",
        "    [\"Thud!\", \"Terry Pratchett\", \"2005\"],\n",
        "    [\"The Spellman Files\", \"Lisa Lutz\", \"2007\"],\n",
        "    [\"Small Gods\", \"Terry Pratchett\", \"1992\"]\n",
        "]\n",
        "\n",
        "with open('books.csv', 'w', newline='') as file:\n",
        "    writer = csv.writer(file)\n",
        "    writer.writerows(lines)\n",
        "\n",
        "print(\"books.csv has been created successfully.\")\n"
      ],
      "metadata": {
        "colab": {
          "base_uri": "https://localhost:8080/"
        },
        "id": "_wAjKfMZoDEB",
        "outputId": "dd8eff23-5149-4b79-8ae1-daa6120311a7"
      },
      "execution_count": 3,
      "outputs": [
        {
          "output_type": "stream",
          "name": "stdout",
          "text": [
            "books.csv has been created successfully.\n"
          ]
        }
      ]
    },
    {
      "cell_type": "markdown",
      "source": [
        "**4. Use the sqlite3 module to create a SQLite database called books.db, and a table called books with\n",
        "these fields: title (text), author (text), and year (integer).**"
      ],
      "metadata": {
        "id": "uJYSsYA4oXFo"
      }
    },
    {
      "cell_type": "code",
      "source": [
        "import sqlite3\n",
        "\n",
        "# Connect to the SQLite database (creates it if it doesn't exist)\n",
        "conn = sqlite3.connect('books.db')\n",
        "\n",
        "# Create a cursor object to execute SQL commands\n",
        "cursor = conn.cursor()\n",
        "\n",
        "# Define the SQL statement to create the table\n",
        "create_table_query = '''\n",
        "CREATE TABLE IF NOT EXISTS books (\n",
        "    title TEXT,\n",
        "    author TEXT,\n",
        "    year INTEGER\n",
        ")\n",
        "'''\n",
        "\n",
        "# Execute the SQL command to create the table\n",
        "cursor.execute(create_table_query)\n",
        "\n",
        "# Commit the changes to the database\n",
        "conn.commit()\n",
        "\n",
        "# Close the connection\n",
        "conn.close()\n",
        "\n",
        "print(\"books.db and the 'books' table have been created successfully.\")\n"
      ],
      "metadata": {
        "colab": {
          "base_uri": "https://localhost:8080/"
        },
        "id": "yx12jUNOoR8f",
        "outputId": "54e427fe-e42c-4d59-f8a6-b5be8193d1be"
      },
      "execution_count": 4,
      "outputs": [
        {
          "output_type": "stream",
          "name": "stdout",
          "text": [
            "books.db and the 'books' table have been created successfully.\n"
          ]
        }
      ]
    },
    {
      "cell_type": "markdown",
      "source": [
        "**5. Read books.csv and insert its data into the book table.**"
      ],
      "metadata": {
        "id": "Ay99MhXeokRa"
      }
    },
    {
      "cell_type": "code",
      "source": [
        "import csv\n",
        "import sqlite3\n",
        "\n",
        "# Connect to the SQLite database\n",
        "conn = sqlite3.connect('books.db')\n",
        "cursor = conn.cursor()\n",
        "\n",
        "# Read data from the CSV file and insert it into the table\n",
        "with open('books.csv', 'r') as file:\n",
        "    csv_reader = csv.reader(file)\n",
        "    next(csv_reader)  # Skip header row\n",
        "    for row in csv_reader:\n",
        "        title, author, year = row\n",
        "        cursor.execute(\"INSERT INTO books (title, author, year) VALUES (?, ?, ?)\", (title, author, int(year)))\n",
        "\n",
        "# Commit the changes to the database\n",
        "conn.commit()\n",
        "\n",
        "# Close the connection\n",
        "conn.close()\n",
        "\n",
        "print(\"Data from books.csv has been inserted into the 'books' table.\")\n"
      ],
      "metadata": {
        "colab": {
          "base_uri": "https://localhost:8080/"
        },
        "id": "qAA2C1z2oc4X",
        "outputId": "bfb33e83-e7c3-4ee3-84c6-0ae2b1bc866b"
      },
      "execution_count": 5,
      "outputs": [
        {
          "output_type": "stream",
          "name": "stdout",
          "text": [
            "Data from books.csv has been inserted into the 'books' table.\n"
          ]
        }
      ]
    },
    {
      "cell_type": "markdown",
      "source": [
        "**6. Select and print the title column from the book table in alphabetical order.**"
      ],
      "metadata": {
        "id": "2_QUbNLdot47"
      }
    },
    {
      "cell_type": "code",
      "source": [
        "import sqlite3\n",
        "\n",
        "# Connect to the SQLite database\n",
        "conn = sqlite3.connect('books.db')\n",
        "cursor = conn.cursor()\n",
        "\n",
        "# Execute the SQL query to select the title column in alphabetical order\n",
        "cursor.execute(\"SELECT title FROM books ORDER BY title\")\n",
        "\n",
        "# Fetch all the rows\n",
        "rows = cursor.fetchall()\n",
        "\n",
        "# Print the titles\n",
        "print(\"Titles in alphabetical order:\")\n",
        "for row in rows:\n",
        "    print(row[0])\n",
        "\n",
        "# Close the connection\n",
        "conn.close()\n"
      ],
      "metadata": {
        "colab": {
          "base_uri": "https://localhost:8080/"
        },
        "id": "lh16kbUhoprl",
        "outputId": "f2749005-dc2b-4345-d8d5-0ca18ce90b07"
      },
      "execution_count": 6,
      "outputs": [
        {
          "output_type": "stream",
          "name": "stdout",
          "text": [
            "Titles in alphabetical order:\n",
            "Perdido Street Station\n",
            "Small Gods\n",
            "The Spellman Files\n",
            "The Weirdstone of Brisingamen\n",
            "Thud!\n"
          ]
        }
      ]
    },
    {
      "cell_type": "markdown",
      "source": [
        "**7. From the book table, select and print all columns in the order of publication.**"
      ],
      "metadata": {
        "id": "qyH4f51Ho3ox"
      }
    },
    {
      "cell_type": "code",
      "source": [
        "import sqlite3\n",
        "\n",
        "# Connect to the SQLite database\n",
        "conn = sqlite3.connect('books.db')\n",
        "cursor = conn.cursor()\n",
        "\n",
        "# Execute the SQL query to select all columns in the order of publication\n",
        "cursor.execute(\"SELECT * FROM books ORDER BY year\")\n",
        "\n",
        "# Fetch all the rows\n",
        "rows = cursor.fetchall()\n",
        "\n",
        "# Print the results\n",
        "print(\"Books in the order of publication:\")\n",
        "for row in rows:\n",
        "    print(row)\n",
        "\n",
        "# Close the connection\n",
        "conn.close()\n"
      ],
      "metadata": {
        "colab": {
          "base_uri": "https://localhost:8080/"
        },
        "id": "DyDex_MvozS5",
        "outputId": "6ae9d768-298d-423a-ba57-0e4e162e72d1"
      },
      "execution_count": 8,
      "outputs": [
        {
          "output_type": "stream",
          "name": "stdout",
          "text": [
            "Books in the order of publication:\n",
            "('The Weirdstone of Brisingamen', 'Alan Garner', 1960)\n",
            "('Small Gods', 'Terry Pratchett', 1992)\n",
            "('Perdido Street Station', 'China Miéville', 2000)\n",
            "('Thud!', 'Terry Pratchett', 2005)\n",
            "('The Spellman Files', 'Lisa Lutz', 2007)\n"
          ]
        }
      ]
    },
    {
      "cell_type": "markdown",
      "source": [
        "**8. Use the sqlalchemy module to connect to the sqlite3 database books.db that you just made in\n",
        "exercise 6.**"
      ],
      "metadata": {
        "id": "DATEqHwVo9eR"
      }
    },
    {
      "cell_type": "code",
      "source": [
        "from sqlalchemy import create_engine\n",
        "from sqlalchemy.orm import sessionmaker\n",
        "from sqlalchemy.ext.declarative import declarative_base\n",
        "from sqlalchemy import Column, Integer, String\n",
        "\n",
        "# Define the base for declarative class\n",
        "Base = declarative_base()\n",
        "\n",
        "# Define the Book class to represent the books table\n",
        "class Book(Base):\n",
        "    __tablename__ = 'books'\n",
        "\n",
        "    id = Column(Integer, primary_key=True)\n",
        "    title = Column(String)\n",
        "    author = Column(String)\n",
        "    year = Column(Integer)\n",
        "\n",
        "# Create an engine to connect to the SQLite database\n",
        "engine = create_engine('sqlite:///books.db')\n",
        "\n",
        "# Create all tables in the database\n",
        "Base.metadata.create_all(engine)\n",
        "\n",
        "# Create a session class and bind it to the engine\n",
        "Session = sessionmaker(bind=engine)\n",
        "\n",
        "# Create a session\n",
        "session = Session()\n",
        "\n",
        "print(\"Connection to books.db using SQLAlchemy has been established.\")\n"
      ],
      "metadata": {
        "colab": {
          "base_uri": "https://localhost:8080/"
        },
        "id": "Wl1XQML-o_m4",
        "outputId": "4b9f2e1d-12c5-4e1b-a13e-d661450abaa4"
      },
      "execution_count": 7,
      "outputs": [
        {
          "output_type": "stream",
          "name": "stderr",
          "text": [
            "<ipython-input-7-8325933ee325>:7: MovedIn20Warning: The ``declarative_base()`` function is now available as sqlalchemy.orm.declarative_base(). (deprecated since: 2.0) (Background on SQLAlchemy 2.0 at: https://sqlalche.me/e/b8d9)\n",
            "  Base = declarative_base()\n"
          ]
        },
        {
          "output_type": "stream",
          "name": "stdout",
          "text": [
            "Connection to books.db using SQLAlchemy has been established.\n"
          ]
        }
      ]
    },
    {
      "cell_type": "markdown",
      "source": [
        "**9. Install the Redis server and the Python redis library (pip install redis) on your computer. Create a\n",
        "Redis hash called test with the fields count (1) and name (&#39;Fester Bestertester&#39;). Print all the fields for\n",
        "test.**"
      ],
      "metadata": {
        "id": "dxhWrGcepC_Q"
      }
    },
    {
      "cell_type": "code",
      "source": [
        "pip install redis\n"
      ],
      "metadata": {
        "colab": {
          "base_uri": "https://localhost:8080/"
        },
        "id": "mqzSh_j6qAAb",
        "outputId": "1eb81056-ba8b-42f0-f963-2658d2e123d2"
      },
      "execution_count": 12,
      "outputs": [
        {
          "output_type": "stream",
          "name": "stdout",
          "text": [
            "Collecting redis\n",
            "  Downloading redis-5.0.4-py3-none-any.whl (251 kB)\n",
            "\u001b[?25l     \u001b[90m━━━━━━━━━━━━━━━━━━━━━━━━━━━━━━━━━━━━━━━━\u001b[0m \u001b[32m0.0/252.0 kB\u001b[0m \u001b[31m?\u001b[0m eta \u001b[36m-:--:--\u001b[0m\r\u001b[2K     \u001b[91m━━━━━━━━━━━━━━━━━━━━━━━━━━━\u001b[0m\u001b[91m╸\u001b[0m\u001b[90m━━━━━━━━━━━━\u001b[0m \u001b[32m174.1/252.0 kB\u001b[0m \u001b[31m5.0 MB/s\u001b[0m eta \u001b[36m0:00:01\u001b[0m\r\u001b[2K     \u001b[90m━━━━━━━━━━━━━━━━━━━━━━━━━━━━━━━━━━━━━━━━\u001b[0m \u001b[32m252.0/252.0 kB\u001b[0m \u001b[31m4.7 MB/s\u001b[0m eta \u001b[36m0:00:00\u001b[0m\n",
            "\u001b[?25hRequirement already satisfied: async-timeout>=4.0.3 in /usr/local/lib/python3.10/dist-packages (from redis) (4.0.3)\n",
            "Installing collected packages: redis\n",
            "Successfully installed redis-5.0.4\n"
          ]
        }
      ]
    },
    {
      "cell_type": "code",
      "source": [
        "import redis\n",
        "\n",
        "# Connect to the Redis server\n",
        "r = redis.Redis(host='localhost', port=6379, db=0)\n",
        "\n",
        "# Create a Redis hash called 'test' with fields 'count' and 'name'\n",
        "r.hset('test', 'count', 1)\n",
        "r.hset('test', 'name', 'Fester Bestertester')\n",
        "\n",
        "# Print all the fields for 'test'\n",
        "print(\"All fields for 'test':\", r.hgetall('test'))\n"
      ],
      "metadata": {
        "id": "LdAQjsuGqTZI"
      },
      "execution_count": null,
      "outputs": []
    },
    {
      "cell_type": "markdown",
      "source": [
        "**10. Increment the count field of test and print it.**"
      ],
      "metadata": {
        "id": "r3vdSR3XpInZ"
      }
    },
    {
      "cell_type": "code",
      "source": [
        "import redis\n",
        "\n",
        "# Connect to the Redis server\n",
        "r = redis.Redis(host='localhost', port=6379, db=0)\n",
        "\n",
        "# Increment the 'count' field of 'test' hash by 1\n",
        "r.hincrby('test', 'count', 1)\n",
        "\n",
        "# Print the updated value of 'count'\n",
        "print(\"Updated count:\", r.hget('test', 'count').decode('utf-8'))\n"
      ],
      "metadata": {
        "id": "F8lJepAsqJtP"
      },
      "execution_count": null,
      "outputs": []
    }
  ]
}