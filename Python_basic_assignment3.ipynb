{
  "nbformat": 4,
  "nbformat_minor": 0,
  "metadata": {
    "colab": {
      "provenance": []
    },
    "kernelspec": {
      "name": "python3",
      "display_name": "Python 3"
    },
    "language_info": {
      "name": "python"
    }
  },
  "cells": [
    {
      "cell_type": "markdown",
      "source": [
        "**1. Why are functions advantageous to have in your programs?**\n",
        "\n",
        "**Ans:** Functions are essential in programming because they promote modularity and code reuse. By breaking down a program into smaller, more manageable functions, developers can focus on specific tasks or functionalities. This makes the code easier to read, understand, and maintain, as each function encapsulates a distinct piece of logic. Functions also enhance code reusability, as they can be called multiple times from different parts of the program. Additionally, functions facilitate debugging and troubleshooting, as errors are isolated to specific functions, making it easier to identify and fix issues."
      ],
      "metadata": {
        "id": "ymGFwN63-ji_"
      }
    },
    {
      "cell_type": "markdown",
      "source": [
        "**2. When does the code in a function run: when it&#39;s specified or when it&#39;s called?**\n",
        "\n",
        "**Ans:** Execution of Code in Functions:\n",
        "\n",
        " In Python, the code within a function runs when the function is called, not when it's defined. This deferred execution allows for dynamic behavior, as functions can be called multiple times with different arguments or in different contexts. When a function is called, control transfers to the function's body, executes the statements within it, and returns control to the caller once the function completes its task."
      ],
      "metadata": {
        "id": "7popTlt9_fGq"
      }
    },
    {
      "cell_type": "markdown",
      "source": [
        "**3. What statement creates a function?**\n",
        "\n",
        "**Ans** Creating a Function:\n",
        "\n",
        " Functions are created in Python using the def keyword, followed by the function name and parentheses containing any parameters the function may accept. The function body, which contains the code to be executed, is then indented below the def statement. Here's an example of a simple function definition:"
      ],
      "metadata": {
        "id": "Toek14oE_zjH"
      }
    },
    {
      "cell_type": "code",
      "execution_count": 1,
      "metadata": {
        "id": "g-d4vWmP-OeD"
      },
      "outputs": [],
      "source": [
        "def greet(name):\n",
        "    print(\"Hello, \" + name + \"!\")\n"
      ]
    },
    {
      "cell_type": "markdown",
      "source": [
        "**4. What is the difference between a function and a function call?**\n",
        "\n",
        "**Ans** Difference Between Function and Function Call:\n",
        "\n",
        "A function is a block of code that performs a specific task, encapsulating a set of instructions to achieve a particular objective. On the other hand, a function call is the act of invoking or executing a function to perform its defined task. While a function is defined using the def keyword followed by a function name and body, a function call simply involves using the function's name followed by parentheses, optionally passing arguments inside the parentheses."
      ],
      "metadata": {
        "id": "sKh3ie2tAAhS"
      }
    },
    {
      "cell_type": "markdown",
      "source": [
        "**5. How many global scopes are there in a Python program? How many local scopes?**\n",
        "\n",
        "**Ans** Scopes in Python:\n",
        "\n",
        "Python follows a hierarchical scoping rule, consisting of a global scope and local scopes. The global scope encompasses the entire program and includes variables defined outside of any function. Each function call creates its own local scope, where variables defined within the function are accessible. Local variables exist only within the function's scope and are destroyed once the function exits. However, functions can access variables from the global scope by using the global keyword or by passing them as arguments."
      ],
      "metadata": {
        "id": "-z1iD4xlAF1r"
      }
    },
    {
      "cell_type": "markdown",
      "source": [
        "**6. What happens to variables in a local scope when the function call returns?**\n",
        "\n",
        "**Ans** Variables in Local Scope:\n",
        "\n",
        " Variables defined within a function's local scope are limited in scope to that function and cannot be accessed from outside the function. These local variables are created when the function is called and destroyed when the function exits. This means that their values are not retained between function calls, and any modifications made to them are lost once the function returns."
      ],
      "metadata": {
        "id": "BbLdy5D8ANwo"
      }
    },
    {
      "cell_type": "markdown",
      "source": [
        "\n",
        "**7. What is the concept of a return value? Is it possible to have a return value in an expression?**\n",
        "\n",
        "**Ans** Return Value:\n",
        "\n",
        "A return value is the value that a function sends back to the caller upon completion of its execution. It represents the result of the function's operation and can be of any data type supported by Python, including integers, strings, lists, dictionaries, etc. Return values allow functions to communicate information back to the caller, enabling the caller to use the result for further processing or decision-making. Return values can also be used in expressions, allowing for the chaining of function calls or the assignment of returned values to variables."
      ],
      "metadata": {
        "id": "VbbNmv0jATlz"
      }
    },
    {
      "cell_type": "markdown",
      "source": [
        "**8. If a function does not have a return statement, what is the return value of a call to that function?**\n",
        "\n",
        "**Ans** Return Value of a Function Without Return Statement:\n",
        "\n",
        " If a function does not contain a return statement or if it reaches the end of its body without encountering a return statement, the function automatically returns None. None serves as a placeholder for the absence of a value and is commonly used to indicate that a function has completed its execution without producing a specific result."
      ],
      "metadata": {
        "id": "g0tTMdZmAeBQ"
      }
    },
    {
      "cell_type": "markdown",
      "source": [
        "**9. How do you make a function variable refer to the global variable?**\n",
        "\n",
        "**Ans** Referring to Global Variables:\n",
        "\n",
        "In Python, functions have access to variables defined in the global scope by default. However, if you need to modify a global variable from within a function or if you want to explicitly indicate that a variable is from the global scope, you can use the global keyword followed by the variable name within the function. This informs Python that the variable should be treated as a global variable, allowing you to modify its value without creating a new local variable."
      ],
      "metadata": {
        "id": "5PjemHgsAm3R"
      }
    },
    {
      "cell_type": "markdown",
      "source": [
        "**10. What is the data type of None?**\n",
        "\n",
        "**Ans** Data Type of None:\n",
        "\n",
        " In Python, None is a built-in constant representing the absence of a value or a null value. It belongs to the NoneType data type, which is a singleton object that represents the absence of a value. None is commonly used to indicate that a variable has not been assigned a value or to represent the result of a function that does not return anything meaningful."
      ],
      "metadata": {
        "id": "R5ixzmdZAx0v"
      }
    },
    {
      "cell_type": "markdown",
      "source": [
        "**11. What does the sentence import areallyourpetsnamederic do?**\n",
        "\n",
        "**Ans** Import Statement:\n",
        "\n",
        " The import statement in Python is used to import modules or packages into your code, making their contents accessible for use. Modules are files containing Python code that can define functions, classes, variables, and other objects. By importing modules, you can reuse code written by others or organize your own code into separate files for better modularity and maintainability. The import statement is followed by the name of the module to be imported, optionally followed by an alias using the as keyword for easier reference.\n"
      ],
      "metadata": {
        "id": "d-71e9eJA6ML"
      }
    },
    {
      "cell_type": "markdown",
      "source": [
        "**12. If you had a bacon() feature in a spam module, what would you call it after importing spam?**\n",
        "\n",
        "**Ans** Calling a Function from an Imported Module:\n",
        "\n",
        " After importing a module into your Python code, you can call functions defined within that module using dot notation. First, specify the name of the module followed by a dot (.), and then specify the name of the function you want to call. If the function requires arguments, you can pass them inside the parentheses following the function name. This allows you to access and utilize the functionality provided by the imported module within your own code."
      ],
      "metadata": {
        "id": "MztTkyymBhNM"
      }
    },
    {
      "cell_type": "markdown",
      "source": [
        "**13. What can you do to save a programme from crashing if it encounters an error?**\n",
        "\n",
        "**Ans** Handling Errors:\n",
        "\n",
        " Error handling is a crucial aspect of programming that involves anticipating and responding to errors or exceptional situations that may occur during program execution. In Python, errors are represented as exceptions, which can be caught and handled using try-except blocks. The try block is used to enclose the code that may raise an exception, while the except block is used to specify how to handle the exception if it occurs. By using try-except blocks, you can gracefully handle errors, prevent program crashes, and provide fallback mechanisms or error messages to guide users or developers."
      ],
      "metadata": {
        "id": "weQOKg-gBvTL"
      }
    },
    {
      "cell_type": "markdown",
      "source": [
        "**14. What is the purpose of the try clause? What is the purpose of the except clause?**\n",
        "\n",
        "**Ans** Purpose of try and except Clauses:\n",
        "\n",
        "The try and except clauses in Python are used together to implement error handling and exception handling mechanisms. The try clause is used to wrap around the code that may potentially raise an exception. If an exception occurs within the try block, control transfers to the except block, allowing you to specify how to handle the exception. The except block contains the code that is executed if the specified exception occurs, providing a fallback mechanism to gracefully handle errors and prevent program termination. Additionally, you can use multiple except blocks to handle different types of exceptions, allowing for fine-grained control over error handling logic."
      ],
      "metadata": {
        "id": "0VvuHUJ-B4ow"
      }
    }
  ]
}