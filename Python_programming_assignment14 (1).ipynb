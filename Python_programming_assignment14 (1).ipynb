{
  "nbformat": 4,
  "nbformat_minor": 0,
  "metadata": {
    "colab": {
      "provenance": []
    },
    "kernelspec": {
      "name": "python3",
      "display_name": "Python 3"
    },
    "language_info": {
      "name": "python"
    }
  },
  "cells": [
    {
      "cell_type": "markdown",
      "source": [
        "**Question 1:\n",
        "Define a class with a generator which can iterate the numbers, which are divisible by\n",
        "7, between a given range 0 and n.**"
      ],
      "metadata": {
        "id": "PxkgWj7Cl26-"
      }
    },
    {
      "cell_type": "code",
      "execution_count": 1,
      "metadata": {
        "colab": {
          "base_uri": "https://localhost:8080/"
        },
        "id": "pX6E0YR1lnrn",
        "outputId": "d7589494-f26c-4ccb-d4ed-e20f2c7fce4f"
      },
      "outputs": [
        {
          "output_type": "stream",
          "name": "stdout",
          "text": [
            "0\n",
            "7\n",
            "14\n",
            "21\n",
            "28\n",
            "35\n",
            "42\n",
            "49\n"
          ]
        }
      ],
      "source": [
        "class DivisibleBySeven:\n",
        "    def __init__(self, n):\n",
        "        self.n = n\n",
        "\n",
        "    def generate(self):\n",
        "        for i in range(self.n + 1):\n",
        "            if i % 7 == 0:\n",
        "                yield i\n",
        "\n",
        "# Example usage:\n",
        "n = 50\n",
        "divisible_by_seven = DivisibleBySeven(n)\n",
        "for num in divisible_by_seven.generate():\n",
        "    print(num)\n"
      ]
    },
    {
      "cell_type": "markdown",
      "source": [
        "**Question 2:\n",
        "Write a program to compute the frequency of the words from the input. The output\n",
        "should output after sorting the key alphanumerically.\n",
        "Suppose the following input is supplied to the program:**\n",
        "\n",
        "**New to Python or choosing between Python 2 and Python 3? Read Python 2 or\n",
        "Python 3.**\n",
        "\n",
        "**Then, the output should be:**\n",
        "\n",
        "2:2\n",
        "\n",
        "3.:1\n",
        "\n",
        "3?:1\n",
        "\n",
        "New:1\n",
        "\n",
        "Python:5\n",
        "\n",
        "Read:1\n",
        "\n",
        "and:1\n",
        "\n",
        "between:1\n",
        "\n",
        "choosing:1\n",
        "\n",
        "or:2\n",
        "\n",
        "to:1"
      ],
      "metadata": {
        "id": "Yl8gAKq3mXZv"
      }
    },
    {
      "cell_type": "code",
      "source": [
        "def word_frequency(sentence):\n",
        "    words = sentence.split()\n",
        "    word_count = {}\n",
        "    for word in words:\n",
        "        word_count[word] = word_count.get(word, 0) + 1\n",
        "    return word_count\n",
        "\n",
        "input_str = input(\"Enter a sentence: \")\n",
        "frequencies = word_frequency(input_str)\n",
        "for word in sorted(frequencies):\n",
        "    print(f\"{word}:{frequencies[word]}\")\n"
      ],
      "metadata": {
        "colab": {
          "base_uri": "https://localhost:8080/"
        },
        "id": "qn9oFlPmmHJW",
        "outputId": "06c69982-c53f-4aa9-a880-909e9d3f5673"
      },
      "execution_count": 2,
      "outputs": [
        {
          "output_type": "stream",
          "name": "stdout",
          "text": [
            "Enter a sentence: Life is beautiful\n",
            "Life:1\n",
            "beautiful:1\n",
            "is:1\n"
          ]
        }
      ]
    },
    {
      "cell_type": "markdown",
      "source": [
        "**Question 3: Define a class Person and its two child classes: Male and Female. All classes have a\n",
        "method &quot;getGender&quot; which can print &quot;Male&quot; for Male class and &quot;Female&quot; for Female\n",
        "class.**"
      ],
      "metadata": {
        "id": "2gHQDCtHnOmy"
      }
    },
    {
      "cell_type": "code",
      "source": [
        "class Person:\n",
        "    def getGender(self):\n",
        "        return \"Unknown\"\n",
        "\n",
        "class Male(Person):\n",
        "    def getGender(self):\n",
        "        return \"Male\"\n",
        "\n",
        "class Female(Person):\n",
        "    def getGender(self):\n",
        "        return \"Female\"\n",
        "\n",
        "# Example usage:\n",
        "male = Male()\n",
        "female = Female()\n",
        "\n",
        "print(male.getGender())\n",
        "print(female.getGender())"
      ],
      "metadata": {
        "colab": {
          "base_uri": "https://localhost:8080/"
        },
        "id": "VqSO6TeEmt0Q",
        "outputId": "3bcae8e3-2c9b-4f89-93e7-e220ee576ea9"
      },
      "execution_count": 3,
      "outputs": [
        {
          "output_type": "stream",
          "name": "stdout",
          "text": [
            "Male\n",
            "Female\n"
          ]
        }
      ]
    },
    {
      "cell_type": "markdown",
      "source": [
        "**Question 4:\n",
        "Please write a program to generate all sentences where subject is in [&quot;I&quot;, &quot;You&quot;] and\n",
        "verb is in [&quot;Play&quot;, &quot;Love&quot;] and the object is in [&quot;Hockey&quot;,&quot;Football&quot;].**"
      ],
      "metadata": {
        "id": "y60junLmnn1m"
      }
    },
    {
      "cell_type": "code",
      "source": [
        "subjects = [\"I\", \"You\"]\n",
        "verbs = [\"Play\", \"Love\"]\n",
        "objects = [\"Hockey\", \"Football\"]\n",
        "\n",
        "for subject in subjects:\n",
        "    for verb in verbs:\n",
        "        for obj in objects:\n",
        "            print(f\"{subject} {verb} {obj}\")\n"
      ],
      "metadata": {
        "colab": {
          "base_uri": "https://localhost:8080/"
        },
        "id": "8tFxuVhhnh_d",
        "outputId": "081d6e7e-f27e-402e-80e6-711bacc829d3"
      },
      "execution_count": 4,
      "outputs": [
        {
          "output_type": "stream",
          "name": "stdout",
          "text": [
            "I Play Hockey\n",
            "I Play Football\n",
            "I Love Hockey\n",
            "I Love Football\n",
            "You Play Hockey\n",
            "You Play Football\n",
            "You Love Hockey\n",
            "You Love Football\n"
          ]
        }
      ]
    },
    {
      "cell_type": "markdown",
      "source": [
        "**Question 5:\n",
        "Please write a program to compress and decompress the string &quot;hello world!hello\n",
        "world!hello world!hello world!&quot;.**"
      ],
      "metadata": {
        "id": "iljBEiXzojXX"
      }
    },
    {
      "cell_type": "code",
      "source": [
        "import zlib\n",
        "\n",
        "# Define the string\n",
        "original_string = \"hello world!hello world!hello world!hello world!\"\n",
        "\n",
        "# Compress the string\n",
        "compressed_string = zlib.compress(original_string.encode())\n",
        "\n",
        "# Decompress the string\n",
        "decompressed_string = zlib.decompress(compressed_string)\n",
        "\n",
        "# Print the compressed and decompressed strings\n",
        "print(\"Compressed:\", compressed_string)\n",
        "print(\"Decompressed:\", decompressed_string.decode())\n",
        "\n"
      ],
      "metadata": {
        "colab": {
          "base_uri": "https://localhost:8080/"
        },
        "id": "h2FgbVAaoapg",
        "outputId": "74394d7d-c4a8-4d44-db4d-049675bba2de"
      },
      "execution_count": 5,
      "outputs": [
        {
          "output_type": "stream",
          "name": "stdout",
          "text": [
            "Compressed: b'x\\x9c\\xcbH\\xcd\\xc9\\xc9W(\\xcf/\\xcaIQ\\xcc \\x82\\r\\x00\\xbd[\\x11\\xf5'\n",
            "Decompressed: hello world!hello world!hello world!hello world!\n"
          ]
        }
      ]
    },
    {
      "cell_type": "markdown",
      "source": [
        "**Question 6:\n",
        "Please write a binary search function which searches an item in a sorted list. The\n",
        "function should return the index of element to be searched in the list.**"
      ],
      "metadata": {
        "id": "QOit-3Jyo2xg"
      }
    },
    {
      "cell_type": "code",
      "source": [
        "def binary_search(arr, target):\n",
        "    low, high = 0, len(arr) - 1\n",
        "\n",
        "    while low <= high:\n",
        "        mid = (low + high) // 2\n",
        "        if arr[mid] == target:\n",
        "            return mid\n",
        "        elif arr[mid] < target:\n",
        "            low = mid + 1\n",
        "        else:\n",
        "            high = mid - 1\n",
        "\n",
        "    return -1\n",
        "\n",
        "# Example usage:\n",
        "sorted_list = [1, 2, 3, 4, 5, 6, 7, 8, 9, 10]\n",
        "target_element = 5\n",
        "index = binary_search(sorted_list, target_element)\n",
        "print(\"Index of\", target_element, \":\", index)\n"
      ],
      "metadata": {
        "colab": {
          "base_uri": "https://localhost:8080/"
        },
        "id": "UVfWMT0GoseL",
        "outputId": "3e0d50a2-2573-4c39-b3ee-25f0eae2a467"
      },
      "execution_count": 6,
      "outputs": [
        {
          "output_type": "stream",
          "name": "stdout",
          "text": [
            "Index of 5 : 4\n"
          ]
        }
      ]
    }
  ]
}