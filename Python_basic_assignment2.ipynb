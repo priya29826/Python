{
  "nbformat": 4,
  "nbformat_minor": 0,
  "metadata": {
    "colab": {
      "provenance": []
    },
    "kernelspec": {
      "name": "python3",
      "display_name": "Python 3"
    },
    "language_info": {
      "name": "python"
    }
  },
  "cells": [
    {
      "cell_type": "markdown",
      "source": [
        "**1.What are the two values of the Boolean data type? How do you write them?**\n",
        "\n",
        "**Ans:** The two values of the Boolean data type are typically represented as \"True\" and \"False\". In some programming languages, they can also be represented numerically as 1 (True) and 0 (False)."
      ],
      "metadata": {
        "id": "FKFJtUm3u1mZ"
      }
    },
    {
      "cell_type": "markdown",
      "source": [
        "**2. What are the three different types of Boolean operators?**\n",
        "\n",
        "**Ans:** The three different types of Boolean operators are:\n",
        "* AND operator (&& or AND): Returns true if both operands are true.\n",
        "* OR operator (|| or OR): Returns true if at least one of the operands is true.\n",
        "* NOT operator (! or NOT): Returns the opposite Boolean value of the operand."
      ],
      "metadata": {
        "id": "8uaammX_vAt_"
      }
    },
    {
      "cell_type": "markdown",
      "source": [
        "**3. Make a list of each Boolean operator&#39;s truth tables (i.e. every possible combination of Boolean\n",
        "values for the operator and what it evaluate ).**"
      ],
      "metadata": {
        "id": "AzobbyhFvRcL"
      }
    },
    {
      "cell_type": "code",
      "execution_count": null,
      "metadata": {
        "id": "2SMFY2fluvhr"
      },
      "outputs": [],
      "source": [
        "#Truth tables for Boolean operators:AND operator (&&):\n",
        "A     B     A && B\n",
        "-------------------\n",
        "False False   False\n",
        "False True    False\n",
        "True  False   False\n",
        "True  True    True\n",
        "\n",
        "#OR operator (||):\n",
        "A     B     A || B\n",
        "-------------------\n",
        "False False   False\n",
        "False True    True\n",
        "True  False   True\n",
        "True  True    True\n",
        "\n",
        "#NOT operator (!):\n",
        "A     !A\n",
        "---------\n",
        "False True\n",
        "True  False\n"
      ]
    },
    {
      "cell_type": "markdown",
      "source": [
        "**4. What are the values of the following expressions?**\n",
        "\n",
        "* (5 &gt; 4) and (3 == 5)\n",
        "* not (5 &gt; 4)\n",
        "* (5 &gt; 4) or (3 == 5)\n",
        "* not ((5 &gt; 4) or (3 == 5))\n",
        "* (True and True) and (True == False)\n",
        "* (not False) or (not True)"
      ],
      "metadata": {
        "id": "hAx63BovxID5"
      }
    },
    {
      "cell_type": "code",
      "source": [
        "#Values of the given expressions:\n",
        "(5 > 4) and (3 == 5)"
      ],
      "metadata": {
        "colab": {
          "base_uri": "https://localhost:8080/"
        },
        "id": "CBJSmhx5wp0e",
        "outputId": "97c98330-4852-4aa7-f171-f9848ce39143"
      },
      "execution_count": 2,
      "outputs": [
        {
          "output_type": "execute_result",
          "data": {
            "text/plain": [
              "False"
            ]
          },
          "metadata": {},
          "execution_count": 2
        }
      ]
    },
    {
      "cell_type": "code",
      "source": [
        "not (5 > 4)"
      ],
      "metadata": {
        "colab": {
          "base_uri": "https://localhost:8080/"
        },
        "id": "CBhq9LcVw9XT",
        "outputId": "dec3d570-1e98-4db2-f94f-8c61dbe7ef57"
      },
      "execution_count": 3,
      "outputs": [
        {
          "output_type": "execute_result",
          "data": {
            "text/plain": [
              "False"
            ]
          },
          "metadata": {},
          "execution_count": 3
        }
      ]
    },
    {
      "cell_type": "code",
      "source": [
        "(5 > 4) or (3 == 5)"
      ],
      "metadata": {
        "colab": {
          "base_uri": "https://localhost:8080/"
        },
        "id": "FuTuMSx1xaYs",
        "outputId": "32e5e085-72c8-4c2d-c60b-ecd1da4c9406"
      },
      "execution_count": 4,
      "outputs": [
        {
          "output_type": "execute_result",
          "data": {
            "text/plain": [
              "True"
            ]
          },
          "metadata": {},
          "execution_count": 4
        }
      ]
    },
    {
      "cell_type": "code",
      "source": [
        "not ((5 > 4) or (3 == 5))"
      ],
      "metadata": {
        "colab": {
          "base_uri": "https://localhost:8080/"
        },
        "id": "JFDDnn4VxgCp",
        "outputId": "49c9aff2-0109-47de-84c6-746d3abdff0d"
      },
      "execution_count": 5,
      "outputs": [
        {
          "output_type": "execute_result",
          "data": {
            "text/plain": [
              "False"
            ]
          },
          "metadata": {},
          "execution_count": 5
        }
      ]
    },
    {
      "cell_type": "code",
      "source": [
        "(True and True) and (True == False)"
      ],
      "metadata": {
        "colab": {
          "base_uri": "https://localhost:8080/"
        },
        "id": "5fLumrvZxicL",
        "outputId": "26d88dc5-b428-4596-f4aa-0482c4bc676d"
      },
      "execution_count": 6,
      "outputs": [
        {
          "output_type": "execute_result",
          "data": {
            "text/plain": [
              "False"
            ]
          },
          "metadata": {},
          "execution_count": 6
        }
      ]
    },
    {
      "cell_type": "code",
      "source": [
        "(not False) or (not True)"
      ],
      "metadata": {
        "colab": {
          "base_uri": "https://localhost:8080/"
        },
        "id": "PBzNgx1YxkrW",
        "outputId": "0c37d426-50a8-40c1-ad03-6bdcd81aeaf1"
      },
      "execution_count": 7,
      "outputs": [
        {
          "output_type": "execute_result",
          "data": {
            "text/plain": [
              "True"
            ]
          },
          "metadata": {},
          "execution_count": 7
        }
      ]
    },
    {
      "cell_type": "markdown",
      "source": [
        "**5. What are the six comparison operators?**\n",
        "\n",
        "**Ans:** The six comparison operators are:\n",
        "\n",
        "* Equal to (==)\n",
        "* Not equal to (!=)\n",
        "* Greater than (>)\n",
        "* Less than (<)\n",
        "* Greater than or equal to (>=)\n",
        "* Less than or equal to (<=)"
      ],
      "metadata": {
        "id": "zu62HNkZxuHT"
      }
    },
    {
      "cell_type": "markdown",
      "source": [
        "**6. How do you tell the difference between the equal to and assignment operators?Describe a\n",
        "condition and when you would use one.**\n",
        "\n",
        "**Ans:** The equal to (==) operator is used to compare two values for equality. The assignment (=) operator is used to assign a value to a variable. For example, x == 5 compares whether the value of x is equal to 5, while x = 5 assigns the value 5 to the variable x."
      ],
      "metadata": {
        "id": "BMrPRpSvyBES"
      }
    },
    {
      "cell_type": "markdown",
      "source": [
        "**7. Identify the three blocks in this code:**\n",
        "\n",
        "spam = 0\n",
        "\n",
        "if spam == 10:\n",
        "\n",
        "print(&#39;eggs&#39;)\n",
        "\n",
        "if spam &gt; 5:\n",
        "\n",
        "print(&#39;bacon&#39;)\n",
        "\n",
        "else:\n",
        "\n",
        "print(&#39;ham&#39;)\n",
        "\n",
        "print(&#39;spam&#39;)\n",
        "\n",
        "print(&#39;spam&#39;)**\n",
        "\n",
        "**Ans:** The three blocks in the code are:"
      ],
      "metadata": {
        "id": "REaUr2U8yTXq"
      }
    },
    {
      "cell_type": "code",
      "source": [
        "#Block 1:\n",
        "\n",
        "spam = 0\n",
        "\n",
        "#Block 2:\n",
        "\n",
        "if spam == 10:\n",
        "    print('eggs')\n",
        "\n",
        "#Block 3:\n",
        "\n",
        "\n",
        "\n",
        "if spam > 5:\n",
        "    print('bacon')\n",
        "else:\n",
        "    print('ham')\n",
        "print('spam')\n",
        "print('spam')\n"
      ],
      "metadata": {
        "colab": {
          "base_uri": "https://localhost:8080/"
        },
        "id": "8hw1DxoB1nv_",
        "outputId": "e02c2bad-5570-4def-aca5-a2278e147466"
      },
      "execution_count": 11,
      "outputs": [
        {
          "output_type": "stream",
          "name": "stdout",
          "text": [
            "ham\n",
            "spam\n",
            "spam\n"
          ]
        }
      ]
    },
    {
      "cell_type": "markdown",
      "source": [
        "**8. Write code that prints Hello if 1 is stored in spam, prints Howdy if 2 is stored in spam, and prints\n",
        "Greetings! if anything else is stored in spam.**"
      ],
      "metadata": {
        "id": "3P0iM5XEyMfu"
      }
    },
    {
      "cell_type": "code",
      "source": [
        "spam = 3\n",
        "\n",
        "if spam == 1:\n",
        "    print(\"Hello\")\n",
        "elif spam == 2:\n",
        "    print(\"Howdy\")\n",
        "else:\n",
        "    print(\"Greetings!\")\n"
      ],
      "metadata": {
        "colab": {
          "base_uri": "https://localhost:8080/"
        },
        "id": "XKIP8jRxxnea",
        "outputId": "0e4a1937-9425-49a1-a73c-1bc9aa42ed22"
      },
      "execution_count": 8,
      "outputs": [
        {
          "output_type": "stream",
          "name": "stdout",
          "text": [
            "Greetings!\n"
          ]
        }
      ]
    },
    {
      "cell_type": "markdown",
      "source": [
        "**9.If your programme is stuck in an endless loop, what keys you’ll press?**\n",
        "\n",
        "**Ans:** If your program is stuck in an endless loop, you can press Ctrl + C to interrupt the execution."
      ],
      "metadata": {
        "id": "zhsINRTKzdzQ"
      }
    },
    {
      "cell_type": "markdown",
      "source": [
        "**10. How can you tell the difference between break and continue?**\n",
        "\n",
        "**Ans:** In a for loop:\n",
        "\n",
        "* range(10) generates numbers from 0 to 9.\n",
        "* range(0, 10) also generates numbers from 0 to 9.\n",
        "* range(0, 10, 1) generates numbers from 0 to 9 with a step size of 1 (same as the previous two)."
      ],
      "metadata": {
        "id": "tE7D6UU4zoon"
      }
    },
    {
      "cell_type": "markdown",
      "source": [
        "**11. In a for loop, what is the difference between range(10), range(0, 10), and range(0, 10, 1)?**\n",
        "\n",
        "**Ans:**"
      ],
      "metadata": {
        "id": "ohHxmLUT0Frn"
      }
    },
    {
      "cell_type": "code",
      "source": [
        "#Using a for loop\n",
        "for i in range(1, 11):\n",
        "    print(i)\n"
      ],
      "metadata": {
        "colab": {
          "base_uri": "https://localhost:8080/"
        },
        "id": "0TSOMishzVqE",
        "outputId": "7cb45a2c-48ea-4259-d063-6f6c56de7712"
      },
      "execution_count": 9,
      "outputs": [
        {
          "output_type": "stream",
          "name": "stdout",
          "text": [
            "1\n",
            "2\n",
            "3\n",
            "4\n",
            "5\n",
            "6\n",
            "7\n",
            "8\n",
            "9\n",
            "10\n"
          ]
        }
      ]
    },
    {
      "cell_type": "code",
      "source": [
        "#Using a while loop:\n",
        "i = 1\n",
        "while i <= 10:\n",
        "    print(i)\n",
        "    i += 1\n"
      ],
      "metadata": {
        "colab": {
          "base_uri": "https://localhost:8080/"
        },
        "id": "ZC1zPAJK0V-s",
        "outputId": "1c6d6d5d-5dc6-4438-bb74-76c929c06726"
      },
      "execution_count": 10,
      "outputs": [
        {
          "output_type": "stream",
          "name": "stdout",
          "text": [
            "1\n",
            "2\n",
            "3\n",
            "4\n",
            "5\n",
            "6\n",
            "7\n",
            "8\n",
            "9\n",
            "10\n"
          ]
        }
      ]
    },
    {
      "cell_type": "markdown",
      "source": [
        "**13. If you had a function named bacon() inside a module named spam, how would you call it after\n",
        "importing spam?**\n",
        "\n",
        "**Ans:** If you had a function named bacon() inside a module named spam, you would call it after importing spam by using dot notation:\n",
        "\n",
        "\n",
        "This assumes that bacon() is a top-level function in the spam module. If bacon() is within a submodule or a class inside the spam module, you would call it accordingly, following the hierarchy. For example:"
      ],
      "metadata": {
        "id": "nK_07iBl0qA-"
      }
    },
    {
      "cell_type": "code",
      "source": [
        "#If you had a function named bacon() inside a module named spam, you would call it after importing spam by using dot notation:\n",
        "\n",
        "import spam\n",
        "\n",
        "spam.bacon()\n",
        "\n",
        "#This assumes that bacon() is a top-level function in the spam module. If bacon() is within a submodule or a class inside the spam module, you would call it accordingly, following the hierarchy. For example:\n",
        "\n",
        "import spam.submodule\n",
        "\n",
        "spam.submodule.bacon()\n"
      ],
      "metadata": {
        "id": "68rYyEML1E_W"
      },
      "execution_count": null,
      "outputs": []
    }
  ]
}