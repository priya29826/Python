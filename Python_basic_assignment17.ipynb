{
  "nbformat": 4,
  "nbformat_minor": 0,
  "metadata": {
    "colab": {
      "provenance": []
    },
    "kernelspec": {
      "name": "python3",
      "display_name": "Python 3"
    },
    "language_info": {
      "name": "python"
    }
  },
  "cells": [
    {
      "cell_type": "markdown",
      "source": [
        "**1. Assign the value 7 to the variable guess_me. Then, write the conditional tests (if, else, and elif) to\n",
        "print the string &#39;too low&#39; if guess_me is less than 7, &#39;too high&#39; if greater than 7, and &#39;just right&#39; if equal\n",
        "to 7.**\n",
        "\n",
        "**Ans:** In this code:\n",
        "\n",
        "* We assign the value 7 to the variable guess_me.\n",
        "* Then, we use an if statement to check if guess_me is less than 7. If it is, it prints 'too low'.\n",
        "* If guess_me is not less than 7, we use an elif (else if) statement to check if it is greater than 7. If it is, it prints 'too high'.\n",
        "* If neither of the above conditions is true, it means guess_me must be equal to 7, so it prints 'just right'.\n",
        "\n",
        "\n"
      ],
      "metadata": {
        "id": "DP8eCtiBHhSU"
      }
    },
    {
      "cell_type": "code",
      "execution_count": 1,
      "metadata": {
        "colab": {
          "base_uri": "https://localhost:8080/"
        },
        "id": "-R1eBcJsHPiU",
        "outputId": "a3b9b323-f27d-4871-9898-74b3d8d2e6fd"
      },
      "outputs": [
        {
          "output_type": "stream",
          "name": "stdout",
          "text": [
            "just right\n"
          ]
        }
      ],
      "source": [
        "guess_me = 7\n",
        "\n",
        "if guess_me < 7:\n",
        "    print('too low')\n",
        "elif guess_me > 7:\n",
        "    print('too high')\n",
        "else:\n",
        "    print('just right')\n"
      ]
    },
    {
      "cell_type": "markdown",
      "source": [
        "**2. Assign the value 7 to the variable guess_me and the value 1 to the variable start. Write a while\n",
        "loop that compares start with guess_me. Print too low if start is less than guess me. If start equals\n",
        "guess_me, print &#39;found it!&#39; and exit the loop. If start is greater than guess_me, print &#39;oops&#39; and exit\n",
        "the loop. Increment start at the end of the loop.**\n",
        "\n",
        "**Ans:** In the code:\n",
        "\n",
        "* We assign the value 7 to the variable guess_me and the value 1 to the variable start.\n",
        "* We use a while loop that continues as long as start is less than or equal to guess_me.\n",
        "* Inside the loop, we have conditional statements to check whether start is less than, equal to, or greater than guess_me.\n",
        "* If start is less than guess_me, it prints 'too low'.\n",
        "* If start is equal to guess_me, it prints 'found it!' and exits the loop using the break statement.\n",
        "* If start is greater than guess_me, it prints 'oops' and exits the loop using the break statement.\n",
        "* At the end of each iteration, we increment the value of start by 1 using start += 1."
      ],
      "metadata": {
        "id": "6UBRefEJJQG1"
      }
    },
    {
      "cell_type": "code",
      "source": [
        "guess_me = 7\n",
        "start = 1\n",
        "\n",
        "while start <= guess_me:\n",
        "    if start < guess_me:\n",
        "        print('too low')\n",
        "    elif start == guess_me:\n",
        "        print('found it!')\n",
        "        break\n",
        "    else:\n",
        "        print('oops')\n",
        "        break\n",
        "    start += 1\n"
      ],
      "metadata": {
        "colab": {
          "base_uri": "https://localhost:8080/"
        },
        "id": "vHOYtb89JMwE",
        "outputId": "02ba357c-7f80-4d4f-9d91-45acd24e3375"
      },
      "execution_count": 2,
      "outputs": [
        {
          "output_type": "stream",
          "name": "stdout",
          "text": [
            "too low\n",
            "too low\n",
            "too low\n",
            "too low\n",
            "too low\n",
            "too low\n",
            "found it!\n"
          ]
        }
      ]
    },
    {
      "cell_type": "markdown",
      "source": [
        "**3. Print the following values of the list [3, 2, 1, 0] using a for loop.**"
      ],
      "metadata": {
        "id": "iOCR7-x_JWtf"
      }
    },
    {
      "cell_type": "code",
      "source": [
        "my_list = [3, 2, 1, 0]\n",
        "\n",
        "for value in my_list:\n",
        "    print(value)\n"
      ],
      "metadata": {
        "colab": {
          "base_uri": "https://localhost:8080/"
        },
        "id": "0_WGJ5mPJaT2",
        "outputId": "f33d183c-85a2-4392-ce66-07e17cb24067"
      },
      "execution_count": 3,
      "outputs": [
        {
          "output_type": "stream",
          "name": "stdout",
          "text": [
            "3\n",
            "2\n",
            "1\n",
            "0\n"
          ]
        }
      ]
    },
    {
      "cell_type": "markdown",
      "source": [
        "**4. Use a list comprehension to make a list of the even numbers in range(10)**"
      ],
      "metadata": {
        "id": "KAH1LjQRJ0K9"
      }
    },
    {
      "cell_type": "code",
      "source": [
        "even_numbers = [num for num in range(10) if num % 2 == 0]\n",
        "print(even_numbers)\n"
      ],
      "metadata": {
        "colab": {
          "base_uri": "https://localhost:8080/"
        },
        "id": "oKGg8gJCJvvB",
        "outputId": "ac96a07e-f879-4160-f4aa-42f581edacd7"
      },
      "execution_count": 4,
      "outputs": [
        {
          "output_type": "stream",
          "name": "stdout",
          "text": [
            "[0, 2, 4, 6, 8]\n"
          ]
        }
      ]
    },
    {
      "cell_type": "markdown",
      "source": [
        "**5. Use a dictionary comprehension to create the dictionary squares. Use range(10) to return the\n",
        "keys, and use the square of each key as its value.**"
      ],
      "metadata": {
        "id": "QADg-guTJ8dG"
      }
    },
    {
      "cell_type": "code",
      "source": [
        "squares = {num: num**2 for num in range(10)}\n",
        "print(squares)\n"
      ],
      "metadata": {
        "colab": {
          "base_uri": "https://localhost:8080/"
        },
        "id": "wzVtNX07J-VH",
        "outputId": "2c9689ae-14df-4aa9-8b6d-7a47dc83c153"
      },
      "execution_count": 5,
      "outputs": [
        {
          "output_type": "stream",
          "name": "stdout",
          "text": [
            "{0: 0, 1: 1, 2: 4, 3: 9, 4: 16, 5: 25, 6: 36, 7: 49, 8: 64, 9: 81}\n"
          ]
        }
      ]
    },
    {
      "cell_type": "markdown",
      "source": [
        "**6. Construct the set odd from the odd numbers in the range using a set comprehension (10).**"
      ],
      "metadata": {
        "id": "ToyadBY2KnHk"
      }
    },
    {
      "cell_type": "code",
      "source": [
        "odd = {num for num in range(10) if num % 2 != 0}\n",
        "print(odd)\n"
      ],
      "metadata": {
        "id": "gag1Z7IHKXLr"
      },
      "execution_count": null,
      "outputs": []
    },
    {
      "cell_type": "markdown",
      "source": [
        "**7. Use a generator comprehension to return the string &#39;Got &#39; and a number for the numbers in\n",
        "range(10). Iterate through this by using a for loop.**"
      ],
      "metadata": {
        "id": "toITK3KNK2SU"
      }
    },
    {
      "cell_type": "code",
      "source": [
        "generator = ('Got ' + str(num) for num in range(10))\n",
        "\n",
        "for item in generator:\n",
        "    print(item)\n"
      ],
      "metadata": {
        "colab": {
          "base_uri": "https://localhost:8080/"
        },
        "id": "jpxvzNOQK4di",
        "outputId": "ebe8c5be-a98f-4441-ef50-631bc40d9ff9"
      },
      "execution_count": 6,
      "outputs": [
        {
          "output_type": "stream",
          "name": "stdout",
          "text": [
            "Got 0\n",
            "Got 1\n",
            "Got 2\n",
            "Got 3\n",
            "Got 4\n",
            "Got 5\n",
            "Got 6\n",
            "Got 7\n",
            "Got 8\n",
            "Got 9\n"
          ]
        }
      ]
    },
    {
      "cell_type": "markdown",
      "source": [
        "**8. Define a function called good that returns the list [&#39;Harry&#39;, &#39;Ron&#39;, &#39;Hermione&#39;].**"
      ],
      "metadata": {
        "id": "6TjjTIZtLHON"
      }
    },
    {
      "cell_type": "code",
      "source": [
        "def good():\n",
        "    return ['Harry', 'Ron', 'Hermione']\n",
        "\n",
        "# Call the function\n",
        "result = good()\n",
        "print(result)\n"
      ],
      "metadata": {
        "colab": {
          "base_uri": "https://localhost:8080/"
        },
        "id": "e7tr9HPYLDyi",
        "outputId": "82d27130-d561-481e-fc7b-68e353b75d45"
      },
      "execution_count": 7,
      "outputs": [
        {
          "output_type": "stream",
          "name": "stdout",
          "text": [
            "['Harry', 'Ron', 'Hermione']\n"
          ]
        }
      ]
    },
    {
      "cell_type": "markdown",
      "source": [
        "**9. Define a generator function called get_odds that returns the odd numbers from range(10). Use a\n",
        "for loop to find and print the third value returned.**"
      ],
      "metadata": {
        "id": "nn6irzB3LTsP"
      }
    },
    {
      "cell_type": "code",
      "source": [
        "def get_odds():\n",
        "    for num in range(10):\n",
        "        if num % 2 != 0:\n",
        "            yield num\n",
        "\n",
        "# Using a for loop to find and print the third value returned\n",
        "count = 0\n",
        "for odd_number in get_odds():\n",
        "    count += 1\n",
        "    if count == 3:\n",
        "        print(\"The third odd number:\", odd_number)\n",
        "        break\n"
      ],
      "metadata": {
        "colab": {
          "base_uri": "https://localhost:8080/"
        },
        "id": "hL-k1gLkLOn5",
        "outputId": "b52bee6c-7907-4a8b-861d-44489a72658b"
      },
      "execution_count": 8,
      "outputs": [
        {
          "output_type": "stream",
          "name": "stdout",
          "text": [
            "The third odd number: 5\n"
          ]
        }
      ]
    },
    {
      "cell_type": "markdown",
      "source": [
        "**10. Define an exception called OopsException. Raise this exception to see what happens. Then write\n",
        "the code to catch this exception and print &#39;Caught an oops&#39;.**"
      ],
      "metadata": {
        "id": "cBIgSN7NLaAe"
      }
    },
    {
      "cell_type": "code",
      "source": [
        "# Define the OopsException\n",
        "class OopsException(Exception):\n",
        "    pass\n",
        "\n",
        "# Raise the OopsException\n",
        "try:\n",
        "    raise OopsException\n",
        "except OopsException:\n",
        "    print('Caught an oops')\n"
      ],
      "metadata": {
        "colab": {
          "base_uri": "https://localhost:8080/"
        },
        "id": "joSBiE8kLb31",
        "outputId": "dd4a4c93-5a4e-4edc-e392-8cf361925e7d"
      },
      "execution_count": 9,
      "outputs": [
        {
          "output_type": "stream",
          "name": "stdout",
          "text": [
            "Caught an oops\n"
          ]
        }
      ]
    },
    {
      "cell_type": "markdown",
      "source": [
        "**11. Use zip() to make a dictionary called movies that pairs these lists: titles = [&#39;Creature of Habit&#39;,\n",
        "&#39;Crewel Fate&#39;] and plots = [&#39;A nun turns into a monster&#39;, &#39;A haunted yarn shop&#39;].**"
      ],
      "metadata": {
        "id": "xEI6Ii7CLcq7"
      }
    },
    {
      "cell_type": "code",
      "source": [
        "titles = ['Creature of Habit', 'Crewel Fate']\n",
        "plots = ['A nun turns into a monster', 'A haunted yarn shop']\n",
        "\n",
        "movies = dict(zip(titles, plots))\n",
        "print(movies)\n"
      ],
      "metadata": {
        "colab": {
          "base_uri": "https://localhost:8080/"
        },
        "id": "aLZoEa5LLgkG",
        "outputId": "afef4fb5-7f23-4f62-e009-b53ef68c341c"
      },
      "execution_count": 10,
      "outputs": [
        {
          "output_type": "stream",
          "name": "stdout",
          "text": [
            "{'Creature of Habit': 'A nun turns into a monster', 'Crewel Fate': 'A haunted yarn shop'}\n"
          ]
        }
      ]
    }
  ]
}