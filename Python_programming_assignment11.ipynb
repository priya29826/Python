{
  "nbformat": 4,
  "nbformat_minor": 0,
  "metadata": {
    "colab": {
      "provenance": []
    },
    "kernelspec": {
      "name": "python3",
      "display_name": "Python 3"
    },
    "language_info": {
      "name": "python"
    }
  },
  "cells": [
    {
      "cell_type": "markdown",
      "source": [
        "**1. Write a Python program to find words which are greater than given length k?**"
      ],
      "metadata": {
        "id": "ktFhhM8jkT8B"
      }
    },
    {
      "cell_type": "code",
      "source": [
        "def find_words_greater_than_k(string, k):\n",
        "    return [word for word in string.split() if len(word) > k]\n",
        "\n",
        "# Example usage:\n",
        "sentence = \"This is a sample sentence to test the program\"\n",
        "k = 4\n",
        "print(find_words_greater_than_k(sentence, k))\n"
      ],
      "metadata": {
        "colab": {
          "base_uri": "https://localhost:8080/"
        },
        "id": "jvnMXSO_o5_j",
        "outputId": "bece7cd5-60de-4ab7-e8cf-97f4263204a6"
      },
      "execution_count": 1,
      "outputs": [
        {
          "output_type": "stream",
          "name": "stdout",
          "text": [
            "['sample', 'sentence', 'program']\n"
          ]
        }
      ]
    },
    {
      "cell_type": "markdown",
      "source": [
        "**2. Write a Python program for removing i-th character from a string?**"
      ],
      "metadata": {
        "id": "WYMix5pfn_1p"
      }
    },
    {
      "cell_type": "code",
      "source": [
        "def remove_ith_character(string, i):\n",
        "    return string[:i] + string[i+1:]\n",
        "\n",
        "# Example usage:\n",
        "text = \"example\"\n",
        "i = 2\n",
        "print(remove_ith_character(text, i))\n"
      ],
      "metadata": {
        "colab": {
          "base_uri": "https://localhost:8080/"
        },
        "id": "zQ0j7BdRoDjk",
        "outputId": "90097dd7-137f-4e87-f694-c546718ceba5"
      },
      "execution_count": 7,
      "outputs": [
        {
          "output_type": "stream",
          "name": "stdout",
          "text": [
            "exmple\n"
          ]
        }
      ]
    },
    {
      "cell_type": "markdown",
      "source": [
        "**3. Write a Python program to split and join a string?**"
      ],
      "metadata": {
        "id": "tSIdO0B2oHav"
      }
    },
    {
      "cell_type": "code",
      "execution_count": 6,
      "metadata": {
        "colab": {
          "base_uri": "https://localhost:8080/"
        },
        "id": "U_5Ree6_kKLh",
        "outputId": "aab28850-bf98-4338-ee00-e9e1d9ec7ac8"
      },
      "outputs": [
        {
          "output_type": "stream",
          "name": "stdout",
          "text": [
            "This-is-a-sample-sentence\n"
          ]
        }
      ],
      "source": [
        "def split_and_join(string):\n",
        "    return '-'.join(string.split())\n",
        "\n",
        "# Example usage:\n",
        "sentence = \"This is a sample sentence\"\n",
        "print(split_and_join(sentence))\n"
      ]
    },
    {
      "cell_type": "markdown",
      "source": [
        "**4. Write a Python to check if a given string is binary string or not?**"
      ],
      "metadata": {
        "id": "1uDQTIseoOE8"
      }
    },
    {
      "cell_type": "code",
      "source": [
        "def is_binary_string(string):\n",
        "    return all(char in '01' for char in string)\n",
        "\n",
        "# Example usage:\n",
        "binary_string = \"101010101\"\n",
        "print(is_binary_string(binary_string))\n"
      ],
      "metadata": {
        "colab": {
          "base_uri": "https://localhost:8080/"
        },
        "id": "GxneSDc5oSrS",
        "outputId": "368d906f-92a5-4d7f-c3b8-e61a9ab11c39"
      },
      "execution_count": 5,
      "outputs": [
        {
          "output_type": "stream",
          "name": "stdout",
          "text": [
            "True\n"
          ]
        }
      ]
    },
    {
      "cell_type": "markdown",
      "source": [
        "**5. Write a Python program to find uncommon words from two Strings?**"
      ],
      "metadata": {
        "id": "vTn-o1jDoVbX"
      }
    },
    {
      "cell_type": "code",
      "source": [
        "def find_uncommon_words(str1, str2):\n",
        "    words1 = set(str1.split())\n",
        "    words2 = set(str2.split())\n",
        "    return list(words1.symmetric_difference(words2))\n",
        "\n",
        "# Example usage:\n",
        "string1 = \"This is the first string\"\n",
        "string2 = \"This is the second string\"\n",
        "print(find_uncommon_words(string1, string2))\n"
      ],
      "metadata": {
        "colab": {
          "base_uri": "https://localhost:8080/"
        },
        "id": "E874hNqvoXiW",
        "outputId": "4eebbfe5-f7e1-428d-b658-b229ee1be45a"
      },
      "execution_count": 4,
      "outputs": [
        {
          "output_type": "stream",
          "name": "stdout",
          "text": [
            "['first', 'second']\n"
          ]
        }
      ]
    },
    {
      "cell_type": "markdown",
      "source": [
        "**6. Write a Python to find all duplicate characters in string?**"
      ],
      "metadata": {
        "id": "RzoULZStoZrN"
      }
    },
    {
      "cell_type": "code",
      "source": [
        "def find_duplicate_characters(string):\n",
        "    return [char for char in set(string) if string.count(char) > 1]\n",
        "\n",
        "# Example usage:\n",
        "text = \"hello\"\n",
        "print(find_duplicate_characters(text))\n"
      ],
      "metadata": {
        "colab": {
          "base_uri": "https://localhost:8080/"
        },
        "id": "YfKhhU2Oodyh",
        "outputId": "87abb6e7-f4c1-4cff-a23b-2229cecc2bc7"
      },
      "execution_count": 3,
      "outputs": [
        {
          "output_type": "stream",
          "name": "stdout",
          "text": [
            "['l']\n"
          ]
        }
      ]
    },
    {
      "cell_type": "markdown",
      "source": [
        "**7. Write a Python Program to check if a string contains any special character?**"
      ],
      "metadata": {
        "id": "toKAwNRIog-y"
      }
    },
    {
      "cell_type": "code",
      "source": [
        "def contains_special_character(string):\n",
        "    import re\n",
        "    return bool(re.search('[^A-Za-z0-9]', string))\n",
        "\n",
        "# Example usage:\n",
        "text = \"Hello! How are you?\"\n",
        "print(contains_special_character(text))\n"
      ],
      "metadata": {
        "colab": {
          "base_uri": "https://localhost:8080/"
        },
        "id": "l7gBycnJoi8p",
        "outputId": "cbbe72fc-e29b-49e8-b49f-0d758665d557"
      },
      "execution_count": 2,
      "outputs": [
        {
          "output_type": "stream",
          "name": "stdout",
          "text": [
            "True\n"
          ]
        }
      ]
    },
    {
      "cell_type": "code",
      "source": [],
      "metadata": {
        "id": "IU1ktcyzpPoH"
      },
      "execution_count": null,
      "outputs": []
    }
  ]
}