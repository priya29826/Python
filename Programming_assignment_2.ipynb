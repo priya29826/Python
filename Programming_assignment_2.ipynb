{
  "nbformat": 4,
  "nbformat_minor": 0,
  "metadata": {
    "colab": {
      "provenance": []
    },
    "kernelspec": {
      "name": "python3",
      "display_name": "Python 3"
    },
    "language_info": {
      "name": "python"
    }
  },
  "cells": [
    {
      "cell_type": "markdown",
      "source": [
        "**1. Write a Python program to convert kilometers to miles?**"
      ],
      "metadata": {
        "id": "YGVvd_Fr47UF"
      }
    },
    {
      "cell_type": "code",
      "execution_count": 2,
      "metadata": {
        "colab": {
          "base_uri": "https://localhost:8080/"
        },
        "id": "EB3V9isS4z-Q",
        "outputId": "b9a5517d-a167-4ab9-a1f1-3e14d3d37653"
      },
      "outputs": [
        {
          "output_type": "stream",
          "name": "stdout",
          "text": [
            "Enter distance in kilometers: 17\n",
            "17.0 kilometers is equal to 10.563307 miles.\n"
          ]
        }
      ],
      "source": [
        "# Get input\n",
        "kilometers = float(input(\"Enter distance in kilometers: \"))\n",
        "\n",
        "# Convert kilometers to miles (1 kilometer = 0.621371 miles)\n",
        "miles = kilometers * 0.621371\n",
        "\n",
        "# Print the result\n",
        "print(f\"{kilometers} kilometers is equal to {miles} miles.\")"
      ]
    },
    {
      "cell_type": "markdown",
      "source": [
        "**2. Write a Python program to convert Celsius to Fahrenheit?**"
      ],
      "metadata": {
        "id": "wiSYHboG-c18"
      }
    },
    {
      "cell_type": "code",
      "source": [
        "# Get input\n",
        "celsius = float(input(\"Enter temperature in Celsius: \"))\n",
        "\n",
        "# Convert Celsius to Fahrenheit (Celsius to Fahrenheit formula)\n",
        "fahrenheit = (celsius * 9/5) + 32\n",
        "\n",
        "# Print the result\n",
        "print(f\"{celsius} degrees Celsius is equal to {fahrenheit} degrees Fahrenheit.\")"
      ],
      "metadata": {
        "colab": {
          "base_uri": "https://localhost:8080/"
        },
        "id": "zjOIA8km-e74",
        "outputId": "647e177a-52aa-4884-8ead-39fb6ec72d24"
      },
      "execution_count": 3,
      "outputs": [
        {
          "output_type": "stream",
          "name": "stdout",
          "text": [
            "Enter temperature in Celsius: 200\n",
            "200.0 degrees Celsius is equal to 392.0 degrees Fahrenheit.\n"
          ]
        }
      ]
    },
    {
      "cell_type": "markdown",
      "source": [
        "**3. Write a Python program to display calendar?**"
      ],
      "metadata": {
        "id": "rLMj4Oof-fxg"
      }
    },
    {
      "cell_type": "code",
      "source": [
        "import calendar\n",
        "\n",
        "# Get input\n",
        "year = int(input(\"Enter the year: \"))\n",
        "month = int(input(\"Enter the month (1-12): \"))\n",
        "\n",
        "# Display the calendar\n",
        "print(calendar.month(year, month))"
      ],
      "metadata": {
        "colab": {
          "base_uri": "https://localhost:8080/"
        },
        "id": "Lq6fX0pi-k2T",
        "outputId": "7bf034fe-4de8-4cb7-e54d-1ab1639c7901"
      },
      "execution_count": 4,
      "outputs": [
        {
          "output_type": "stream",
          "name": "stdout",
          "text": [
            "Enter the year: 1997\n",
            "Enter the month (1-12): 8\n",
            "    August 1997\n",
            "Mo Tu We Th Fr Sa Su\n",
            "             1  2  3\n",
            " 4  5  6  7  8  9 10\n",
            "11 12 13 14 15 16 17\n",
            "18 19 20 21 22 23 24\n",
            "25 26 27 28 29 30 31\n",
            "\n"
          ]
        }
      ]
    },
    {
      "cell_type": "markdown",
      "source": [
        "**4. Write a Python program to solve quadratic equation?**"
      ],
      "metadata": {
        "id": "abULPkMJ-lwO"
      }
    },
    {
      "cell_type": "code",
      "source": [
        "import cmath\n",
        "\n",
        "# Function to solve the quadratic equation\n",
        "def solve_quadratic(a, b, c):\n",
        "    # Calculate the discriminant\n",
        "    discriminant = b**2 - 4*a*c\n",
        "\n",
        "    # Compute the roots\n",
        "    root1 = (-b + cmath.sqrt(discriminant)) / (2*a)\n",
        "    root2 = (-b - cmath.sqrt(discriminant)) / (2*a)\n",
        "\n",
        "    # Return the roots\n",
        "    return root1, root2\n",
        "\n",
        "# Get coefficients from the user\n",
        "a = float(input(\"Enter coefficient a: \"))\n",
        "b = float(input(\"Enter coefficient b: \"))\n",
        "c = float(input(\"Enter coefficient c: \"))\n",
        "\n",
        "# Solve the quadratic equation\n",
        "root1, root2 = solve_quadratic(a, b, c)\n",
        "\n",
        "# Print the roots\n",
        "print(f\"The roots of the quadratic equation are: {root1} and {root2}\")"
      ],
      "metadata": {
        "colab": {
          "base_uri": "https://localhost:8080/"
        },
        "id": "RdKDY38xyyuV",
        "outputId": "a006d575-89b1-4354-dad5-9d663da47090"
      },
      "execution_count": 1,
      "outputs": [
        {
          "output_type": "stream",
          "name": "stdout",
          "text": [
            "Enter coefficient a: 30\n",
            "Enter coefficient b: 20\n",
            "Enter coefficient c: 30\n",
            "The roots of the quadratic equation are: (-0.3333333333333333+0.9428090415820634j) and (-0.3333333333333333-0.9428090415820634j)\n"
          ]
        }
      ]
    },
    {
      "cell_type": "markdown",
      "source": [
        "**5. Write a Python program to swap two variables without temp variable?**2"
      ],
      "metadata": {
        "id": "opVSONEs-s2a"
      }
    },
    {
      "cell_type": "code",
      "source": [
        "# Initialize two variables\n",
        "x = 5\n",
        "y = 10\n",
        "\n",
        "# Swap the values without using a temporary variable\n",
        "x, y = y, x\n",
        "\n",
        "# Print the swapped values\n",
        "print(\"x after swapping:\", x)\n",
        "print(\"y after swapping:\", y)"
      ],
      "metadata": {
        "colab": {
          "base_uri": "https://localhost:8080/"
        },
        "id": "nQ01-Due-z-b",
        "outputId": "cd03cca8-5864-4ad7-f57b-138572758eb5"
      },
      "execution_count": 5,
      "outputs": [
        {
          "output_type": "stream",
          "name": "stdout",
          "text": [
            "x after swapping: 10\n",
            "y after swapping: 5\n"
          ]
        }
      ]
    }
  ]
}