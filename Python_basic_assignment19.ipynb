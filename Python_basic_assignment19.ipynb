{
  "nbformat": 4,
  "nbformat_minor": 0,
  "metadata": {
    "colab": {
      "provenance": []
    },
    "kernelspec": {
      "name": "python3",
      "display_name": "Python 3"
    },
    "language_info": {
      "name": "python"
    }
  },
  "cells": [
    {
      "cell_type": "markdown",
      "source": [
        "**1. Make a class called Thing with no contents and print it. Then, create an object called example\n",
        "from this class and also print it. Are the printed values the same or different?**\n",
        "\n",
        "**Ans:** To clarify, the first print statement print(Thing) prints the class itself, indicating its type and namespace. The second print statement print(example) prints the object created from the class Thing. While both statements involve printing, they display different information: one shows the class, and the other shows an instance of that class. So, they are different.\n",
        "\n",
        "\n",
        "\n"
      ],
      "metadata": {
        "id": "KW_vLgBrNphu"
      }
    },
    {
      "cell_type": "code",
      "execution_count": 1,
      "metadata": {
        "colab": {
          "base_uri": "https://localhost:8080/"
        },
        "id": "FW_9CZqkNhmK",
        "outputId": "19ce7c75-58ba-4480-d535-c0d7616f419b"
      },
      "outputs": [
        {
          "output_type": "stream",
          "name": "stdout",
          "text": [
            "<class '__main__.Thing'>\n",
            "<__main__.Thing object at 0x7eca6308b010>\n"
          ]
        }
      ],
      "source": [
        "class Thing:\n",
        "    pass\n",
        "\n",
        "print(Thing)\n",
        "example = Thing()\n",
        "print(example)\n"
      ]
    },
    {
      "cell_type": "markdown",
      "source": [
        "**2. Create a new class called Thing2 and add the value &#39;abc&#39; to the letters class attribute. Letters\n",
        "should be printed.**"
      ],
      "metadata": {
        "id": "eAA1x0ufL_X4"
      }
    },
    {
      "cell_type": "code",
      "source": [
        "class Thing2:\n",
        "    letters = 'abc'\n",
        "\n",
        "print(Thing2.letters)\n"
      ],
      "metadata": {
        "colab": {
          "base_uri": "https://localhost:8080/"
        },
        "id": "7G8bHGAEMBkA",
        "outputId": "73397085-bf25-4107-c107-b5d09f442d54"
      },
      "execution_count": 2,
      "outputs": [
        {
          "output_type": "stream",
          "name": "stdout",
          "text": [
            "abc\n"
          ]
        }
      ]
    },
    {
      "cell_type": "markdown",
      "source": [
        "**3. Make yet another class called, of course, Thing3. This time, assign the value &#39;xyz&#39; to an instance\n",
        "(object) attribute called letters. Print letters. Do you need to make an object from the class to do\n",
        "this?**"
      ],
      "metadata": {
        "id": "rxQm8RsfMGqk"
      }
    },
    {
      "cell_type": "code",
      "source": [
        "class Thing3:\n",
        "    def __init__(self):\n",
        "        self.letters = 'xyz'\n",
        "\n",
        "# Create an object of Thing3\n",
        "example = Thing3()\n",
        "\n",
        "# Print the instance attribute letters\n",
        "print(example.letters)\n"
      ],
      "metadata": {
        "colab": {
          "base_uri": "https://localhost:8080/"
        },
        "id": "PgOi61WiMQ9w",
        "outputId": "ec444929-1307-4414-b305-e6bf1f379797"
      },
      "execution_count": 3,
      "outputs": [
        {
          "output_type": "stream",
          "name": "stdout",
          "text": [
            "xyz\n"
          ]
        }
      ]
    },
    {
      "cell_type": "markdown",
      "source": [
        "**4. Create an Element class with the instance attributes name, symbol, and number. Create a class\n",
        "object with the values &#39;Hydrogen,&#39; &#39;H,&#39; and 1.**"
      ],
      "metadata": {
        "id": "KL6jZhuJMTfe"
      }
    },
    {
      "cell_type": "code",
      "source": [
        "class Element:\n",
        "    def __init__(self, name, symbol, number):\n",
        "        self.name = name\n",
        "        self.symbol = symbol\n",
        "        self.number = number\n",
        "\n",
        "# Create an object of Element with the specified values\n",
        "hydrogen = Element('Hydrogen', 'H', 1)\n"
      ],
      "metadata": {
        "id": "DzxNvf1UMV4v"
      },
      "execution_count": 4,
      "outputs": []
    },
    {
      "cell_type": "markdown",
      "source": [
        "**5. Make a dictionary with these keys and values: &#39;name&#39;: &#39;Hydrogen&#39;, &#39;symbol&#39;: &#39;H&#39;, &#39;number&#39;: 1. Then,\n",
        "create an object called hydrogen from class Element using this dictionary.**\n",
        "\n",
        "**Ans:** In this code:\n",
        "\n",
        "* We define the Element class with the specified instance attributes (name, symbol, and number).\n",
        "* We create a dictionary element_dict with the keys and values for the attributes.\n",
        "* We then create an object hydrogen of the Element class by passing the dictionary as keyword arguments using the ** syntax. This syntax unpacks the dictionary into individual keyword arguments, matching the names of the attributes in the Element class."
      ],
      "metadata": {
        "id": "Ih_CcgAeMYdU"
      }
    },
    {
      "cell_type": "code",
      "source": [
        "class Element:\n",
        "    def __init__(self, name, symbol, number):\n",
        "        self.name = name\n",
        "        self.symbol = symbol\n",
        "        self.number = number\n",
        "\n",
        "# Dictionary with keys and values\n",
        "element_dict = {'name': 'Hydrogen', 'symbol': 'H', 'number': 1}\n",
        "\n",
        "# Create an object of Element using the dictionary\n",
        "hydrogen = Element(**element_dict)\n"
      ],
      "metadata": {
        "id": "FoEjYfo1MaTy"
      },
      "execution_count": 5,
      "outputs": []
    },
    {
      "cell_type": "markdown",
      "source": [
        "**6. For the Element class, define a method called dump() that prints the values of the object’s\n",
        "attributes (name, symbol, and number). Create the hydrogen object from this new definition and\n",
        "use dump() to print its attributes.**"
      ],
      "metadata": {
        "id": "axNHmQ2XMjKZ"
      }
    },
    {
      "cell_type": "code",
      "source": [
        "class Element:\n",
        "    def __init__(self, name, symbol, number):\n",
        "        self.name = name\n",
        "        self.symbol = symbol\n",
        "        self.number = number\n",
        "\n",
        "    def dump(self):\n",
        "        print(\"Name:\", self.name)\n",
        "        print(\"Symbol:\", self.symbol)\n",
        "        print(\"Number:\", self.number)\n",
        "\n",
        "# Create the hydrogen object using the updated Element class definition\n",
        "element_dict = {'name': 'Hydrogen', 'symbol': 'H', 'number': 1}\n",
        "hydrogen = Element(**element_dict)\n",
        "\n",
        "# Call the dump method to print its attributes\n",
        "hydrogen.dump()\n"
      ],
      "metadata": {
        "colab": {
          "base_uri": "https://localhost:8080/"
        },
        "id": "ZsA2EsInMnct",
        "outputId": "15a30635-7ac4-4a0f-aecd-9ed8d12fd589"
      },
      "execution_count": 6,
      "outputs": [
        {
          "output_type": "stream",
          "name": "stdout",
          "text": [
            "Name: Hydrogen\n",
            "Symbol: H\n",
            "Number: 1\n"
          ]
        }
      ]
    },
    {
      "cell_type": "markdown",
      "source": [
        "**7. Call print(hydrogen). In the definition of Element, change the name of method dump to __str__,\n",
        "create a new hydrogen object, and call print(hydrogen) again.**"
      ],
      "metadata": {
        "id": "iwQtjHxoMqjW"
      }
    },
    {
      "cell_type": "code",
      "source": [
        "class Element:\n",
        "    def __init__(self, name, symbol, number):\n",
        "        self.name = name\n",
        "        self.symbol = symbol\n",
        "        self.number = number\n",
        "\n",
        "    def __str__(self):\n",
        "        return f\"Name: {self.name}, Symbol: {self.symbol}, Number: {self.number}\"\n",
        "\n",
        "# Create a new hydrogen object\n",
        "element_dict = {'name': 'Hydrogen', 'symbol': 'H', 'number': 1}\n",
        "hydrogen = Element(**element_dict)\n",
        "\n",
        "# Call print(hydrogen) to see the default string representation\n",
        "print(hydrogen)\n"
      ],
      "metadata": {
        "colab": {
          "base_uri": "https://localhost:8080/"
        },
        "id": "W2Uk3vsKMti7",
        "outputId": "4ff4eb6c-5e89-40da-bbaf-ea6e2f310655"
      },
      "execution_count": 7,
      "outputs": [
        {
          "output_type": "stream",
          "name": "stdout",
          "text": [
            "Name: Hydrogen, Symbol: H, Number: 1\n"
          ]
        }
      ]
    },
    {
      "cell_type": "markdown",
      "source": [
        "**8. Modify Element to make the attributes name, symbol, and number private. Define a getter\n",
        "property for each to return its value.**"
      ],
      "metadata": {
        "id": "mSbRwa0BMwFL"
      }
    },
    {
      "cell_type": "code",
      "source": [
        "class Element:\n",
        "    def __init__(self, name, symbol, number):\n",
        "        self.__name = name\n",
        "        self.__symbol = symbol\n",
        "        self.__number = number\n",
        "\n",
        "    @property\n",
        "    def name(self):\n",
        "        return self.__name\n",
        "\n",
        "    @property\n",
        "    def symbol(self):\n",
        "        return self.__symbol\n",
        "\n",
        "    @property\n",
        "    def number(self):\n",
        "        return self.__number\n",
        "\n",
        "# Create a new hydrogen object\n",
        "element_dict = {'name': 'Hydrogen', 'symbol': 'H', 'number': 1}\n",
        "hydrogen = Element(**element_dict)\n",
        "\n",
        "# Access attributes using the getter properties\n",
        "print(\"Name:\", hydrogen.name)\n",
        "print(\"Symbol:\", hydrogen.symbol)\n",
        "print(\"Number:\", hydrogen.number)\n"
      ],
      "metadata": {
        "colab": {
          "base_uri": "https://localhost:8080/"
        },
        "id": "zlBuLYRwMyRC",
        "outputId": "e4c5f933-2718-46ad-9e2f-046dc3f77e72"
      },
      "execution_count": 8,
      "outputs": [
        {
          "output_type": "stream",
          "name": "stdout",
          "text": [
            "Name: Hydrogen\n",
            "Symbol: H\n",
            "Number: 1\n"
          ]
        }
      ]
    },
    {
      "cell_type": "markdown",
      "source": [
        "**9. Define three classes: Bear, Rabbit, and Octothorpe. For each, define only one method: eats(). This\n",
        "should return &#39;berries&#39; (Bear), &#39;clover&#39; (Rabbit), or &#39;campers&#39; (Octothorpe). Create one object from\n",
        "each and print what it eats.**"
      ],
      "metadata": {
        "id": "vo81bDE6M1Fg"
      }
    },
    {
      "cell_type": "code",
      "source": [
        "class Bear:\n",
        "    def eats(self):\n",
        "        return 'berries'\n",
        "\n",
        "class Rabbit:\n",
        "    def eats(self):\n",
        "        return 'clover'\n",
        "\n",
        "class Octothorpe:\n",
        "    def eats(self):\n",
        "        return 'campers'\n",
        "\n",
        "# Create objects from each class\n",
        "bear = Bear()\n",
        "rabbit = Rabbit()\n",
        "octothorpe = Octothorpe()\n",
        "\n",
        "# Print what each animal eats\n",
        "print(\"Bear eats:\", bear.eats())\n",
        "print(\"Rabbit eats:\", rabbit.eats())\n",
        "print(\"Octothorpe eats:\", octothorpe.eats())\n",
        "\n"
      ],
      "metadata": {
        "id": "ScR-oYbSM3zX"
      },
      "execution_count": null,
      "outputs": []
    },
    {
      "cell_type": "markdown",
      "source": [
        "**10. Define these classes: Laser, Claw, and SmartPhone. Each has only one method: does(). This\n",
        "returns &#39;disintegrate&#39; (Laser), &#39;crush&#39; (Claw), or &#39;ring&#39; (SmartPhone). Then, define the class Robot that\n",
        "has one instance (object) of each of these. Define a does() method for the Robot that prints what its\n",
        "component objects do.**"
      ],
      "metadata": {
        "id": "EJShlGUhM7IQ"
      }
    },
    {
      "cell_type": "code",
      "source": [
        "class Laser:\n",
        "    def does(self):\n",
        "        return 'disintegrate'\n",
        "\n",
        "class Claw:\n",
        "    def does(self):\n",
        "        return 'crush'\n",
        "\n",
        "class SmartPhone:\n",
        "    def does(self):\n",
        "        return 'ring'\n",
        "\n",
        "class Robot:\n",
        "    def __init__(self):\n",
        "        self.laser = Laser()\n",
        "        self.claw = Claw()\n",
        "        self.smartphone = SmartPhone()\n",
        "\n",
        "    def does(self):\n",
        "        print(\"Laser:\", self.laser.does())\n",
        "        print(\"Claw:\", self.claw.does())\n",
        "        print(\"SmartPhone:\", self.smartphone.does())\n",
        "\n",
        "# Create a Robot object\n",
        "robot = Robot()\n",
        "\n",
        "# Call the does() method of the Robot to see what its components do\n",
        "robot.does()\n"
      ],
      "metadata": {
        "colab": {
          "base_uri": "https://localhost:8080/"
        },
        "id": "VkOKxgM_M_VH",
        "outputId": "dafcac2b-7dd7-4f87-935e-d76e5464bcc2"
      },
      "execution_count": 9,
      "outputs": [
        {
          "output_type": "stream",
          "name": "stdout",
          "text": [
            "Laser: disintegrate\n",
            "Claw: crush\n",
            "SmartPhone: ring\n"
          ]
        }
      ]
    }
  ]
}