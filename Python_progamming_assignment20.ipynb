{
  "nbformat": 4,
  "nbformat_minor": 0,
  "metadata": {
    "colab": {
      "provenance": []
    },
    "kernelspec": {
      "name": "python3",
      "display_name": "Python 3"
    },
    "language_info": {
      "name": "python"
    }
  },
  "cells": [
    {
      "cell_type": "markdown",
      "source": [
        "**Question1\n",
        "Create a function that takes a list of strings and integers, and filters out the list so that it\n",
        "returns a list of integers only.**\n",
        "\n",
        "**Examples**\n",
        "\n",
        "**filter_list([1, 2, 3, &quot;a&quot;, &quot;b&quot;, 4]) ➞ [1, 2, 3, 4]**\n",
        "\n",
        "**filter_list([&quot;A&quot;, 0, &quot;Edabit&quot;, 1729, &quot;Python&quot;, &quot;1729&quot;]) ➞ [0, 1729]**\n",
        "\n",
        "**filter_list([&quot;Nothing&quot;, &quot;here&quot;]) ➞ []**"
      ],
      "metadata": {
        "id": "tx1Fd50b2ge8"
      }
    },
    {
      "cell_type": "code",
      "execution_count": 1,
      "metadata": {
        "colab": {
          "base_uri": "https://localhost:8080/"
        },
        "id": "1eZjgirQ2eVs",
        "outputId": "cea5ae2c-1017-4c64-8ae1-00254b539bdd"
      },
      "outputs": [
        {
          "output_type": "stream",
          "name": "stdout",
          "text": [
            "[1, 2, 3, 4]\n",
            "[0, 1729]\n",
            "[]\n"
          ]
        }
      ],
      "source": [
        "def filter_list(lst):\n",
        "    return [x for x in lst if isinstance(x, int)]\n",
        "\n",
        "# Test cases\n",
        "print(filter_list([1, 2, 3, \"a\", \"b\", 4]))  # ➞ [1, 2, 3, 4]\n",
        "print(filter_list([\"A\", 0, \"Edabit\", 1729, \"Python\", \"1729\"]))  # ➞ [0, 1729]\n",
        "print(filter_list([\"Nothing\", \"here\"]))  # ➞ []\n"
      ]
    },
    {
      "cell_type": "markdown",
      "source": [
        "**Question2\n",
        "Given a list of numbers, create a function which returns the list but with each element&#39;s\n",
        "index in the list added to itself. This means you add 0 to the number at index 0, add 1 to the\n",
        "number at index 1, etc...**\n",
        "\n",
        "**Examples**\n",
        "\n",
        "**add_indexes([0, 0, 0, 0, 0]) ➞ [0, 1, 2, 3, 4]**\n",
        "\n",
        "**add_indexes([1, 2, 3, 4, 5]) ➞ [1, 3, 5, 7, 9]**\n",
        "\n",
        "**add_indexes([5, 4, 3, 2, 1]) ➞ [5, 5, 5, 5, 5]**"
      ],
      "metadata": {
        "id": "h4InAWwx2osN"
      }
    },
    {
      "cell_type": "code",
      "source": [
        "def add_indexes(lst):\n",
        "    return [i + val for i, val in enumerate(lst)]\n",
        "\n",
        "# Test cases\n",
        "print(add_indexes([0, 0, 0, 0, 0]))  # ➞ [0, 1, 2, 3, 4]\n",
        "print(add_indexes([1, 2, 3, 4, 5]))  # ➞ [1, 3, 5, 7, 9]\n",
        "print(add_indexes([5, 4, 3, 2, 1]))  # ➞ [5, 5, 5, 5, 5]\n"
      ],
      "metadata": {
        "colab": {
          "base_uri": "https://localhost:8080/"
        },
        "id": "SrGBqPjC2jup",
        "outputId": "3ea51222-5a4d-42ec-9311-a7a785f301b2"
      },
      "execution_count": 2,
      "outputs": [
        {
          "output_type": "stream",
          "name": "stdout",
          "text": [
            "[0, 1, 2, 3, 4]\n",
            "[1, 3, 5, 7, 9]\n",
            "[5, 5, 5, 5, 5]\n"
          ]
        }
      ]
    },
    {
      "cell_type": "markdown",
      "source": [
        "**Question3\n",
        "Create a function that takes the height and radius of a cone as arguments and returns the\n",
        "volume of the cone rounded to the nearest hundredth. See the resources tab for the formula.**\n",
        "\n",
        "**Examples**\n",
        "\n",
        "**cone_volume(3, 2) ➞ 12.57**\n",
        "\n",
        "**cone_volume(15, 6) ➞ 565.49**\n",
        "\n",
        "**cone_volume(18, 0) ➞ 0**"
      ],
      "metadata": {
        "id": "gZAKof3h3LVG"
      }
    },
    {
      "cell_type": "code",
      "source": [
        "import math\n",
        "\n",
        "def cone_volume(h, r):\n",
        "    volume = (1/3) * math.pi * r**2 * h\n",
        "    return round(volume, 2)\n",
        "\n",
        "# Test cases\n",
        "print(cone_volume(3, 2))  # ➞ 12.57\n",
        "print(cone_volume(15, 6))  # ➞ 565.49\n",
        "print(cone_volume(18, 0))  # ➞ 0\n"
      ],
      "metadata": {
        "colab": {
          "base_uri": "https://localhost:8080/"
        },
        "id": "vfOVEEEg3C1E",
        "outputId": "96fc4b66-7994-49a3-96ae-fc0cd28079fb"
      },
      "execution_count": 3,
      "outputs": [
        {
          "output_type": "stream",
          "name": "stdout",
          "text": [
            "12.57\n",
            "565.49\n",
            "0.0\n"
          ]
        }
      ]
    },
    {
      "cell_type": "markdown",
      "source": [
        "**Question4\n",
        "This Triangular Number Sequence is generated from a pattern of dots that form a triangle.**\n",
        "\n",
        "**The first 5 numbers of the sequence, or dots, are:**\n",
        "\n",
        "**1, 3, 6, 10, 15**\n",
        "\n",
        "**This means that the first triangle has just one dot, the second one has three dots, the third one\n",
        "has 6 dots and so on.**\n",
        "\n",
        "**Write a function that gives the number of dots with its corresponding triangle number of the\n",
        "sequence.**\n",
        "\n",
        "**Examples**\n",
        "\n",
        "**triangle(1) ➞ 1**\n",
        "**triangle(6) ➞ 21**\n",
        "**triangle(215) ➞ 23220\n",
        "\n",
        "\n",
        "\n",
        "\n",
        "**Ans:** To find the number of dots for a given triangle number in the sequence, you can use the formula for the\n",
        "nth triangular number:\n",
        "\n",
        "𝑇\n",
        "𝑛\n",
        "=\n",
        "𝑛\n",
        "(\n",
        "𝑛\n",
        "+\n",
        "1\n",
        ")/2\n",
        "\n",
        "Where:\n",
        "\n",
        "* 𝑇\n",
        "𝑛  is the nth triangular number,\n",
        "* 𝑛is the index of the triangle in the sequence."
      ],
      "metadata": {
        "id": "UoPGFDnK3vRy"
      }
    },
    {
      "cell_type": "code",
      "source": [
        "def triangle(n):\n",
        "    return (n * (n + 1)) // 2\n",
        "\n",
        "# Test cases\n",
        "print(triangle(1))   # ➞ 1\n",
        "print(triangle(6))   # ➞ 21\n",
        "print(triangle(215)) # ➞ 23220\n"
      ],
      "metadata": {
        "colab": {
          "base_uri": "https://localhost:8080/"
        },
        "id": "wYGbx36z3e9p",
        "outputId": "9e80fbec-715d-4af5-8492-eb319139432d"
      },
      "execution_count": 4,
      "outputs": [
        {
          "output_type": "stream",
          "name": "stdout",
          "text": [
            "1\n",
            "21\n",
            "23220\n"
          ]
        }
      ]
    },
    {
      "cell_type": "markdown",
      "source": [
        "**Question5\n",
        "Create a function that takes a list of numbers between 1 and 10 (excluding one number) and\n",
        "returns the missing number.**\n",
        "\n",
        "**Examples**\n",
        "\n",
        "**missing_num([1, 2, 3, 4, 6, 7, 8, 9, 10]) ➞ 5**\n",
        "\n",
        "**missing_num([7, 2, 3, 6, 5, 9, 1, 4, 8]) ➞ 10**\n",
        "\n",
        "**missing_num([10, 5, 1, 2, 4, 6, 8, 3, 9]) ➞ 7**"
      ],
      "metadata": {
        "id": "XvIFlaxZ4CKy"
      }
    },
    {
      "cell_type": "code",
      "source": [
        "def missing_num(lst):\n",
        "    total_sum = 55  # Sum of numbers from 1 to 10\n",
        "    list_sum = sum(lst)\n",
        "    return total_sum - list_sum\n",
        "\n",
        "# Test cases\n",
        "print(missing_num([1, 2, 3, 4, 6, 7, 8, 9, 10]))  # ➞ 5\n",
        "print(missing_num([7, 2, 3, 6, 5, 9, 1, 4, 8]))   # ➞ 10\n",
        "print(missing_num([10, 5, 1, 2, 4, 6, 8, 3, 9]))  # ➞ 7\n"
      ],
      "metadata": {
        "id": "wtFwHdGR3-Hx"
      },
      "execution_count": 4,
      "outputs": []
    }
  ]
}