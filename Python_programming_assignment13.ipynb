{
  "nbformat": 4,
  "nbformat_minor": 0,
  "metadata": {
    "colab": {
      "provenance": []
    },
    "kernelspec": {
      "name": "python3",
      "display_name": "Python 3"
    },
    "language_info": {
      "name": "python"
    }
  },
  "cells": [
    {
      "cell_type": "markdown",
      "source": [
        "**Question 1:\n",
        "Write a program that calculates and prints the value according to the given formula:**\n",
        "\n",
        "Q = Square root of [(2 * C * D)/H]\n",
        "\n",
        "Following are the fixed values of C and H:\n",
        "\n",
        "C is 50. H is 30.\n",
        "D is the variable whose values should be input to your program in a comma-separated\n",
        "sequence.\n",
        "\n",
        "Example\n",
        "\n",
        "Let us assume the following comma separated input sequence is given to the program:\n",
        "100,150,180\n",
        "The output of the program should be:\n",
        "18,22,24"
      ],
      "metadata": {
        "id": "QYua3W2uUCFG"
      }
    },
    {
      "cell_type": "code",
      "execution_count": 2,
      "metadata": {
        "colab": {
          "base_uri": "https://localhost:8080/"
        },
        "id": "U-pjGkO4Ti23",
        "outputId": "6ff84f77-e524-4d52-90c2-34590f2cd4c0"
      },
      "outputs": [
        {
          "output_type": "stream",
          "name": "stdout",
          "text": [
            "18,22,24\n"
          ]
        }
      ],
      "source": [
        "import math\n",
        "\n",
        "def calculate_Q(input_string):\n",
        "    C = 50\n",
        "    H = 30\n",
        "    D_values = input_string.split(',')\n",
        "    results = []\n",
        "    for D in D_values:\n",
        "        Q = math.sqrt((2 * C * int(D)) / H)\n",
        "        results.append(int(Q))\n",
        "    return ','.join(map(str, results))\n",
        "\n",
        "# Example usage\n",
        "input_sequence = \"100,150,180\"\n",
        "output_sequence = calculate_Q(input_sequence)\n",
        "print(output_sequence)\n"
      ]
    },
    {
      "cell_type": "markdown",
      "source": [
        "**Question 2:\n",
        "Write a program which takes 2 digits, X,Y as input and generates a 2-dimensional array. The\n",
        "element value in the i-th row and j-th column of the array should be i*j.**\n",
        "\n",
        "Note: i=0,1.., X-1; j=0,1,¡Y-1.\n",
        "\n",
        "Example\n",
        "\n",
        "Suppose the following inputs are given to the program:\n",
        "3,5\n",
        "Then, the output of the program should be:\n",
        "[[0, 0, 0, 0, 0], [0, 1, 2, 3, 4], [0, 2, 4, 6, 8]]"
      ],
      "metadata": {
        "id": "6BzMy-l3U1W1"
      }
    },
    {
      "cell_type": "code",
      "source": [
        "def generate_2d_array(X, Y):\n",
        "    array_2d = []\n",
        "    for i in range(X):\n",
        "        row = []\n",
        "        for j in range(Y):\n",
        "            row.append(i * j)\n",
        "        array_2d.append(row)\n",
        "    return array_2d\n",
        "\n",
        "# Example usage\n",
        "X, Y = map(int, input(\"Enter two digits X, Y separated by comma: \").split(','))\n",
        "output_array = generate_2d_array(X, Y)\n",
        "print(output_array)\n",
        "\n"
      ],
      "metadata": {
        "colab": {
          "base_uri": "https://localhost:8080/"
        },
        "id": "l8R5ZG2_UVnw",
        "outputId": "b3975580-e4fa-4ba1-c0de-a5fb63a1c5ff"
      },
      "execution_count": 4,
      "outputs": [
        {
          "output_type": "stream",
          "name": "stdout",
          "text": [
            "Enter two digits X, Y separated by comma: 5,6\n",
            "[[0, 0, 0, 0, 0, 0], [0, 1, 2, 3, 4, 5], [0, 2, 4, 6, 8, 10], [0, 3, 6, 9, 12, 15], [0, 4, 8, 12, 16, 20]]\n"
          ]
        }
      ]
    },
    {
      "cell_type": "markdown",
      "source": [
        "**Question 3:\n",
        "Write a program that accepts a comma separated sequence of words as input and prints the\n",
        "words in a comma-separated sequence after sorting them alphabetically.**\n",
        "\n",
        "Suppose the following input is supplied to the program:\n",
        "\n",
        "without,hello,bag,world\n",
        "\n",
        "Then, the output should be:\n",
        "\n",
        "bag,hello,without,world"
      ],
      "metadata": {
        "id": "pxGAEEBpV1nq"
      }
    },
    {
      "cell_type": "code",
      "source": [
        "def sort_words(input_string):\n",
        "    words = input_string.split(',')\n",
        "    sorted_words = sorted(words)\n",
        "    return ','.join(sorted_words)\n",
        "\n",
        "# Example usage\n",
        "input_sequence = input(\"Enter a comma-separated sequence of words: \")\n",
        "sorted_sequence = sort_words(input_sequence)\n",
        "print(sorted_sequence)\n"
      ],
      "metadata": {
        "colab": {
          "base_uri": "https://localhost:8080/"
        },
        "id": "gavznNJKVnhS",
        "outputId": "cff709c4-6afa-448d-e35b-54ed84d5b10a"
      },
      "execution_count": 6,
      "outputs": [
        {
          "output_type": "stream",
          "name": "stdout",
          "text": [
            "Enter a comma-separated sequence of words: mango, apple, papaya, lemon\n",
            " apple, lemon, papaya,mango\n"
          ]
        }
      ]
    },
    {
      "cell_type": "markdown",
      "source": [
        "**Question 4:\n",
        "Write a program that accepts a sequence of whitespace separated words as input and prints\n",
        "the words after removing all duplicate words and sorting them alphanumerically.**\n",
        "\n",
        "Suppose the following input is supplied to the program:\n",
        "\n",
        "hello world and practice makes perfect and hello world again\n",
        "\n",
        "Then, the output should be:\n",
        "\n",
        "again and hello makes perfect practice world"
      ],
      "metadata": {
        "id": "D4fVwdtlbBkX"
      }
    },
    {
      "cell_type": "code",
      "source": [
        "def remove_duplicates_and_sort(input_string):\n",
        "    words = input_string.split()\n",
        "    unique_words = sorted(set(words))\n",
        "    return ' '.join(unique_words)\n",
        "\n",
        "# Example usage\n",
        "input_sequence = input(\"Enter a sequence of whitespace-separated words: \")\n",
        "result = remove_duplicates_and_sort(input_sequence)\n",
        "print(result)\n"
      ],
      "metadata": {
        "colab": {
          "base_uri": "https://localhost:8080/"
        },
        "id": "0JD7NbOCWBsv",
        "outputId": "909f9eec-f83a-48f7-d60d-2acf98865a9f"
      },
      "execution_count": 7,
      "outputs": [
        {
          "output_type": "stream",
          "name": "stdout",
          "text": [
            "Enter a sequence of whitespace-separated words: hey lovely people\n",
            "hey lovely people\n"
          ]
        }
      ]
    },
    {
      "cell_type": "markdown",
      "source": [
        "**Question 5:\n",
        "Write a program that accepts a sentence and calculate the number of letters and digits.**\n",
        "\n",
        "Suppose the following input is supplied to the program:\n",
        "\n",
        "hello world! 123\n",
        "\n",
        "Then, the output should be:\n",
        "\n",
        "LETTERS 10"
      ],
      "metadata": {
        "id": "Um2JVhEJbqif"
      }
    },
    {
      "cell_type": "code",
      "source": [
        "def count_letters_and_digits(sentence):\n",
        "    letter_count = sum(c.isalpha() for c in sentence)\n",
        "    digit_count = sum(c.isdigit() for c in sentence)\n",
        "    return letter_count, digit_count\n",
        "\n",
        "# Example usage\n",
        "input_sentence = input(\"Enter a sentence: \")\n",
        "letter_count, digit_count = count_letters_and_digits(input_sentence)\n",
        "print(\"LETTERS:\", letter_count)\n"
      ],
      "metadata": {
        "colab": {
          "base_uri": "https://localhost:8080/"
        },
        "id": "owhp3sdpbXYl",
        "outputId": "4e7b9859-e2fb-4c13-f4a1-645cb9eccdd6"
      },
      "execution_count": 8,
      "outputs": [
        {
          "output_type": "stream",
          "name": "stdout",
          "text": [
            "Enter a sentence: Life is beautiful\n",
            "LETTERS: 15\n"
          ]
        }
      ]
    }
  ]
}