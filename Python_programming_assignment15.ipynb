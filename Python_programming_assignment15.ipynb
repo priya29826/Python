{
  "nbformat": 4,
  "nbformat_minor": 0,
  "metadata": {
    "colab": {
      "provenance": []
    },
    "kernelspec": {
      "name": "python3",
      "display_name": "Python 3"
    },
    "language_info": {
      "name": "python"
    }
  },
  "cells": [
    {
      "cell_type": "markdown",
      "source": [
        "**Question 1:\n",
        "Please write a program using generator to print the numbers which can be divisible by 5 and\n",
        "7 between 0 and n in comma separated form while n is input by console.**\n",
        "\n",
        "**Example:**\n",
        "\n",
        "**If the following n is given as input to the program:\n",
        "100**\n",
        "\n",
        "**Then, the output of the program should be:\n",
        "0,35,70**"
      ],
      "metadata": {
        "id": "Zs_0_BVDqPIo"
      }
    },
    {
      "cell_type": "code",
      "execution_count": 2,
      "metadata": {
        "colab": {
          "base_uri": "https://localhost:8080/"
        },
        "id": "r9KZThI9qOFG",
        "outputId": "4da916b8-2440-48ac-aa7d-ad0bcb0fc7e3"
      },
      "outputs": [
        {
          "output_type": "stream",
          "name": "stdout",
          "text": [
            "Please enter a number (n): 200\n",
            "0,35,70,105,140,175\n"
          ]
        }
      ],
      "source": [
        "def divisible_by_5_and_7(n):\n",
        "    for i in range(n+1):\n",
        "        if i % 5 == 0 and i % 7 == 0:\n",
        "            yield i\n",
        "\n",
        "def main():\n",
        "    n = int(input(\"Please enter a number (n): \"))\n",
        "    result = divisible_by_5_and_7(n)\n",
        "    print(','.join(map(str, result)))\n",
        "\n",
        "if __name__ == \"__main__\":\n",
        "    main()\n"
      ]
    },
    {
      "cell_type": "markdown",
      "source": [
        "**Question 2:\n",
        "Please write a program using generator to print the even numbers between 0 and n in comma\n",
        "separated form while n is input by console.**\n",
        "\n",
        "**Example:**\n",
        "\n",
        "**If the following n is given as input to the program:\n",
        "10**\n",
        "\n",
        "**Then, the output of the program should be:\n",
        "0,2,4,6,8,10**"
      ],
      "metadata": {
        "id": "fRYemlHCqt5O"
      }
    },
    {
      "cell_type": "code",
      "source": [
        "def even_numbers(n):\n",
        "    for i in range(n+1):\n",
        "        if i % 2 == 0:\n",
        "            yield i\n",
        "\n",
        "def main():\n",
        "    n = int(input(\"Please enter a number (n): \"))\n",
        "    result = even_numbers(n)\n",
        "    print(','.join(map(str, result)))\n",
        "\n",
        "if __name__ == \"__main__\":\n",
        "    main()\n"
      ],
      "metadata": {
        "colab": {
          "base_uri": "https://localhost:8080/"
        },
        "id": "2x6fUVQyqfup",
        "outputId": "cfe84a42-fe18-4de8-ded3-7887caf579b0"
      },
      "execution_count": 3,
      "outputs": [
        {
          "output_type": "stream",
          "name": "stdout",
          "text": [
            "Please enter a number (n): 100\n",
            "0,2,4,6,8,10,12,14,16,18,20,22,24,26,28,30,32,34,36,38,40,42,44,46,48,50,52,54,56,58,60,62,64,66,68,70,72,74,76,78,80,82,84,86,88,90,92,94,96,98,100\n"
          ]
        }
      ]
    },
    {
      "cell_type": "markdown",
      "source": [
        "**Question 3:\n",
        "The Fibonacci Sequence is computed based on the following formula:**\n",
        "\n",
        "**f(n)=0 if n=0**\n",
        "\n",
        "**f(n)=1 if n=1**\n",
        "\n",
        "**f(n)=f(n-1)+f(n-2) if n&gt;1**\n",
        "\n",
        "**Please write a program using list comprehension to print the Fibonacci Sequence in comma\n",
        "separated form with a given n input by console.**\n",
        "\n",
        "**Example:\n",
        "If the following n is given as input to the program:\n",
        "7**\n",
        "\n",
        "**Then, the output of the program should be:\n",
        "0,1,1,2,3,5,8,13**"
      ],
      "metadata": {
        "id": "-vJou_7arE9Q"
      }
    },
    {
      "cell_type": "code",
      "source": [
        "def fibonacci_sequence(n):\n",
        "    fib = [0, 1]\n",
        "    [fib.append(fib[-1] + fib[-2]) for _ in range(2, n+1)]\n",
        "    return fib[:n+1]\n",
        "\n",
        "def main():\n",
        "    n = int(input(\"Please enter a number (n): \"))\n",
        "    result = fibonacci_sequence(n)\n",
        "    print(','.join(map(str, result)))\n",
        "\n",
        "if __name__ == \"__main__\":\n",
        "    main()\n"
      ],
      "metadata": {
        "colab": {
          "base_uri": "https://localhost:8080/"
        },
        "id": "rvn18ZetrJiU",
        "outputId": "81b6d687-6fd6-4c94-c2d3-ff26672c3851"
      },
      "execution_count": 4,
      "outputs": [
        {
          "output_type": "stream",
          "name": "stdout",
          "text": [
            "Please enter a number (n): 200\n",
            "0,1,1,2,3,5,8,13,21,34,55,89,144,233,377,610,987,1597,2584,4181,6765,10946,17711,28657,46368,75025,121393,196418,317811,514229,832040,1346269,2178309,3524578,5702887,9227465,14930352,24157817,39088169,63245986,102334155,165580141,267914296,433494437,701408733,1134903170,1836311903,2971215073,4807526976,7778742049,12586269025,20365011074,32951280099,53316291173,86267571272,139583862445,225851433717,365435296162,591286729879,956722026041,1548008755920,2504730781961,4052739537881,6557470319842,10610209857723,17167680177565,27777890035288,44945570212853,72723460248141,117669030460994,190392490709135,308061521170129,498454011879264,806515533049393,1304969544928657,2111485077978050,3416454622906707,5527939700884757,8944394323791464,14472334024676221,23416728348467685,37889062373143906,61305790721611591,99194853094755497,160500643816367088,259695496911122585,420196140727489673,679891637638612258,1100087778366101931,1779979416004714189,2880067194370816120,4660046610375530309,7540113804746346429,12200160415121876738,19740274219868223167,31940434634990099905,51680708854858323072,83621143489848422977,135301852344706746049,218922995834555169026,354224848179261915075,573147844013817084101,927372692193078999176,1500520536206896083277,2427893228399975082453,3928413764606871165730,6356306993006846248183,10284720757613717413913,16641027750620563662096,26925748508234281076009,43566776258854844738105,70492524767089125814114,114059301025943970552219,184551825793033096366333,298611126818977066918552,483162952612010163284885,781774079430987230203437,1264937032042997393488322,2046711111473984623691759,3311648143516982017180081,5358359254990966640871840,8670007398507948658051921,14028366653498915298923761,22698374052006863956975682,36726740705505779255899443,59425114757512643212875125,96151855463018422468774568,155576970220531065681649693,251728825683549488150424261,407305795904080553832073954,659034621587630041982498215,1066340417491710595814572169,1725375039079340637797070384,2791715456571051233611642553,4517090495650391871408712937,7308805952221443105020355490,11825896447871834976429068427,19134702400093278081449423917,30960598847965113057878492344,50095301248058391139327916261,81055900096023504197206408605,131151201344081895336534324866,212207101440105399533740733471,343358302784187294870275058337,555565404224292694404015791808,898923707008479989274290850145,1454489111232772683678306641953,2353412818241252672952597492098,3807901929474025356630904134051,6161314747715278029583501626149,9969216677189303386214405760200,16130531424904581415797907386349,26099748102093884802012313146549,42230279526998466217810220532898,68330027629092351019822533679447,110560307156090817237632754212345,178890334785183168257455287891792,289450641941273985495088042104137,468340976726457153752543329995929,757791618667731139247631372100066,1226132595394188293000174702095995,1983924214061919432247806074196061,3210056809456107725247980776292056,5193981023518027157495786850488117,8404037832974134882743767626780173,13598018856492162040239554477268290,22002056689466296922983322104048463,35600075545958458963222876581316753,57602132235424755886206198685365216,93202207781383214849429075266681969,150804340016807970735635273952047185,244006547798191185585064349218729154,394810887814999156320699623170776339,638817435613190341905763972389505493,1033628323428189498226463595560281832,1672445759041379840132227567949787325,2706074082469569338358691163510069157,4378519841510949178490918731459856482,7084593923980518516849609894969925639,11463113765491467695340528626429782121,18547707689471986212190138521399707760,30010821454963453907530667147829489881,48558529144435440119720805669229197641,78569350599398894027251472817058687522,127127879743834334146972278486287885163,205697230343233228174223751303346572685,332825110087067562321196029789634457848,538522340430300790495419781092981030533,871347450517368352816615810882615488381,1409869790947669143312035591975596518914,2281217241465037496128651402858212007295,3691087032412706639440686994833808526209,5972304273877744135569338397692020533504,9663391306290450775010025392525829059713,15635695580168194910579363790217849593217,25299086886458645685589389182743678652930,40934782466626840596168752972961528246147,66233869353085486281758142155705206899077,107168651819712326877926895128666735145224,173402521172797813159685037284371942044301,280571172992510140037611932413038677189525\n"
          ]
        }
      ]
    },
    {
      "cell_type": "markdown",
      "source": [
        "**Question 4:\n",
        "Assuming that we have some email addresses in the &quot;username@companyname.com&quot; format,\n",
        "please write program to print the user name of a given email address. Both user names and\n",
        "company names are composed of letters only.**\n",
        "\n",
        "**Example:\n",
        "If the following email address is given as input to the program:\n",
        "john@google.com\n",
        "Then, the output of the program should be:\n",
        "john**"
      ],
      "metadata": {
        "id": "KoaHS8Jfrxl3"
      }
    },
    {
      "cell_type": "code",
      "source": [
        "def extract_username(email):\n",
        "    # Split the email address by '@' and return the first part\n",
        "    return email.split('@')[0]\n",
        "\n",
        "def main():\n",
        "    email = input(\"Please enter an email address: \")\n",
        "    username = extract_username(email)\n",
        "    print(username)\n",
        "\n",
        "if __name__ == \"__main__\":\n",
        "    main()\n"
      ],
      "metadata": {
        "colab": {
          "base_uri": "https://localhost:8080/"
        },
        "id": "D0y-RVqkrqj-",
        "outputId": "3ad87b13-4728-4a8b-da93-a1e2aa341a7f"
      },
      "execution_count": 5,
      "outputs": [
        {
          "output_type": "stream",
          "name": "stdout",
          "text": [
            "Please enter an email address: pri.vk.908@gmail.com\n",
            "pri.vk.908\n"
          ]
        }
      ]
    },
    {
      "cell_type": "markdown",
      "source": [
        "**Question 5:\n",
        "Define a class named Shape and its subclass Square. The Square class has an init function\n",
        "which takes a length as argument. Both classes have a area function which can print the area\n",
        "of the shape where Shape&#39;s area is 0 by default.**"
      ],
      "metadata": {
        "id": "Vl9aMUXtsZcH"
      }
    },
    {
      "cell_type": "code",
      "source": [
        "class Shape:\n",
        "    def area(self):\n",
        "        return 0\n",
        "\n",
        "class Square(Shape):\n",
        "    def __init__(self, length):\n",
        "        self.length = length\n",
        "\n",
        "    def area(self):\n",
        "        return self.length ** 2\n",
        "\n",
        "# Example usage:\n",
        "square = Square(5)\n",
        "print(\"Area of the square:\", square.area())\n",
        "\n",
        "shape = Shape()\n",
        "print(\"Area of the shape:\", shape.area())\n"
      ],
      "metadata": {
        "colab": {
          "base_uri": "https://localhost:8080/"
        },
        "id": "FHEiM8i8sGDh",
        "outputId": "b34b9bf5-5df4-4122-8bcc-b1b89e8380ef"
      },
      "execution_count": 6,
      "outputs": [
        {
          "output_type": "stream",
          "name": "stdout",
          "text": [
            "Area of the square: 25\n",
            "Area of the shape: 0\n"
          ]
        }
      ]
    },
    {
      "cell_type": "code",
      "source": [],
      "metadata": {
        "id": "fjvEUWAssX8o"
      },
      "execution_count": null,
      "outputs": []
    }
  ]
}