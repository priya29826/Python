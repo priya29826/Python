{
  "nbformat": 4,
  "nbformat_minor": 0,
  "metadata": {
    "colab": {
      "provenance": []
    },
    "kernelspec": {
      "name": "python3",
      "display_name": "Python 3"
    },
    "language_info": {
      "name": "python"
    }
  },
  "cells": [
    {
      "cell_type": "markdown",
      "source": [
        "**Question1\n",
        "Write a function that takes a list and a number as arguments. Add the number to the end of\n",
        "the list, then remove the first element of the list. The function should then return the updated\n",
        "list.**\n",
        "\n",
        "**Examples**\n",
        "\n",
        "next_in_line([5, 6, 7, 8, 9], 1) ➞ [6, 7, 8, 9, 1]\n",
        "\n",
        "next_in_line([7, 6, 3, 23, 17], 10) ➞ [6, 3, 23, 17, 10]\n",
        "\n",
        "next_in_line([1, 10, 20, 42 ], 6) ➞ [10, 20, 42, 6]\n",
        "\n",
        "next_in_line([], 6) ➞ &quot;No list has been selected&quot;"
      ],
      "metadata": {
        "id": "XI3yyOyL9ZAX"
      }
    },
    {
      "cell_type": "code",
      "source": [
        "def next_in_line(lst, num):\n",
        "    if not lst:\n",
        "        return \"No list has been selected\"\n",
        "    lst.append(num)\n",
        "    lst.pop(0)\n",
        "    return lst\n",
        "\n",
        "# Test cases\n",
        "print(next_in_line([5, 6, 7, 8, 9], 1))    # ➞ [6, 7, 8, 9, 1]\n",
        "print(next_in_line([7, 6, 3, 23, 17], 10)) # ➞ [6, 3, 23, 17, 10]\n",
        "print(next_in_line([1, 10, 20, 42], 6))    # ➞ [10, 20, 42, 6]\n",
        "print(next_in_line([], 6))                 # ➞ \"No list has been selected\"\n"
      ],
      "metadata": {
        "colab": {
          "base_uri": "https://localhost:8080/"
        },
        "id": "TIRL9myr9oPx",
        "outputId": "b7b19c40-0da6-4fea-c2f3-67944c8186e8"
      },
      "execution_count": 5,
      "outputs": [
        {
          "output_type": "stream",
          "name": "stdout",
          "text": [
            "[6, 7, 8, 9, 1]\n",
            "[6, 3, 23, 17, 10]\n",
            "[10, 20, 42, 6]\n",
            "No list has been selected\n"
          ]
        }
      ]
    },
    {
      "cell_type": "markdown",
      "source": [
        "**Question2\n",
        "Create the function that takes a list of dictionaries and returns the sum of people&#39;s budgets.**\n",
        "\n",
        "**Examples**\n",
        "\n",
        "get_budgets([\n",
        "{ &quot;name&quot;: &quot;John&quot;, &quot;age&quot;: 21, &quot;budget&quot;: 23000 },\n",
        "{ &quot;name&quot;: &quot;Steve&quot;, &quot;age&quot;: 32, &quot;budget&quot;: 40000 },\n",
        "{ &quot;name&quot;: &quot;Martin&quot;, &quot;age&quot;: 16, &quot;budget&quot;: 2700 }\n",
        "]) ➞ 65700\n",
        "\n",
        "get_budgets([\n",
        "{ &quot;name&quot;: &quot;John&quot;, &quot;age&quot;: 21, &quot;budget&quot;: 29000 },\n",
        "{ &quot;name&quot;: &quot;Steve&quot;, &quot;age&quot;: 32, &quot;budget&quot;: 32000 },\n",
        "{ &quot;name&quot;: &quot;Martin&quot;, &quot;age&quot;: 16, &quot;budget&quot;: 1600 }\n",
        "]) ➞ 62600"
      ],
      "metadata": {
        "id": "QfEauXO8729C"
      }
    },
    {
      "cell_type": "code",
      "source": [
        "def get_budgets(lst):\n",
        "    total_budget = sum(person[\"budget\"] for person in lst)\n",
        "    return total_budget\n",
        "\n",
        "# Test cases\n",
        "print(get_budgets([\n",
        "    {\"name\": \"John\", \"age\": 21, \"budget\": 23000},\n",
        "    {\"name\": \"Steve\", \"age\": 32, \"budget\": 40000},\n",
        "    {\"name\": \"Martin\", \"age\": 16, \"budget\": 2700}\n",
        "]))  # ➞ 65700\n",
        "\n",
        "print(get_budgets([\n",
        "    {\"name\": \"John\", \"age\": 21, \"budget\": 29000},\n",
        "    {\"name\": \"Steve\", \"age\": 32, \"budget\": 32000},\n",
        "    {\"name\": \"Martin\", \"age\": 16, \"budget\": 1600}\n",
        "]))  # ➞ 62600\n"
      ],
      "metadata": {
        "colab": {
          "base_uri": "https://localhost:8080/"
        },
        "id": "ZNU1Gznt9TJ0",
        "outputId": "8f95eed7-4866-4562-9888-efadf2759b7c"
      },
      "execution_count": 4,
      "outputs": [
        {
          "output_type": "stream",
          "name": "stdout",
          "text": [
            "65700\n",
            "62600\n"
          ]
        }
      ]
    },
    {
      "cell_type": "markdown",
      "source": [
        "**Question3\n",
        "Create a function that takes a string and returns a string with its letters in alphabetical order.**\n",
        "\n",
        "**Examples**\n",
        "\n",
        "alphabet_soup(&quot;hello&quot;) ➞ &quot;ehllo&quot;\n",
        "\n",
        "alphabet_soup(&quot;edabit&quot;) ➞ &quot;abdeit&quot;\n",
        "\n",
        "alphabet_soup(&quot;hacker&quot;) ➞ &quot;acehkr&quot;\n",
        "\n",
        "alphabet_soup(&quot;geek&quot;) ➞ &quot;eegk&quot;\n",
        "\n",
        "alphabet_soup(&quot;javascript&quot;) ➞ &quot;aacijprstv&quot;"
      ],
      "metadata": {
        "id": "l5BNUqu_7j2e"
      }
    },
    {
      "cell_type": "code",
      "source": [
        "def alphabet_soup(txt):\n",
        "    sorted_txt = ''.join(sorted(txt))\n",
        "    return sorted_txt\n",
        "\n",
        "# Test cases\n",
        "print(alphabet_soup(\"hello\"))        # ➞ \"ehllo\"\n",
        "print(alphabet_soup(\"edabit\"))       # ➞ \"abdeit\"\n",
        "print(alphabet_soup(\"hacker\"))       # ➞ \"acehkr\"\n",
        "print(alphabet_soup(\"geek\"))         # ➞ \"eegk\"\n",
        "print(alphabet_soup(\"javascript\"))   # ➞ \"aacijprstv\"\n"
      ],
      "metadata": {
        "colab": {
          "base_uri": "https://localhost:8080/"
        },
        "id": "51Vq_ah27vyo",
        "outputId": "5e530c39-5606-434d-d146-026c0e5d2cba"
      },
      "execution_count": 3,
      "outputs": [
        {
          "output_type": "stream",
          "name": "stdout",
          "text": [
            "ehllo\n",
            "abdeit\n",
            "acehkr\n",
            "eegk\n",
            "aacijprstv\n"
          ]
        }
      ]
    },
    {
      "cell_type": "markdown",
      "source": [
        "**Question4\n",
        "Suppose that you invest $10,000 for 10 years at an interest rate of 6% compounded monthly.\n",
        "What will be the value of your investment at the end of the 10 year period?\n",
        "Create a function that accepts the principal p, the term in years t, the interest rate r, and the\n",
        "number of compounding periods per year n. The function returns the value at the end of term\n",
        "rounded to the nearest cent.**\n",
        "\n",
        "**For the example above:**\n",
        "\n",
        "**compound_interest(10000, 10, 0.06, 12) ➞ 18193.97\n",
        "Note that the interest rate is given as a decimal and n=12 because with monthly compounding\n",
        "there are 12 periods per year. Compounding can also be done annually, quarterly, weekly, or\n",
        "daily.**\n",
        "\n",
        "**Examples**\n",
        "\n",
        "compound_interest(100, 1, 0.05, 1) ➞ 105.0\n",
        "\n",
        "compound_interest(3500, 15, 0.1, 4) ➞ 15399.26\n",
        "\n",
        "compound_interest(100000, 20, 0.15, 365) ➞ 2007316.26"
      ],
      "metadata": {
        "id": "3SW3p8XJ619V"
      }
    },
    {
      "cell_type": "code",
      "execution_count": 2,
      "metadata": {
        "colab": {
          "base_uri": "https://localhost:8080/"
        },
        "id": "bkOKl6jR5KF6",
        "outputId": "49e42b35-2bc5-4fd9-9c23-791b923267ec"
      },
      "outputs": [
        {
          "output_type": "stream",
          "name": "stdout",
          "text": [
            "18193.97\n",
            "105.0\n",
            "15399.26\n",
            "2007316.26\n"
          ]
        }
      ],
      "source": [
        "def compound_interest(p, t, r, n):\n",
        "    amount = p * (1 + r / n) ** (n * t)\n",
        "    return round(amount, 2)\n",
        "\n",
        "# Test cases\n",
        "print(compound_interest(10000, 10, 0.06, 12))  # ➞ 18193.97\n",
        "print(compound_interest(100, 1, 0.05, 1))      # ➞ 105.0\n",
        "print(compound_interest(3500, 15, 0.1, 4))     # ➞ 15399.26\n",
        "print(compound_interest(100000, 20, 0.15, 365))# ➞ 2007316.26\n"
      ]
    },
    {
      "cell_type": "markdown",
      "source": [
        "**Question5\n",
        "Write a function that takes a list of elements and returns only the integers.**\n",
        "\n",
        "**Examples**\n",
        "\n",
        "return_only_integer([9, 2, &quot;space&quot;, &quot;car&quot;, &quot;lion&quot;, 16]) ➞ [9, 2, 16]\n",
        "\n",
        "return_only_integer([&quot;hello&quot;, 81, &quot;basketball&quot;, 123, &quot;fox&quot;]) ➞ [81, 123]\n",
        "\n",
        "return_only_integer([10, &quot;121&quot;, 56, 20, &quot;car&quot;, 3, &quot;lion&quot;]) ➞ [10, 56, 20,\n",
        "3]\n",
        "\n",
        "return_only_integer([&quot;String&quot;, True, 3.3, 1]) ➞ [1]"
      ],
      "metadata": {
        "id": "8AnCSwuC5Law"
      }
    },
    {
      "cell_type": "code",
      "source": [
        "def return_only_integer(lst):\n",
        "    return [x for x in lst if isinstance(x, int)]\n",
        "\n",
        "# Test cases\n",
        "print(return_only_integer([9, 2, \"space\", \"car\", \"lion\", 16]))  # ➞ [9, 2, 16]\n",
        "print(return_only_integer([\"hello\", 81, \"basketball\", 123, \"fox\"]))  # ➞ [81, 123]\n",
        "print(return_only_integer([10, \"121\", 56, 20, \"car\", 3, \"lion\"]))  # ➞ [10, 56, 20, 3]\n",
        "print(return_only_integer([\"String\", True, 3.3, 1]))  # ➞ [1]\n"
      ],
      "metadata": {
        "colab": {
          "base_uri": "https://localhost:8080/"
        },
        "id": "5rO13sGI6sdc",
        "outputId": "9477a2ec-4197-4d13-d9a0-9e7cb777622e"
      },
      "execution_count": 1,
      "outputs": [
        {
          "output_type": "stream",
          "name": "stdout",
          "text": [
            "[9, 2, 16]\n",
            "[81, 123]\n",
            "[10, 56, 20, 3]\n",
            "[True, 1]\n"
          ]
        }
      ]
    },
    {
      "cell_type": "code",
      "source": [],
      "metadata": {
        "id": "XiUYgOm76zct"
      },
      "execution_count": null,
      "outputs": []
    }
  ]
}