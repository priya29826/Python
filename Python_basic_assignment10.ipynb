{
  "nbformat": 4,
  "nbformat_minor": 0,
  "metadata": {
    "colab": {
      "provenance": []
    },
    "kernelspec": {
      "name": "python3",
      "display_name": "Python 3"
    },
    "language_info": {
      "name": "python"
    }
  },
  "cells": [
    {
      "cell_type": "markdown",
      "source": [
        "**1. How do you distinguish between shutil.copy() and shutil.copytree()?**\n",
        "\n",
        "**Ans:**\n",
        "shutil.copy() and shutil.copytree() are both functions provided by Python's shutil module for copying files and directories respectively.\n",
        "\n",
        "**1. shutil.copy():**\n",
        "\n",
        "* This function is used to copy a single file from one location to another.\n",
        "* Syntax: shutil.copy(src, dst)\n",
        "* Parameters:\n",
        "   * src: Path to the source file (string).\n",
        "   * dst: Path to the destination directory or file (string). If dst is a directory, the file will be copied into that directory with the same filename.\n",
        "* Example: shutil.copy('source_file.txt', 'destination_file.txt')\n",
        "\n",
        "**2. shutil.copytree():**\n",
        "\n",
        "* This function is used to recursively copy an entire directory tree (including all its contents) from one location to another.\n",
        "* Syntax: shutil.copytree(src, dst, symlinks=False, ignore=None)\n",
        "* Parameters:\n",
        "   * src: Path to the source directory (string).\n",
        "   *  dst: Path to the destination directory (string).\n",
        "   * symlinks: If True, symbolic links in the source tree are represented as symbolic links in the new tree. If False or omitted, symbolic links are copied as the object that they link to (default is False).\n",
        "   * ignore: Optional function to determine which files or directories to ignore during the copying process. If None, no files or directories are ignored.\n",
        "* Example: shutil.copytree('source_directory', 'destination_directory')\n",
        "\n",
        "In summary, shutil.copy() is used to copy individual files, while shutil.copytree() is used to copy entire directory trees, including all files and subdirectories within them.\n",
        "\n",
        "\n",
        "\n"
      ],
      "metadata": {
        "id": "Prrji652KF2G"
      }
    },
    {
      "cell_type": "markdown",
      "source": [
        "**2. What function is used to rename files??**\n",
        "\n",
        "**Ans:** To rename files in Python, you can use the os.rename() function from the os module. Here's how you can use it:\n",
        "\n",
        "In this example, 'old_filename.txt' is the current name of the file, and 'new_filename.txt' is the desired new name for the file. This function will effectively rename the file from 'old_filename.txt' to 'new_filename.txt'.\n",
        "\n",
        "\n",
        "\n",
        "\n"
      ],
      "metadata": {
        "id": "oNpWd9yvKH2K"
      }
    },
    {
      "cell_type": "code",
      "source": [
        "import os\n",
        "\n",
        "# Rename a file\n",
        "os.rename('old_filename.txt', 'new_filename.txt')\n"
      ],
      "metadata": {
        "id": "r1oxit3MOh13"
      },
      "execution_count": null,
      "outputs": []
    },
    {
      "cell_type": "markdown",
      "source": [
        "**3. What is the difference between the delete functions in the send2trash and shutil modules?**\n",
        "\n",
        "**Ans:** The send2trash and shutil modules provide different functionalities for deleting files and directories in Python.\n",
        "\n",
        "**1. send2trash Module:**\n",
        "\n",
        "* The send2trash module provides a cross-platform Pythonic way to send files and directories to the trash (also known as the recycle bin or trash can) instead of permanently deleting them.\n",
        "* The send2trash function sends files or directories to the trash, allowing users to potentially recover them later.\n",
        "* This module is useful when you want to provide a safer alternative to permanently deleting files and directories, especially when dealing with user-generated content or critical files.\n",
        "* Example usage:\n",
        "\n",
        "**2. shutil Module:**\n",
        "\n",
        "* The shutil module provides functions for high-level file operations, including file copying, moving, and deletion.\n",
        "* The shutil.rmtree() function is used to recursively delete a directory tree (i.e., directory and all its contents) permanently from the filesystem.\n",
        "* This module is suitable when you want to delete files and directories permanently and immediately without the option for recovery from the trash.\n",
        "* Example usage:\n",
        "\n",
        "In summary, the main difference lies in the outcome of the deletion operation:\n",
        "\n",
        "* **send2trash** sends files and directories to the system's trash, allowing potential recovery.\n",
        "* **shutil.rmtree()** permanently deletes files and directories from the filesystem without the option for recovery.\n",
        "\n",
        "\n",
        "\n",
        "\n"
      ],
      "metadata": {
        "id": "xzC1apccKTFT"
      }
    },
    {
      "cell_type": "code",
      "source": [
        "#send2trash Module:\n",
        "\n",
        "import send2trash\n",
        "\n",
        "# Send a file to the trash\n",
        "send2trash.send2trash('filename.txt')\n",
        "\n",
        "# Send a directory to the trash (recursive)\n",
        "send2trash.send2trash('directory_name')\n",
        "\n",
        "#shutil Module:\n",
        "\n",
        "import shutil\n",
        "\n",
        "# Permanently delete a directory tree\n",
        "shutil.rmtree('directory_name')"
      ],
      "metadata": {
        "id": "cDHQ1YwYPjUC"
      },
      "execution_count": null,
      "outputs": []
    },
    {
      "cell_type": "markdown",
      "source": [
        "**4. ZipFile objects have a close() method just like File objects’ close() method. What ZipFile method is\n",
        "equivalent to File objects’ open() method?**\n",
        "\n",
        "**Ans:**\n",
        "The equivalent method in ZipFile objects to File objects' open() method is ZipFile() itself.\n",
        "\n",
        "When you want to work with a ZIP file in Python, you typically open it using the ZipFile() constructor, just like you would use the open() function to open a regular file. Here's how you can use it:\n",
        "\n",
        "In this example:\n",
        "\n",
        "* 'example.zip' is the filename of the ZIP archive.\n",
        "* 'r' specifies that the ZIP file is opened in read mode. You can also use 'w' for write mode, 'a' for append mode, or 'x' for exclusive creation mode.\n",
        "\n",
        "Just like open(), you can also use ZipFile() with different modes depending on what you want to do with the ZIP archive.\n",
        "\n",
        "\n",
        "\n"
      ],
      "metadata": {
        "id": "YTB4wYVsKX-y"
      }
    },
    {
      "cell_type": "code",
      "source": [
        "import zipfile\n",
        "\n",
        "# Open a ZIP file\n",
        "with zipfile.ZipFile('example.zip', 'r') as zip_ref:\n",
        "    # Perform operations on the ZIP file\n",
        "    print(zip_ref.namelist())  # Example operation: print the list of files in the ZIP archive\n"
      ],
      "metadata": {
        "id": "Udl_8P78QZ34"
      },
      "execution_count": null,
      "outputs": []
    },
    {
      "cell_type": "markdown",
      "source": [
        "**5. Create a programme that searches a folder tree for files with a certain file extension (such as .pdf\n",
        "or .jpg). Copy these files from whatever location they are in to a new folder.**\n",
        "\n",
        "**Ans:** In this,\n",
        "\n",
        "* The copy_files_with_extension() function takes three arguments: the source folder path, destination folder path, and the file extension to search for.\n",
        "* It creates the destination folder if it doesn't exist.\n",
        "* It walks through the folder tree starting from the source folder.\n",
        "* For each file found with the specified extension, it copies the file to the destination folder.\n",
        "* Replace 'source_folder', 'destination_folder', and '.pdf' with your actual folder paths and extension.\n",
        "* Call copy_files_with_extension() with the appropriate arguments to execute the program.\n",
        "\n",
        "\n",
        "\n",
        "\n"
      ],
      "metadata": {
        "id": "wq5x0SJJKeZ4"
      }
    },
    {
      "cell_type": "code",
      "execution_count": null,
      "metadata": {
        "id": "GryG67AEH7qj"
      },
      "outputs": [],
      "source": [
        "import os\n",
        "import shutil\n",
        "\n",
        "def copy_files_with_extension(source_folder, destination_folder, extension):\n",
        "    if not os.path.exists(destination_folder):\n",
        "        os.makedirs(destination_folder)\n",
        "\n",
        "    for foldername, _, filenames in os.walk(source_folder):\n",
        "        for filename in filenames:\n",
        "            if filename.endswith(extension):\n",
        "                shutil.copy(os.path.join(foldername, filename), os.path.join(destination_folder, filename))\n",
        "\n",
        "# Example usage:\n",
        "copy_files_with_extension('source_folder', 'destination_folder', '.pdf')\n"
      ]
    }
  ]
}