{
  "nbformat": 4,
  "nbformat_minor": 0,
  "metadata": {
    "colab": {
      "provenance": []
    },
    "kernelspec": {
      "name": "python3",
      "display_name": "Python 3"
    },
    "language_info": {
      "name": "python"
    }
  },
  "cells": [
    {
      "cell_type": "markdown",
      "source": [
        "**Question1. Write a function that stutters a word as if someone is struggling to read it. The\n",
        "first two letters are repeated twice with an ellipsis ... and space after each, and then the\n",
        "word is pronounced with a question mark ?.**\n",
        "\n",
        "**Examples**\n",
        "\n",
        "stutter(&quot;incredible&quot;) ➞ &quot;in... in... incredible?&quot;\n",
        "\n",
        "stutter(&quot;enthusiastic&quot;) ➞ &quot;en... en... enthusiastic?&quot;\n",
        "\n",
        "stutter(&quot;outstanding&quot;) ➞ &quot;ou... ou... outstanding?&quot;\n",
        "\n",
        "**Hint :- Assume all input is in lower case and at least two characters long.**"
      ],
      "metadata": {
        "id": "ZV-xCofHwSRQ"
      }
    },
    {
      "cell_type": "code",
      "execution_count": 1,
      "metadata": {
        "colab": {
          "base_uri": "https://localhost:8080/"
        },
        "id": "YeJxhks4v4aH",
        "outputId": "9d6ef40f-648a-4204-8332-1edebfaef207"
      },
      "outputs": [
        {
          "output_type": "stream",
          "name": "stdout",
          "text": [
            "Enter the Word :pretty\n",
            "pretty ➞ pr... pr... pretty?\n",
            "Enter the Word :simple\n",
            "simple ➞ si... si... simple?\n",
            "Enter the Word :butterfly\n",
            "butterfly ➞ bu... bu... butterfly?\n"
          ]
        }
      ],
      "source": [
        "def stutterWord():\n",
        "    in_string = input('Enter the Word :')\n",
        "    out_string = in_string.replace(in_string[0:2],((in_string[0:2]+'... ')*2)+ in_string[0:2])  +'?'\n",
        "    print(f'{in_string} ➞ {out_string}')\n",
        "\n",
        "for i in range(3):\n",
        "    stutterWord()"
      ]
    },
    {
      "cell_type": "markdown",
      "source": [
        "**Question 2.Create a function that takes an angle in radians and returns the corresponding\n",
        "angle in degrees rounded to one decimal place.**\n",
        "\n",
        "**Examples**\n",
        "\n",
        "radians_to_degrees(1) ➞ 57.3\n",
        "\n",
        "radians_to_degrees(20) ➞ 1145.9\n",
        "\n",
        "radians_to_degrees(50) ➞ 2864.8"
      ],
      "metadata": {
        "id": "sKqjeURAwUIq"
      }
    },
    {
      "cell_type": "code",
      "source": [
        "import math\n",
        "def radianToDegree():\n",
        "    in_num = int(input('Enter the angle in Radians: '))\n",
        "    out_num = (180/math.pi)*in_num\n",
        "    print(f'{in_num} radian(s) ➞ {out_num:.1f} degrees')\n",
        "\n",
        "for x in range(3):\n",
        "    radianToDegree()"
      ],
      "metadata": {
        "colab": {
          "base_uri": "https://localhost:8080/"
        },
        "id": "BIgNo-Phv7n4",
        "outputId": "e99fdcfa-2139-4a35-98a7-5f7d11a8d207"
      },
      "execution_count": 3,
      "outputs": [
        {
          "output_type": "stream",
          "name": "stdout",
          "text": [
            "Enter the angle in Radians: 1\n",
            "1 radian(s) ➞ 57.3 degrees\n",
            "Enter the angle in Radians: 100\n",
            "100 radian(s) ➞ 5729.6 degrees\n",
            "Enter the angle in Radians: 20\n",
            "20 radian(s) ➞ 1145.9 degrees\n"
          ]
        }
      ]
    },
    {
      "cell_type": "markdown",
      "source": [
        "**Question 3. In this challenge, establish if a given integer num is a Curzon number. If 1 plus\n",
        "2 elevated to num is exactly divisible by 1 plus 2 multiplied by num, then num is a Curzon\n",
        "number.**\n",
        "\n",
        "**Given a non-negative integer num, implement a function that returns True if num is a Curzon\n",
        "number, or False otherwise.**\n",
        "\n",
        "**Examples**\n",
        "\n",
        "is_curzon(5) ➞ True\n",
        "\n",
        "#### 2 ** 5 + 1 = 33\n",
        "#### 2 * 5 + 1 = 11\n",
        "#### 33 is a multiple of 11\n",
        "\n",
        "is_curzon(10) ➞ False\n",
        "\n",
        "#### 2 ** 10 + 1 = 1025\n",
        "#### 2 * 10 + 1 = 21\n",
        "#### 1025 is not a multiple of 21\n",
        "\n",
        "is_curzon(14) ➞ True\n",
        "\n",
        "#### 2 ** 14 + 1 = 16385\n",
        "#### 2 * 14 + 1 = 29\n",
        "#### 16385 is a multiple of 29"
      ],
      "metadata": {
        "id": "IcmKv8SpwZi0"
      }
    },
    {
      "cell_type": "code",
      "source": [
        "def checkCurzon():\n",
        "    in_num = int(input(\"Enter a number: \"))\n",
        "    if (pow(2,in_num)+1)%((2*in_num)+1) == 0:\n",
        "        print(f'{in_num} is a Curzon Number')\n",
        "    else:\n",
        "        print(f'{in_num} is Not a Curzon Number')\n",
        "\n",
        "for x in range(4):\n",
        "    checkCurzon()"
      ],
      "metadata": {
        "colab": {
          "base_uri": "https://localhost:8080/"
        },
        "id": "15p45__owD5m",
        "outputId": "1645136f-7a85-4ba9-df7b-67ac35b333b4"
      },
      "execution_count": 4,
      "outputs": [
        {
          "output_type": "stream",
          "name": "stdout",
          "text": [
            "Enter a number: 11\n",
            "11 is Not a Curzon Number\n",
            "Enter a number: 30\n",
            "30 is a Curzon Number\n",
            "Enter a number: 88\n",
            "88 is Not a Curzon Number\n",
            "Enter a number: 60\n",
            "60 is Not a Curzon Number\n"
          ]
        }
      ]
    },
    {
      "cell_type": "markdown",
      "source": [
        "**Question 4.Given the side length x find the area of a hexagon.**\n",
        "\n",
        "**Examples**\n",
        "\n",
        "area_of_hexagon(1) ➞ 2.6\n",
        "\n",
        "area_of_hexagon(2) ➞ 10.4\n",
        "\n",
        "area_of_hexagon(3) ➞ 23.4"
      ],
      "metadata": {
        "id": "IPTIMUV4whJM"
      }
    },
    {
      "cell_type": "code",
      "source": [
        "import math\n",
        "def areaOfHexagon():\n",
        "    in_num = int(input('Enter the side length of a Hexagon: '))\n",
        "    out_num = ((3*math.sqrt(3))/2)*(pow(in_num,2))\n",
        "    print(f'Area for Hexagon of sidelength {in_num} ➞ {out_num:.1f}')\n",
        "\n",
        "for x in range(3):\n",
        "    areaOfHexagon()"
      ],
      "metadata": {
        "colab": {
          "base_uri": "https://localhost:8080/"
        },
        "id": "YXybcPX7wII8",
        "outputId": "e02fe2d0-8630-4e7b-b510-91ac389778a4"
      },
      "execution_count": 5,
      "outputs": [
        {
          "output_type": "stream",
          "name": "stdout",
          "text": [
            "Enter the side length of a Hexagon: 100\n",
            "Area for Hexagon of sidelength 100 ➞ 25980.8\n",
            "Enter the side length of a Hexagon: 20\n",
            "Area for Hexagon of sidelength 20 ➞ 1039.2\n",
            "Enter the side length of a Hexagon: 70\n",
            "Area for Hexagon of sidelength 70 ➞ 12730.6\n"
          ]
        }
      ]
    },
    {
      "cell_type": "markdown",
      "source": [
        "**Question 5. Create a function that returns a base-2 (binary) representation of a base-10\n",
        "(decimal) string number. To convert is simple: ((2) means base-2 and (10) means base-10)\n",
        "010101001(2) = 1 + 8 + 32 + 128.**\n",
        "\n",
        "**Going from right to left, the value of the most right bit is 1, now from that every bit to the left\n",
        "will be x2 the value, value of an 8 bit binary numbers are (256, 128, 64, 32, 16, 8, 4, 2, 1).**\n",
        "\n",
        "**Examples**\n",
        "\n",
        "binary(1) ➞ &quot;1&quot;\n",
        "\n",
        "#### 1*1 = 1\n",
        "\n",
        "binary(5) ➞ &quot;101&quot;\n",
        "\n",
        "#### 1*1 + 1*4 = 5\n",
        "\n",
        "binary(10) ➞ &quot;1010&quot;\n",
        "\n",
        "#### 1*2 + 1*8 = 10"
      ],
      "metadata": {
        "id": "JEEtb40lwn3d"
      }
    },
    {
      "cell_type": "code",
      "source": [
        "def getBinary():\n",
        "    in_num = int(input(\"Enter a Number: \"))\n",
        "    out_num = bin(in_num).replace('0b','')\n",
        "    print(f'Binary of {in_num} ➞ {out_num}')\n",
        "\n",
        "for x in range(3):\n",
        "    getBinary()"
      ],
      "metadata": {
        "colab": {
          "base_uri": "https://localhost:8080/"
        },
        "id": "HZLZT0PFwNSv",
        "outputId": "d711340a-1e96-4b59-eeec-a1bada637ffe"
      },
      "execution_count": 2,
      "outputs": [
        {
          "output_type": "stream",
          "name": "stdout",
          "text": [
            "Enter a Number: 1\n",
            "Binary of 1 ➞ 1\n",
            "Enter a Number: 0\n",
            "Binary of 0 ➞ 0\n",
            "Enter a Number: 11100\n",
            "Binary of 11100 ➞ 10101101011100\n"
          ]
        }
      ]
    }
  ]
}