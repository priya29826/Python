{
  "nbformat": 4,
  "nbformat_minor": 0,
  "metadata": {
    "colab": {
      "provenance": []
    },
    "kernelspec": {
      "name": "python3",
      "display_name": "Python 3"
    },
    "language_info": {
      "name": "python"
    }
  },
  "cells": [
    {
      "cell_type": "markdown",
      "source": [
        "**1. Write a Python program to Extract Unique values dictionary values?**\n"
      ],
      "metadata": {
        "id": "lhIHt8O5kZeT"
      }
    },
    {
      "cell_type": "code",
      "execution_count": 1,
      "metadata": {
        "colab": {
          "base_uri": "https://localhost:8080/"
        },
        "id": "4-Vad87akLWY",
        "outputId": "ee4373c3-8ba6-4de9-ca67-13d185efbff6"
      },
      "outputs": [
        {
          "output_type": "stream",
          "name": "stdout",
          "text": [
            "[1, 2, 3]\n"
          ]
        }
      ],
      "source": [
        "def unique_values(dictionary):\n",
        "    unique_values_set = set()\n",
        "    for value in dictionary.values():\n",
        "        if isinstance(value, list):\n",
        "            unique_values_set.update(value)\n",
        "        else:\n",
        "            unique_values_set.add(value)\n",
        "    return list(unique_values_set)\n",
        "\n",
        "# Example usage:\n",
        "my_dict = {'a': 1, 'b': 2, 'c': 3, 'd': 2, 'e': [1, 2, 3]}\n",
        "unique_vals = unique_values(my_dict)\n",
        "print(unique_vals)\n"
      ]
    },
    {
      "cell_type": "markdown",
      "source": [
        "\n",
        "**2. Write a Python program to find the sum of all items in a dictionary?**"
      ],
      "metadata": {
        "id": "NooGvX4nlZX0"
      }
    },
    {
      "cell_type": "code",
      "source": [
        "def sum_of_dict_items(dictionary):\n",
        "    return sum(dictionary.values())\n",
        "\n",
        "# Example usage:\n",
        "my_dict = {'a': 1, 'b': 2, 'c': 3}\n",
        "total_sum = sum_of_dict_items(my_dict)\n",
        "print(total_sum)\n"
      ],
      "metadata": {
        "colab": {
          "base_uri": "https://localhost:8080/"
        },
        "id": "CVbtA5eWkxjN",
        "outputId": "2bb9fb77-5570-4d03-919d-11c73f6f4567"
      },
      "execution_count": 2,
      "outputs": [
        {
          "output_type": "stream",
          "name": "stdout",
          "text": [
            "6\n"
          ]
        }
      ]
    },
    {
      "cell_type": "markdown",
      "source": [
        "**3. Write a Python program to Merging two Dictionaries?**"
      ],
      "metadata": {
        "id": "OJTx1SIglYSI"
      }
    },
    {
      "cell_type": "code",
      "source": [
        "def merge_dicts(dict1, dict2):\n",
        "    return {**dict1, **dict2}\n",
        "\n",
        "# Example usage:\n",
        "dict1 = {'a': 1, 'b': 2}\n",
        "dict2 = {'c': 3, 'd': 4}\n",
        "merged_dict = merge_dicts(dict1, dict2)\n",
        "print(merged_dict)\n"
      ],
      "metadata": {
        "colab": {
          "base_uri": "https://localhost:8080/"
        },
        "id": "wyt_PE5Wkxbg",
        "outputId": "15dbda04-67ba-4b16-f28c-6488d524ac73"
      },
      "execution_count": 3,
      "outputs": [
        {
          "output_type": "stream",
          "name": "stdout",
          "text": [
            "{'a': 1, 'b': 2, 'c': 3, 'd': 4}\n"
          ]
        }
      ]
    },
    {
      "cell_type": "markdown",
      "source": [
        "**4. Write a Python program to convert key-values list to flat dictionary?**"
      ],
      "metadata": {
        "id": "hfMZ07b_lW4e"
      }
    },
    {
      "cell_type": "code",
      "source": [
        "def list_to_dict(key_value_list):\n",
        "    return dict(key_value_list)\n",
        "\n",
        "# Example usage:\n",
        "key_value_list = [('a', 1), ('b', 2), ('c', 3)]\n",
        "flat_dict = list_to_dict(key_value_list)\n",
        "print(flat_dict)\n"
      ],
      "metadata": {
        "colab": {
          "base_uri": "https://localhost:8080/"
        },
        "id": "lkBWbSkJkxY6",
        "outputId": "05d77574-0407-498a-c2a7-1dda4700f37d"
      },
      "execution_count": 4,
      "outputs": [
        {
          "output_type": "stream",
          "name": "stdout",
          "text": [
            "{'a': 1, 'b': 2, 'c': 3}\n"
          ]
        }
      ]
    },
    {
      "cell_type": "markdown",
      "source": [
        "**5. Write a Python program to insertion at the beginning in OrderedDict?**"
      ],
      "metadata": {
        "id": "f_oW0S5dlVJz"
      }
    },
    {
      "cell_type": "code",
      "source": [
        "from collections import OrderedDict\n",
        "\n",
        "# Create an OrderedDict\n",
        "my_ordered_dict = OrderedDict([('a', 1), ('b', 2), ('c', 3)])\n",
        "\n",
        "# Insert an item at the beginning\n",
        "my_ordered_dict.update({'d': 4})\n",
        "\n",
        "print(my_ordered_dict)\n"
      ],
      "metadata": {
        "colab": {
          "base_uri": "https://localhost:8080/"
        },
        "id": "2vvGcKA4mozw",
        "outputId": "f3ca2a7f-b29d-42b0-b5f5-1bb73d7b5031"
      },
      "execution_count": 8,
      "outputs": [
        {
          "output_type": "stream",
          "name": "stdout",
          "text": [
            "OrderedDict([('a', 1), ('b', 2), ('c', 3), ('d', 4)])\n"
          ]
        }
      ]
    },
    {
      "cell_type": "markdown",
      "source": [
        "**6. Write a Python program to check order of character in string using OrderedDict()?**"
      ],
      "metadata": {
        "id": "OFc43S9ulUGK"
      }
    },
    {
      "cell_type": "code",
      "source": [
        "from collections import OrderedDict\n",
        "\n",
        "def check_order(string, pattern):\n",
        "    pattern_dict = OrderedDict.fromkeys(pattern)\n",
        "    j = 0\n",
        "    for key in pattern_dict:\n",
        "        if key not in string:\n",
        "            return False\n",
        "        if string.find(key) < j:\n",
        "            return False\n",
        "        j = string.find(key)\n",
        "    return True\n",
        "\n",
        "# Example usage:\n",
        "my_string = 'hello world'\n",
        "my_pattern = 'heo'\n",
        "print(check_order(my_string, my_pattern))\n"
      ],
      "metadata": {
        "colab": {
          "base_uri": "https://localhost:8080/"
        },
        "id": "nHMzdarjkxTT",
        "outputId": "84817f9e-1796-4e38-80c4-c02f6295f4e3"
      },
      "execution_count": 6,
      "outputs": [
        {
          "output_type": "stream",
          "name": "stdout",
          "text": [
            "True\n"
          ]
        }
      ]
    },
    {
      "cell_type": "markdown",
      "source": [
        "**7. Write a Python program to sort Python Dictionaries by Key or Value?**"
      ],
      "metadata": {
        "id": "rkahWD8PlSSF"
      }
    },
    {
      "cell_type": "code",
      "source": [
        "# Sort by Key\n",
        "def sort_dict_by_key(dictionary):\n",
        "    return dict(sorted(dictionary.items()))\n",
        "\n",
        "# Sort by Value\n",
        "def sort_dict_by_value(dictionary):\n",
        "    return dict(sorted(dictionary.items(), key=lambda x: x[1]))\n",
        "\n",
        "# Example usage:\n",
        "my_dict = {'b': 2, 'a': 1, 'c': 3}\n",
        "sorted_by_key = sort_dict_by_key(my_dict)\n",
        "sorted_by_value = sort_dict_by_value(my_dict)\n",
        "print(\"Sorted by Key:\", sorted_by_key)\n",
        "print(\"Sorted by Value:\", sorted_by_value)\n"
      ],
      "metadata": {
        "colab": {
          "base_uri": "https://localhost:8080/"
        },
        "id": "nL6K019YkxP1",
        "outputId": "a4db97f3-7ee6-488a-9397-d51921a2e28b"
      },
      "execution_count": 7,
      "outputs": [
        {
          "output_type": "stream",
          "name": "stdout",
          "text": [
            "Sorted by Key: {'a': 1, 'b': 2, 'c': 3}\n",
            "Sorted by Value: {'a': 1, 'b': 2, 'c': 3}\n"
          ]
        }
      ]
    }
  ]
}