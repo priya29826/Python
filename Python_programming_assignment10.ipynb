{
  "nbformat": 4,
  "nbformat_minor": 0,
  "metadata": {
    "colab": {
      "provenance": []
    },
    "kernelspec": {
      "name": "python3",
      "display_name": "Python 3"
    },
    "language_info": {
      "name": "python"
    }
  },
  "cells": [
    {
      "cell_type": "markdown",
      "source": [
        "1. Write a Python program to find sum of elements in list?"
      ],
      "metadata": {
        "id": "SuTnnFO2ecrT"
      }
    },
    {
      "cell_type": "code",
      "execution_count": 1,
      "metadata": {
        "colab": {
          "base_uri": "https://localhost:8080/"
        },
        "id": "b57gK0w3eW-D",
        "outputId": "ddeae458-9d01-41ff-8524-d2c1252f7cff"
      },
      "outputs": [
        {
          "output_type": "stream",
          "name": "stdout",
          "text": [
            "Sum of elements: 15\n"
          ]
        }
      ],
      "source": [
        "def sum_of_elements(lst):\n",
        "    return sum(lst)\n",
        "\n",
        "# Example usage:\n",
        "my_list = [1, 2, 3, 4, 5]\n",
        "print(\"Sum of elements:\", sum_of_elements(my_list))\n"
      ]
    },
    {
      "cell_type": "markdown",
      "source": [
        "2. Write a Python program to Multiply all numbers in the list?"
      ],
      "metadata": {
        "id": "CqO4faKreel8"
      }
    },
    {
      "cell_type": "code",
      "source": [
        "def multiply_numbers(lst):\n",
        "    result = 1\n",
        "    for num in lst:\n",
        "        result *= num\n",
        "    return result\n",
        "\n",
        "# Example usage:\n",
        "my_list = [1, 2, 3, 4, 5]\n",
        "print(\"Product of all numbers:\", multiply_numbers(my_list))\n"
      ],
      "metadata": {
        "colab": {
          "base_uri": "https://localhost:8080/"
        },
        "id": "kOxOlagZgej9",
        "outputId": "fa2079fe-2c11-4836-e19c-a292c50d0456"
      },
      "execution_count": 2,
      "outputs": [
        {
          "output_type": "stream",
          "name": "stdout",
          "text": [
            "Product of all numbers: 120\n"
          ]
        }
      ]
    },
    {
      "cell_type": "markdown",
      "source": [
        "3. Write a Python program to find smallest number in a list?\n"
      ],
      "metadata": {
        "id": "rZ4TOq0OeekS"
      }
    },
    {
      "cell_type": "code",
      "source": [
        "def find_smallest(lst):\n",
        "    return min(lst)\n",
        "\n",
        "# Example usage:\n",
        "my_list = [5, 3, 9, 1, 7]\n",
        "print(\"Smallest number:\", find_smallest(my_list))\n"
      ],
      "metadata": {
        "colab": {
          "base_uri": "https://localhost:8080/"
        },
        "id": "ooYTflLqgg4n",
        "outputId": "8472e48d-8844-47a0-c361-76fc2aa74bf7"
      },
      "execution_count": 3,
      "outputs": [
        {
          "output_type": "stream",
          "name": "stdout",
          "text": [
            "Smallest number: 1\n"
          ]
        }
      ]
    },
    {
      "cell_type": "markdown",
      "source": [
        "4. Write a Python program to find largest number in a list?\n"
      ],
      "metadata": {
        "id": "LvVoE5QTeyQw"
      }
    },
    {
      "cell_type": "code",
      "source": [
        "def find_largest(lst):\n",
        "    return max(lst)\n",
        "\n",
        "# Example usage:\n",
        "my_list = [5, 3, 9, 1, 7]\n",
        "print(\"Largest number:\", find_largest(my_list))\n"
      ],
      "metadata": {
        "colab": {
          "base_uri": "https://localhost:8080/"
        },
        "id": "DRVwBgWygobc",
        "outputId": "0b519388-0be3-47b6-86ef-a15a9c6072e0"
      },
      "execution_count": 4,
      "outputs": [
        {
          "output_type": "stream",
          "name": "stdout",
          "text": [
            "Largest number: 9\n"
          ]
        }
      ]
    },
    {
      "cell_type": "markdown",
      "source": [
        "\n",
        "5. Write a Python program to find second largest number in a list?\n"
      ],
      "metadata": {
        "id": "-g5jwEHZeehq"
      }
    },
    {
      "cell_type": "code",
      "source": [
        "def find_second_largest(lst):\n",
        "    sorted_list = sorted(lst)\n",
        "    return sorted_list[-2]\n",
        "\n",
        "# Example usage:\n",
        "my_list = [5, 3, 9, 1, 7]\n",
        "print(\"Second largest number:\", find_second_largest(my_list))\n"
      ],
      "metadata": {
        "colab": {
          "base_uri": "https://localhost:8080/"
        },
        "id": "-iNsLc42gtL_",
        "outputId": "7a55e527-4374-4550-d326-8ffeb4b85a7a"
      },
      "execution_count": 5,
      "outputs": [
        {
          "output_type": "stream",
          "name": "stdout",
          "text": [
            "Second largest number: 7\n"
          ]
        }
      ]
    },
    {
      "cell_type": "markdown",
      "source": [
        "\n",
        "6. Write a Python program to find N largest elements from a list?"
      ],
      "metadata": {
        "id": "YlScSACkeefI"
      }
    },
    {
      "cell_type": "code",
      "source": [
        "def find_n_largest(lst, n):\n",
        "    sorted_list = sorted(lst, reverse=True)\n",
        "    return sorted_list[:n]\n",
        "\n",
        "# Example usage:\n",
        "my_list = [5, 3, 9, 1, 7]\n",
        "n = 3\n",
        "print(f\"{n} largest elements:\", find_n_largest(my_list, n))\n"
      ],
      "metadata": {
        "colab": {
          "base_uri": "https://localhost:8080/"
        },
        "id": "ZDpwIf62gyXm",
        "outputId": "2b9ee4ad-2a35-4ef2-d1e9-cdda68cb5f1f"
      },
      "execution_count": 6,
      "outputs": [
        {
          "output_type": "stream",
          "name": "stdout",
          "text": [
            "3 largest elements: [9, 7, 5]\n"
          ]
        }
      ]
    },
    {
      "cell_type": "markdown",
      "source": [
        "\n",
        "7. Write a Python program to print even numbers in a list?\n"
      ],
      "metadata": {
        "id": "pSBaqAGyeeb_"
      }
    },
    {
      "cell_type": "code",
      "source": [
        "def print_even_numbers(lst):\n",
        "    for num in lst:\n",
        "        if num % 2 == 0:\n",
        "            print(num, end=\" \")\n",
        "\n",
        "# Example usage:\n",
        "my_list = [1, 2, 3, 4, 5, 6, 7, 8, 9, 10]\n",
        "print(\"Even numbers:\")\n",
        "print_even_numbers(my_list)\n"
      ],
      "metadata": {
        "colab": {
          "base_uri": "https://localhost:8080/"
        },
        "id": "Yc7UdlRLg4-_",
        "outputId": "8b8cf022-ee05-4eba-cbf2-c76112becb39"
      },
      "execution_count": 7,
      "outputs": [
        {
          "output_type": "stream",
          "name": "stdout",
          "text": [
            "Even numbers:\n",
            "2 4 6 8 10 "
          ]
        }
      ]
    },
    {
      "cell_type": "markdown",
      "source": [
        "\n",
        "8. Write a Python program to print odd numbers in a List?"
      ],
      "metadata": {
        "id": "WSbcdHGJfsXj"
      }
    },
    {
      "cell_type": "code",
      "source": [
        "def print_odd_numbers(lst):\n",
        "    for num in lst:\n",
        "        if num % 2 != 0:\n",
        "            print(num, end=\" \")\n",
        "\n",
        "# Example usage:\n",
        "my_list = [1, 2, 3, 4, 5, 6, 7, 8, 9, 10]\n",
        "print(\"Odd numbers:\")\n",
        "print_odd_numbers(my_list)\n"
      ],
      "metadata": {
        "colab": {
          "base_uri": "https://localhost:8080/"
        },
        "id": "IVoIbyngg9v9",
        "outputId": "7280647c-7dc5-4081-c76a-ac77fe1cceeb"
      },
      "execution_count": 8,
      "outputs": [
        {
          "output_type": "stream",
          "name": "stdout",
          "text": [
            "Odd numbers:\n",
            "1 3 5 7 9 "
          ]
        }
      ]
    },
    {
      "cell_type": "markdown",
      "source": [
        "9. Write a Python program to Remove empty List from List?"
      ],
      "metadata": {
        "id": "R_N8Whr0fUls"
      }
    },
    {
      "cell_type": "code",
      "source": [
        "def remove_empty_lists(lst):\n",
        "    return [sublist for sublist in lst if sublist]\n",
        "\n",
        "# Example usage:\n",
        "my_list = [[], [1, 2], [], [3, 4], [], [5, 6]]\n",
        "print(\"List after removing empty lists:\", remove_empty_lists(my_list))\n"
      ],
      "metadata": {
        "colab": {
          "base_uri": "https://localhost:8080/"
        },
        "id": "9xWa9kyJhC0r",
        "outputId": "8d9d3ce1-4d58-4c55-8d15-5ff89ca40e8c"
      },
      "execution_count": 9,
      "outputs": [
        {
          "output_type": "stream",
          "name": "stdout",
          "text": [
            "List after removing empty lists: [[1, 2], [3, 4], [5, 6]]\n"
          ]
        }
      ]
    },
    {
      "cell_type": "markdown",
      "source": [
        "10. Write a Python program to Cloning or Copying a list?"
      ],
      "metadata": {
        "id": "EGON-qy4fZRv"
      }
    },
    {
      "cell_type": "code",
      "source": [
        "def clone_list(lst):\n",
        "    return lst.copy()\n",
        "\n",
        "# Example usage:\n",
        "my_list = [1, 2, 3, 4, 5]\n",
        "cloned_list = clone_list(my_list)\n",
        "print(\"Cloned list:\", cloned_list)\n"
      ],
      "metadata": {
        "colab": {
          "base_uri": "https://localhost:8080/"
        },
        "id": "lANu_WrJhH5G",
        "outputId": "bce0a67d-e9e8-4d0d-e31c-e88b163abe57"
      },
      "execution_count": 10,
      "outputs": [
        {
          "output_type": "stream",
          "name": "stdout",
          "text": [
            "Cloned list: [1, 2, 3, 4, 5]\n"
          ]
        }
      ]
    },
    {
      "cell_type": "markdown",
      "source": [
        "11. Write a Python program to Count occurrences of an element in a list?"
      ],
      "metadata": {
        "id": "LYHygVLVfhvd"
      }
    },
    {
      "cell_type": "code",
      "source": [
        "def count_occurrences(lst, element):\n",
        "    return lst.count(element)\n",
        "\n",
        "# Example usage:\n",
        "my_list = [1, 2, 3, 4, 2, 5, 2]\n",
        "element_to_count = 2\n",
        "print(f\"Number of occurrences of {element_to_count}:\", count_occurrences(my_list, element_to_count))\n"
      ],
      "metadata": {
        "colab": {
          "base_uri": "https://localhost:8080/"
        },
        "id": "mKUwxiPSfT1V",
        "outputId": "39992097-6925-4ff1-b293-42cee8923a72"
      },
      "execution_count": 11,
      "outputs": [
        {
          "output_type": "stream",
          "name": "stdout",
          "text": [
            "Number of occurrences of 2: 3\n"
          ]
        }
      ]
    },
    {
      "cell_type": "code",
      "source": [],
      "metadata": {
        "id": "YorCGoP6hLab"
      },
      "execution_count": null,
      "outputs": []
    }
  ]
}