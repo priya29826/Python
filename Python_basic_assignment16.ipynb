{
  "nbformat": 4,
  "nbformat_minor": 0,
  "metadata": {
    "colab": {
      "provenance": []
    },
    "kernelspec": {
      "name": "python3",
      "display_name": "Python 3"
    },
    "language_info": {
      "name": "python"
    }
  },
  "cells": [
    {
      "cell_type": "markdown",
      "source": [
        "**1. Create a list called years_list, starting with the year of your birth, and each year thereafter until\n",
        "the year of your fifth birthday. For example, if you were born in 1980. the list would be years_list =\n",
        "[1980, 1981, 1982, 1983, 1984, 1985].**"
      ],
      "metadata": {
        "id": "V8CR0kCfAc1Z"
      }
    },
    {
      "cell_type": "code",
      "execution_count": 1,
      "metadata": {
        "colab": {
          "base_uri": "https://localhost:8080/"
        },
        "id": "aXOSGqnH_GBJ",
        "outputId": "d10beb9e-1dc6-4feb-e912-bb3769b301f1"
      },
      "outputs": [
        {
          "output_type": "stream",
          "name": "stdout",
          "text": [
            "[1995, 1996, 1997, 1998, 1999]\n"
          ]
        }
      ],
      "source": [
        "years_list = list(range(1995, 2000))\n",
        "print(years_list)"
      ]
    },
    {
      "cell_type": "markdown",
      "source": [
        "**2. In which year in years_list was your third birthday? Remember, you were 0 years of age for your\n",
        "first year.**"
      ],
      "metadata": {
        "id": "bZOu6Pi-Ch0t"
      }
    },
    {
      "cell_type": "code",
      "source": [
        "third_birthday_year = years_list[2]\n",
        "print(third_birthday_year)\n"
      ],
      "metadata": {
        "colab": {
          "base_uri": "https://localhost:8080/"
        },
        "id": "37AW8gytCW-r",
        "outputId": "71e4aecd-5761-49f2-ee25-30d6ec7afa40"
      },
      "execution_count": 2,
      "outputs": [
        {
          "output_type": "stream",
          "name": "stdout",
          "text": [
            "1997\n"
          ]
        }
      ]
    },
    {
      "cell_type": "markdown",
      "source": [
        "**3.In the years list, which year were you the oldest?**"
      ],
      "metadata": {
        "id": "i5F0egXGC34B"
      }
    },
    {
      "cell_type": "code",
      "source": [
        "oldest_year = years_list[-1]\n",
        "print(oldest_year)\n"
      ],
      "metadata": {
        "colab": {
          "base_uri": "https://localhost:8080/"
        },
        "id": "MrGr9T2iCuvC",
        "outputId": "24dda91e-6e3c-4850-81cb-50b95d08bd59"
      },
      "execution_count": 3,
      "outputs": [
        {
          "output_type": "stream",
          "name": "stdout",
          "text": [
            "1999\n"
          ]
        }
      ]
    },
    {
      "cell_type": "markdown",
      "source": [
        "**4. Make a list called things with these three strings as elements: &quot;mozzarella&quot;, &quot;cinderella&quot;,\n",
        "&quot;salmonella&quot;.**"
      ],
      "metadata": {
        "id": "aKTJ_CqSC_Yw"
      }
    },
    {
      "cell_type": "code",
      "source": [
        "things = [\"mozzarella\", \"cinderella\", \"salmonella\"]\n",
        "print(things)\n"
      ],
      "metadata": {
        "colab": {
          "base_uri": "https://localhost:8080/"
        },
        "id": "yqbyyfR0C80q",
        "outputId": "7ed3f2be-837f-4f34-9f01-cca529386286"
      },
      "execution_count": 4,
      "outputs": [
        {
          "output_type": "stream",
          "name": "stdout",
          "text": [
            "['mozzarella', 'cinderella', 'salmonella']\n"
          ]
        }
      ]
    },
    {
      "cell_type": "markdown",
      "source": [
        "**5. Capitalize the element in things that refers to a person and then print the list. Did it change the\n",
        "element in the list?**"
      ],
      "metadata": {
        "id": "reR-E0E9DM94"
      }
    },
    {
      "cell_type": "code",
      "source": [
        "things = [\"mozzarella\", \"cinderella\", \"salmonella\"]\n",
        "\n",
        "# Capitalize the element referring to a person\n",
        "for i in range(len(things)):\n",
        "    if \"cinderella\" in things[i]:\n",
        "        things[i] = things[i].capitalize()\n",
        "\n",
        "print(things)\n"
      ],
      "metadata": {
        "colab": {
          "base_uri": "https://localhost:8080/"
        },
        "id": "dVZX0WbIDFTj",
        "outputId": "335fcab0-4f88-40a5-cc58-591c59277c31"
      },
      "execution_count": 5,
      "outputs": [
        {
          "output_type": "stream",
          "name": "stdout",
          "text": [
            "['mozzarella', 'Cinderella', 'salmonella']\n"
          ]
        }
      ]
    },
    {
      "cell_type": "markdown",
      "source": [
        "**6. Make a surprise list with the elements &quot;Groucho,&quot; &quot;Chico,&quot; and &quot;Harpo.&quot;**"
      ],
      "metadata": {
        "id": "egBmrKYrDYXi"
      }
    },
    {
      "cell_type": "code",
      "source": [
        "surprise = [\"Groucho\", \"Chico\", \"Harpo\"]\n",
        "print(surprise)\n"
      ],
      "metadata": {
        "colab": {
          "base_uri": "https://localhost:8080/"
        },
        "id": "8hefuGoUDTBB",
        "outputId": "fee0afa5-8e9a-4a32-b50d-e8aa26fc78a7"
      },
      "execution_count": 6,
      "outputs": [
        {
          "output_type": "stream",
          "name": "stdout",
          "text": [
            "['Groucho', 'Chico', 'Harpo']\n"
          ]
        }
      ]
    },
    {
      "cell_type": "markdown",
      "source": [
        "**7. Lowercase the last element of the surprise list, reverse it, and then capitalize it.**"
      ],
      "metadata": {
        "id": "6cXSvZnPEh4H"
      }
    },
    {
      "cell_type": "code",
      "source": [
        "# Lowercase the last element of the surprise list\n",
        "surprise[-1] = surprise[-1].lower()\n",
        "\n",
        "# Reverse the lowercase string\n",
        "reversed_surprise_last_element = surprise[-1][::-1]\n",
        "\n",
        "# Capitalize the reversed string\n",
        "reversed_surprise_last_element = reversed_surprise_last_element.capitalize()\n",
        "\n",
        "print(reversed_surprise_last_element)\n"
      ],
      "metadata": {
        "colab": {
          "base_uri": "https://localhost:8080/"
        },
        "id": "VvaUS1_sDeSL",
        "outputId": "6bd09c58-d91f-4296-fa16-0d861f25f01b"
      },
      "execution_count": 8,
      "outputs": [
        {
          "output_type": "stream",
          "name": "stdout",
          "text": [
            "Oprah\n"
          ]
        }
      ]
    },
    {
      "cell_type": "markdown",
      "source": [
        "**8. Make an English-to-French dictionary called e2f and print it. Here are your starter words: dog is\n",
        "chien, cat is chat, and walrus is morse.**"
      ],
      "metadata": {
        "id": "STQdWk-EEo8P"
      }
    },
    {
      "cell_type": "code",
      "source": [
        "# Create the English-to-French dictionary\n",
        "e2f = {\n",
        "    \"dog\": \"chien\",\n",
        "    \"cat\": \"chat\",\n",
        "    \"walrus\": \"morse\"\n",
        "}\n",
        "\n",
        "# Print the dictionary\n",
        "print(e2f)\n"
      ],
      "metadata": {
        "colab": {
          "base_uri": "https://localhost:8080/"
        },
        "id": "o0r-qtwbErtr",
        "outputId": "3b14a24d-b34d-4bb9-8928-db6e46242356"
      },
      "execution_count": 7,
      "outputs": [
        {
          "output_type": "stream",
          "name": "stdout",
          "text": [
            "{'dog': 'chien', 'cat': 'chat', 'walrus': 'morse'}\n"
          ]
        }
      ]
    },
    {
      "cell_type": "markdown",
      "source": [
        "**9. Write the French word for walrus in your three-word dictionary e2f.**\n"
      ],
      "metadata": {
        "id": "gmdYIVP2FFpn"
      }
    },
    {
      "cell_type": "code",
      "source": [
        "french_walrus = e2f[\"walrus\"]\n",
        "print(french_walrus)\n"
      ],
      "metadata": {
        "colab": {
          "base_uri": "https://localhost:8080/"
        },
        "id": "u4DPhkEgEvdb",
        "outputId": "b4adc532-7ff3-4bc8-b8c1-2f50c9b2875f"
      },
      "execution_count": 9,
      "outputs": [
        {
          "output_type": "stream",
          "name": "stdout",
          "text": [
            "morse\n"
          ]
        }
      ]
    },
    {
      "cell_type": "markdown",
      "source": [
        "**10. Make a French-to-English dictionary called f2e from e2f. Use the items method.**"
      ],
      "metadata": {
        "id": "JSjRBBDkFcAi"
      }
    },
    {
      "cell_type": "code",
      "source": [
        "# Create an empty French-to-English dictionary\n",
        "f2e = {}\n",
        "\n",
        "# Iterate over the key-value pairs in e2f and populate f2e\n",
        "for english, french in e2f.items():\n",
        "    f2e[french] = english\n",
        "\n",
        "# Print the French-to-English dictionary\n",
        "print(f2e)\n"
      ],
      "metadata": {
        "colab": {
          "base_uri": "https://localhost:8080/"
        },
        "id": "FaAvaBmjFZBf",
        "outputId": "98d15e15-8962-4f04-aa53-a67f05c283cc"
      },
      "execution_count": 10,
      "outputs": [
        {
          "output_type": "stream",
          "name": "stdout",
          "text": [
            "{'chien': 'dog', 'chat': 'cat', 'morse': 'walrus'}\n"
          ]
        }
      ]
    },
    {
      "cell_type": "markdown",
      "source": [
        "**11. Print the English version of the French word chien using f2e.**"
      ],
      "metadata": {
        "id": "R8NcDb9KFii2"
      }
    },
    {
      "cell_type": "code",
      "source": [
        "# Print the English version of the French word \"chien\" using f2e\n",
        "english_chien = f2e[\"chien\"]\n",
        "print(english_chien)\n"
      ],
      "metadata": {
        "colab": {
          "base_uri": "https://localhost:8080/"
        },
        "id": "15BLb-JeFktI",
        "outputId": "351e4a84-6c25-4627-abdb-0c31e185ca45"
      },
      "execution_count": 11,
      "outputs": [
        {
          "output_type": "stream",
          "name": "stdout",
          "text": [
            "dog\n"
          ]
        }
      ]
    },
    {
      "cell_type": "markdown",
      "source": [
        "**12. Make and print a set of English words from the keys in e2f.**"
      ],
      "metadata": {
        "id": "KLIhYx8mFyFK"
      }
    },
    {
      "cell_type": "code",
      "source": [
        "# Get the keys from the e2f dictionary and convert them into a set\n",
        "english_words_set = set(e2f.keys())\n",
        "\n",
        "# Print the set of English words\n",
        "print(english_words_set)\n"
      ],
      "metadata": {
        "colab": {
          "base_uri": "https://localhost:8080/"
        },
        "id": "afQ19IzNFz2c",
        "outputId": "305f5d61-322a-44b3-996e-7dd433c5b6b1"
      },
      "execution_count": 12,
      "outputs": [
        {
          "output_type": "stream",
          "name": "stdout",
          "text": [
            "{'dog', 'cat', 'walrus'}\n"
          ]
        }
      ]
    },
    {
      "cell_type": "markdown",
      "source": [
        "**13. Make a multilevel dictionary called life. Use these strings for the topmost keys: &#39;animals&#39;, &#39;plants&#39;,\n",
        "and &#39;other&#39;. Make the &#39;animals&#39; key refer to another dictionary with the keys &#39;cats&#39;, &#39;octopi&#39;, and\n",
        "&#39;emus&#39;. Make the &#39;cats&#39; key refer to a list of strings with the values &#39;Henri&#39;, &#39;Grumpy&#39;, and &#39;Lucy&#39;.\n",
        "Make all the other keys refer to empty dictionaries.**"
      ],
      "metadata": {
        "id": "D2hI1VKwGAt6"
      }
    },
    {
      "cell_type": "code",
      "source": [
        "# Create the multilevel dictionary\n",
        "life = {\n",
        "    \"animals\": {\n",
        "        \"cats\": [\"Henri\", \"Grumpy\", \"Lucy\"],\n",
        "        \"octopi\": {},\n",
        "        \"emus\": {}\n",
        "    },\n",
        "    \"plants\": {},\n",
        "    \"other\": {}\n",
        "}\n",
        "\n",
        "# Print the multilevel dictionary\n",
        "print(life)\n"
      ],
      "metadata": {
        "colab": {
          "base_uri": "https://localhost:8080/"
        },
        "id": "Y4_z1PInF8co",
        "outputId": "0a796196-fb4b-4599-9162-5d7b579ba5e5"
      },
      "execution_count": 14,
      "outputs": [
        {
          "output_type": "stream",
          "name": "stdout",
          "text": [
            "{'animals': {'cats': ['Henri', 'Grumpy', 'Lucy'], 'octopi': {}, 'emus': {}}, 'plants': {}, 'other': {}}\n"
          ]
        }
      ]
    },
    {
      "cell_type": "markdown",
      "source": [
        "**14. Print the top-level keys of life.**"
      ],
      "metadata": {
        "id": "9Rsc1RO2GTa9"
      }
    },
    {
      "cell_type": "code",
      "source": [
        "# Print the top-level keys of the life dictionary\n",
        "top_level_keys = life.keys()\n",
        "print(top_level_keys)\n"
      ],
      "metadata": {
        "colab": {
          "base_uri": "https://localhost:8080/"
        },
        "id": "bcfounZSGGCK",
        "outputId": "97fedbb4-ac33-4b0c-8f34-699ed932c8e8"
      },
      "execution_count": 15,
      "outputs": [
        {
          "output_type": "stream",
          "name": "stdout",
          "text": [
            "dict_keys(['animals', 'plants', 'other'])\n"
          ]
        }
      ]
    },
    {
      "cell_type": "markdown",
      "source": [
        "**15. Print the keys for life[&#39;animals&#39;].**"
      ],
      "metadata": {
        "id": "eSdc5O0yGZBR"
      }
    },
    {
      "cell_type": "code",
      "source": [
        "# Print the keys for life['animals']\n",
        "animal_keys = life['animals'].keys()\n",
        "print(animal_keys)\n"
      ],
      "metadata": {
        "colab": {
          "base_uri": "https://localhost:8080/"
        },
        "id": "iwORgzc7GQj_",
        "outputId": "ca752872-c71c-4aa5-8447-19febfda20a3"
      },
      "execution_count": 16,
      "outputs": [
        {
          "output_type": "stream",
          "name": "stdout",
          "text": [
            "dict_keys(['cats', 'octopi', 'emus'])\n"
          ]
        }
      ]
    },
    {
      "cell_type": "markdown",
      "source": [
        "**16. Print the values for life[&#39;animals&#39;][&#39;cats&#39;]**"
      ],
      "metadata": {
        "id": "Jl8Z7yKSGgHY"
      }
    },
    {
      "cell_type": "code",
      "source": [
        "# Print the values for life['animals']['cats']\n",
        "cat_values = life['animals']['cats']\n",
        "print(cat_values)\n"
      ],
      "metadata": {
        "colab": {
          "base_uri": "https://localhost:8080/"
        },
        "id": "LmRL-xa1Gi4J",
        "outputId": "bfc80fab-eb98-449e-b741-b74429faa378"
      },
      "execution_count": 17,
      "outputs": [
        {
          "output_type": "stream",
          "name": "stdout",
          "text": [
            "['Henri', 'Grumpy', 'Lucy']\n"
          ]
        }
      ]
    }
  ]
}