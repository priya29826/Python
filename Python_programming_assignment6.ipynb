{
  "nbformat": 4,
  "nbformat_minor": 0,
  "metadata": {
    "colab": {
      "provenance": []
    },
    "kernelspec": {
      "name": "python3",
      "display_name": "Python 3"
    },
    "language_info": {
      "name": "python"
    }
  },
  "cells": [
    {
      "cell_type": "markdown",
      "source": [
        "**1. Write a Python Program to Display Fibonacci Sequence Using Recursion?**\n"
      ],
      "metadata": {
        "id": "zYmjhGqcPrZu"
      }
    },
    {
      "cell_type": "code",
      "execution_count": 1,
      "metadata": {
        "colab": {
          "base_uri": "https://localhost:8080/"
        },
        "id": "gpOdVUhePCGW",
        "outputId": "1417af3d-9313-4d9e-88ce-99eb5f3a78e6"
      },
      "outputs": [
        {
          "output_type": "stream",
          "name": "stdout",
          "text": [
            "How many terms? 5\n",
            "Fibonacci sequence:\n",
            "0\n",
            "1\n",
            "1\n",
            "2\n",
            "3\n"
          ]
        }
      ],
      "source": [
        "def fibonacci(n):\n",
        "    if n <= 1:\n",
        "        return n\n",
        "    else:\n",
        "        return fibonacci(n-1) + fibonacci(n-2)\n",
        "\n",
        "nterms = int(input(\"How many terms? \"))\n",
        "\n",
        "if nterms <= 0:\n",
        "    print(\"Please enter a positive integer\")\n",
        "else:\n",
        "    print(\"Fibonacci sequence:\")\n",
        "    for i in range(nterms):\n",
        "        print(fibonacci(i))\n"
      ]
    },
    {
      "cell_type": "markdown",
      "source": [
        "\n",
        "**2. Write a Python Program to Find Factorial of Number Using Recursion?**\n"
      ],
      "metadata": {
        "id": "w3-Z6ZUqPuRE"
      }
    },
    {
      "cell_type": "code",
      "source": [
        "def factorial(n):\n",
        "    if n == 0:\n",
        "        return 1\n",
        "    else:\n",
        "        return n * factorial(n-1)\n",
        "\n",
        "num = int(input(\"Enter a number: \"))\n",
        "\n",
        "if num < 0:\n",
        "    print(\"Factorial cannot be found for negative numbers\")\n",
        "elif num == 0:\n",
        "    print(\"Factorial of 0 is 1\")\n",
        "else:\n",
        "    print(\"Factorial of\", num, \"is\", factorial(num))\n"
      ],
      "metadata": {
        "colab": {
          "base_uri": "https://localhost:8080/"
        },
        "id": "UWf5QFsgPuwJ",
        "outputId": "9fd519c7-dbfd-4826-82a2-d3991d1d80d5"
      },
      "execution_count": 3,
      "outputs": [
        {
          "output_type": "stream",
          "name": "stdout",
          "text": [
            "Enter a number: 5\n",
            "Factorial of 5 is 120\n"
          ]
        }
      ]
    },
    {
      "cell_type": "markdown",
      "source": [
        "\n",
        "**3. Write a Python Program to calculate your Body Mass Index?**\n"
      ],
      "metadata": {
        "id": "tW5SB5s6PvST"
      }
    },
    {
      "cell_type": "code",
      "source": [
        "def calculate_bmi(weight, height):\n",
        "    return weight / (height ** 2)\n",
        "\n",
        "weight = float(input(\"Enter your weight in kilograms: \"))\n",
        "height = float(input(\"Enter your height in meters: \"))\n",
        "\n",
        "bmi = calculate_bmi(weight, height)\n",
        "print(\"Your BMI is: {:.2f}\".format(bmi))\n"
      ],
      "metadata": {
        "colab": {
          "base_uri": "https://localhost:8080/"
        },
        "id": "GXDjBrNnPvse",
        "outputId": "33e42ddd-b018-4e35-af02-e412b6d7629e"
      },
      "execution_count": 4,
      "outputs": [
        {
          "output_type": "stream",
          "name": "stdout",
          "text": [
            "Enter your weight in kilograms: 100\n",
            "Enter your height in meters: 6\n",
            "Your BMI is: 2.78\n"
          ]
        }
      ]
    },
    {
      "cell_type": "markdown",
      "source": [
        "\n",
        "**4. Write a Python Program to calculate the natural logarithm of any number?**"
      ],
      "metadata": {
        "id": "ueU4IKkzPxqq"
      }
    },
    {
      "cell_type": "code",
      "source": [
        "import math\n",
        "\n",
        "num = float(input(\"Enter a number: \"))\n",
        "log_value = math.log(num)\n",
        "\n",
        "print(\"Natural logarithm of\", num, \"is\", log_value)\n"
      ],
      "metadata": {
        "colab": {
          "base_uri": "https://localhost:8080/"
        },
        "id": "IdSSZXVfRger",
        "outputId": "47ae3ba6-5bde-41f6-f138-72b80aec8e13"
      },
      "execution_count": 6,
      "outputs": [
        {
          "output_type": "stream",
          "name": "stdout",
          "text": [
            "Enter a number: 2\n",
            "Natural logarithm of 2.0 is 0.6931471805599453\n"
          ]
        }
      ]
    },
    {
      "cell_type": "markdown",
      "source": [
        "\n",
        "**5. Write a Python Program for cube sum of first n natural numbers?**"
      ],
      "metadata": {
        "id": "bAVfZfwePxYH"
      }
    },
    {
      "cell_type": "code",
      "source": [
        "def cube_sum(n):\n",
        "    return (n * (n + 1) / 2) ** 2\n",
        "\n",
        "n = int(input(\"Enter a number: \"))\n",
        "result = cube_sum(n)\n",
        "print(\"Cube sum of first\", n, \"natural numbers is:\", result)\n"
      ],
      "metadata": {
        "colab": {
          "base_uri": "https://localhost:8080/"
        },
        "id": "73iOr0TRP9IY",
        "outputId": "baa24772-141f-4c41-b02e-fc186574763c"
      },
      "execution_count": 7,
      "outputs": [
        {
          "output_type": "stream",
          "name": "stdout",
          "text": [
            "Enter a number: 3\n",
            "Cube sum of first 3 natural numbers is: 36.0\n"
          ]
        }
      ]
    }
  ]
}