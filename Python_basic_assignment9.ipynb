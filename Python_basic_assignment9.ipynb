{
  "nbformat": 4,
  "nbformat_minor": 0,
  "metadata": {
    "colab": {
      "provenance": []
    },
    "kernelspec": {
      "name": "python3",
      "display_name": "Python 3"
    },
    "language_info": {
      "name": "python"
    }
  },
  "cells": [
    {
      "cell_type": "markdown",
      "source": [
        "**1. To what does a relative path refer?**\n",
        "\n",
        "**Ans:** A relative path refers to the location of a file or directory relative to the current working directory. Instead of specifying the complete path from the root directory, a relative path only describes the location of the file or directory relative to the current position. This can make file referencing more flexible and portable, especially when moving files or directories within a filesystem."
      ],
      "metadata": {
        "id": "_r8J-VvJ5B1P"
      }
    },
    {
      "cell_type": "markdown",
      "source": [
        "**2. What does an absolute path start with your operating system?**\n",
        "\n",
        "**Ans:** An absolute path in most operating systems, including Windows, macOS, and Unix-like systems such as Linux, starts with the root directory of the filesystem.\n",
        "\n",
        "* On Windows, the root directory is typically denoted by a drive letter followed by a colon (e.g., \"C:\").\n",
        "* On Unix-like systems (including Linux and macOS), the root directory is denoted by a forward slash (\"/\").\n",
        "\n",
        "An absolute path specifies the complete location of a file or directory from the root of the filesystem, including all intermediate directories. It provides an unambiguous reference to the location of a file or directory regardless of the current working directory.**"
      ],
      "metadata": {
        "id": "nF0HC03n5rAp"
      }
    },
    {
      "cell_type": "markdown",
      "source": [
        "**3. What do the functions os.getcwd() and os.chdir() do?**\n",
        "\n",
        "**Ans:** The os.getcwd() and os.chdir() functions are both part of the os module in Python, which provides a way to interact with the operating system.\n",
        "\n",
        "**1. os.getcwd():** This function returns the current working directory as a string. \"Working directory\" refers to the directory from which the Python script is currently being executed. For example:\n",
        "\n",
        "This code will print the absolute path of the current working directory.\n",
        "\n",
        "**2. os.chdir():** This function changes the current working directory to the specified path. It takes a string argument representing the path to which you want to change the current working directory. For example:\n",
        "\n",
        "After executing this code, the current working directory will be changed to the directory specified by new_directory. Subsequent file operations or directory manipulations will be performed relative to this new working directory.\n",
        "\n",
        "Together, these functions provide a way to navigate and manipulate the file system within a Python script."
      ],
      "metadata": {
        "id": "v-OT3F85FW94"
      }
    },
    {
      "cell_type": "code",
      "source": [
        "#os.getcwd()\n",
        "\n",
        "import os\n",
        "\n",
        "current_directory = os.getcwd()\n",
        "print(\"Current working directory:\", current_directory)\n",
        "\n",
        "#os.chdir()\n",
        "\n",
        "import os\n",
        "\n",
        "new_directory = \"/path/to/new/directory\"\n",
        "os.chdir(new_directory)\n"
      ],
      "metadata": {
        "id": "goz7vNPAHZCR"
      },
      "execution_count": null,
      "outputs": []
    },
    {
      "cell_type": "markdown",
      "source": [
        "**4. What are the . and .. folders?**\n",
        "\n",
        "**Ans:** The \".\" and \"..\" folders are special directory entries commonly found in Unix-like operating systems (such as Linux and macOS) as well as Windows.\n",
        "\n",
        "**1. \".\" (dot):** The dot represents the current directory. When you use \".\" in a path, it refers to the directory you are currently in. For example, if you're in the directory \"/home/user\", then \".\" refers to \"/home/user\".\n",
        "\n",
        "**2. \"..\" (double dot):** The double dot represents the parent directory. When you use \"..\" in a path, it refers to the directory immediately above the current directory. For example, if you're in the directory \"/home/user\", then \"..\" refers to \"/home\".\n",
        "\n",
        "These special directory entries are often used in command-line operations and file system navigation. They provide a convenient way to refer to directories relative to the current location without needing to know their absolute paths.\n",
        "\n",
        "\n",
        "\n",
        "\n",
        "\n"
      ],
      "metadata": {
        "id": "VdoQpP5kFlzD"
      }
    },
    {
      "cell_type": "markdown",
      "source": [
        "**5. In C:\\bacon\\eggs\\spam.txt, which part is the dir name, and which part is the base name?**\n",
        "\n",
        "**Ans:**\n",
        "In the path \"C:\\bacon\\eggs\\spam.txt\":\n",
        "\n",
        "* The directory name (dir name) is \"C:\\bacon\\eggs\". This represents the directory where the file \"spam.txt\" is located.\n",
        "* The base name is \"spam.txt\". This represents the actual file name, including its extension.\n",
        "\n",
        "So, in summary:\n",
        "\n",
        "* Directory Name (dir name): C:\\bacon\\eggs\n",
        "* Base Name: spam.txt"
      ],
      "metadata": {
        "id": "3T436-R1GKhC"
      }
    },
    {
      "cell_type": "markdown",
      "source": [
        "**7. What happens if an existing file is opened in write mode?**\n",
        "\n",
        "**Ans:** If an existing file is opened in write mode (\"w\"), the file's existing contents are completely overwritten with the new data. If the file does not exist, a new file is created.\n",
        "\n",
        "Here's what happens in more detail:\n",
        "\n",
        "**1.If the file exists:**\n",
        "\n",
        "* Opening the file in write mode (\"w\") truncates the file to zero length, effectively erasing its contents.\n",
        "* Any data previously stored in the file will be lost.\n",
        "* The file remains open for writing, allowing you to write new data to it.\n",
        "\n",
        "**If the file does not exist:**\n",
        "\n",
        "* A new file with the specified name is created.\n",
        "* The file is opened for writing.\n",
        "* You can start writing data to the file immediately.\n",
        "\n",
        "It's important to exercise caution when using write mode (\"w\") on existing files, as it will irreversibly delete the existing content. If you want to add content to an existing file without erasing its current contents, you should use append mode (\"a\") instead.\n",
        "\n",
        "\n",
        "\n",
        "\n",
        "\n"
      ],
      "metadata": {
        "id": "GGJBTZl_Dvp6"
      }
    },
    {
      "cell_type": "markdown",
      "source": [
        "**6. What are the three “mode” arguments that can be passed to the open() function?**\n",
        "\n",
        "**Ans:**The open() function in Python accepts several mode arguments, but the three most commonly used are:\n",
        "\n",
        "**1. Read Mode ('r'):** This mode is used for reading from a file. It is the default mode if no mode is specified. When a file is opened in read mode, you can only read its contents. If the file does not exist, it will raise a FileNotFoundError.\n",
        "\n",
        "**2. Write Mode ('w'):** This mode is used for writing data to a file. If the file exists, its contents are overwritten. If the file does not exist, a new file is created. When a file is opened in write mode, any existing data in the file is erased.\n",
        "\n",
        "**3. Append Mode ('a'):** This mode is used for appending data to the end of a file. If the file exists, data is written to the end of the file. If the file does not exist, a new file is created. Existing data in the file is not erased; new data is simply added to the end.\n",
        "\n",
        "These modes are specified as strings and passed as the second argument to the open() function. For example:"
      ],
      "metadata": {
        "id": "_MdONmdZEZOd"
      }
    },
    {
      "cell_type": "markdown",
      "source": [
        "**8. How do you tell the difference between read() and readlines()?**\n",
        "\n",
        "**Ans:** The read() and readlines() methods in Python are used to read data from a file, but they have different behaviors:\n",
        "\n",
        "* read(): This method reads the entire contents of the file and returns them as a single string. It reads the file from the current position of the file pointer (which starts at the beginning of the file by default) until the end of the file. If the file is large, reading it all into memory at once might not be efficient.Example:\n",
        "\n",
        "* readlines(): This method reads all the lines of the file and returns them as a list of strings, where each string represents a line from the file. It reads the file from the current position of the file pointer until the end of the file or until the specified number of bytes are read if provided.Example:\n",
        "\n",
        "In summary, read() returns the entire content of the file as a single string, while readlines() returns the lines of the file as a list of strings. The choice between them depends on whether you need to process the file content as a single string or line by line.\n",
        "\n",
        "\n",
        "\n",
        "\n",
        "\n"
      ],
      "metadata": {
        "id": "yWYFbqW-CkIu"
      }
    },
    {
      "cell_type": "code",
      "source": [
        "#read()\n",
        "\n",
        "with open(\"example.txt\", \"r\") as file:\n",
        "    content = file.read()\n",
        "print(content)\n",
        "\n",
        "\n",
        "#readlines()\n",
        "\n",
        "with open(\"example.txt\", \"r\") as file:\n",
        "    lines = file.readlines()\n",
        "for line in lines:\n",
        "    print(line)\n"
      ],
      "metadata": {
        "id": "efSMMAAmDOuq"
      },
      "execution_count": null,
      "outputs": []
    },
    {
      "cell_type": "markdown",
      "source": [
        "**9. What data structure does a shelf value resemble?**\n",
        "\n",
        "**Ans:** A shelf value in Python resembles a dictionary data structure. It provides a persistent storage mechanism for Python objects, similar to a dictionary, where objects are stored and retrieved using string keys. However, unlike a regular dictionary, a shelf value persists beyond the lifetime of the Python process, making it suitable for simple persistent storage of data between program runs. It is provided by the shelve module in Python."
      ],
      "metadata": {
        "id": "BBM32nALDb25"
      }
    }
  ]
}