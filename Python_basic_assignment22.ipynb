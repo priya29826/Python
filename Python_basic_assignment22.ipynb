{
  "nbformat": 4,
  "nbformat_minor": 0,
  "metadata": {
    "colab": {
      "provenance": []
    },
    "kernelspec": {
      "name": "python3",
      "display_name": "Python 3"
    },
    "language_info": {
      "name": "python"
    }
  },
  "cells": [
    {
      "cell_type": "markdown",
      "source": [
        "**1. What is the result of the code, and explain?**\n",
        "\n",
        "**&gt;&gt;&gt; X = &#39;iNeuron&#39;**\n",
        "\n",
        "**&gt;&gt;&gt; def func():**\n",
        "\n",
        "**print(X)**\n",
        "\n",
        "**&gt;&gt;&gt; func()**\n",
        "\n",
        "**Ans:** The code defines a variable X with the value 'iNeuron' and a function func() that prints the value of X. Then, it calls the func() function.\n",
        "\n",
        "**Explanation:**\n",
        "\n",
        "* We define a global variable X with the value 'iNeuron'.\n",
        "* Then, we define a function func() that prints the value of the variable X.\n",
        "* Finally, we call the function func().\n",
        "* Since the variable X is defined in the global scope and not locally within the function, the function accesses the global variable X and prints its value, which is 'iNeuron'.\n",
        "\n",
        "\n",
        "\n",
        "\n",
        "\n"
      ],
      "metadata": {
        "id": "o7vpB8ix9WuB"
      }
    },
    {
      "cell_type": "code",
      "execution_count": 2,
      "metadata": {
        "colab": {
          "base_uri": "https://localhost:8080/"
        },
        "id": "mSP4YvUR9JiE",
        "outputId": "42b07538-e2e3-4655-fe14-2d2c7fa570ee"
      },
      "outputs": [
        {
          "output_type": "stream",
          "name": "stdout",
          "text": [
            "iNeuron\n"
          ]
        }
      ],
      "source": [
        "X = 'iNeuron'  # defining a global variable X with value 'iNeuron'\n",
        "\n",
        "def func():\n",
        "    print(X)  # printing the global variable X inside the function\n",
        "\n",
        "func()  # calling the function\n"
      ]
    },
    {
      "cell_type": "markdown",
      "source": [
        "**2. What is the result of the code, and explain?**\n",
        "\n",
        "**&gt;&gt;&gt; X = &#39;iNeuron&#39;**\n",
        "\n",
        "**&gt;&gt;&gt; def func():**\n",
        "\n",
        "\n",
        "**X = &#39;NI!&#39;**\n",
        "\n",
        "**&gt;&gt;&gt; func()**\n",
        "\n",
        "**&gt;&gt;&gt; print(X)**\n",
        "\n",
        "**Ans:** **Explanation:**\n",
        "\n",
        "* Initially, a global variable X is defined with the value 'iNeuron'.\n",
        "* Then, a function func() is defined. Within this function, a local variable X is defined with the value 'NI!'. This local variable X only exists within the scope of the function and does not affect the global variable X.\n",
        "* When the function func() is called, it doesn't return or print anything. It just defines a local variable X with the value 'NI!'.\n",
        "* After the function call, print(X) prints the value of the global variable X, which remains 'iNeuron' because the local variable X inside the function does not affect the global variable X."
      ],
      "metadata": {
        "id": "CiT_ktryKsgD"
      }
    },
    {
      "cell_type": "code",
      "source": [
        "X = 'iNeuron'  # defining a global variable X with value 'iNeuron'\n",
        "\n",
        "def func():\n",
        "    X = 'NI!'  # defining a local variable X with value 'NI!'\n",
        "\n",
        "func()  # calling the function\n",
        "print(X)  # printing the value of the global variable X\n"
      ],
      "metadata": {
        "colab": {
          "base_uri": "https://localhost:8080/"
        },
        "id": "n-LPluMU9vVR",
        "outputId": "e958ec66-9144-4369-b735-56ee8ed8b691"
      },
      "execution_count": 3,
      "outputs": [
        {
          "output_type": "stream",
          "name": "stdout",
          "text": [
            "iNeuron\n"
          ]
        }
      ]
    },
    {
      "cell_type": "markdown",
      "source": [
        "**3. What does this code print, and why?**\n",
        "\n",
        "**&gt;&gt;&gt; X = &#39;iNeuron&#39;**\n",
        "\n",
        "**&gt;&gt;&gt; def func():**\n",
        "\n",
        "**X = &#39;NI&#39;**\n",
        "\n",
        "**print(X)**\n",
        "\n",
        "**&gt;&gt;&gt; func()**\n",
        "\n",
        "**&gt;&gt;&gt; print(X)**\n",
        "\n",
        "**Ans:** **Explanation:**\n",
        "\n",
        "* Initially, a global variable X is defined with the value 'iNeuron'.\n",
        "* Then, a function func() is defined. Within this function, a local variable X is defined with the value 'NI'.\n",
        "* Inside the function func(), print(X) prints the value of the local variable X, which is 'NI'.\n",
        "* After the function call, print(X) outside the function prints the value of the global variable X, which remains 'iNeuron'. The local variable X defined inside the function does not affect the global variable X."
      ],
      "metadata": {
        "id": "NkdJEQsVLqwQ"
      }
    },
    {
      "cell_type": "code",
      "source": [
        "X = 'iNeuron'  # defining a global variable X with value 'iNeuron'\n",
        "\n",
        "def func():\n",
        "    X = 'NI'  # defining a local variable X with value 'NI'\n",
        "    print(X)  # printing the local variable X inside the function\n",
        "\n",
        "func()  # calling the function\n",
        "print(X)  # printing the value of the global variable X\n"
      ],
      "metadata": {
        "colab": {
          "base_uri": "https://localhost:8080/"
        },
        "id": "dvgpsHw7K47G",
        "outputId": "31ac9e61-65ac-4c5c-da6d-978de9636623"
      },
      "execution_count": 4,
      "outputs": [
        {
          "output_type": "stream",
          "name": "stdout",
          "text": [
            "NI\n",
            "iNeuron\n"
          ]
        }
      ]
    },
    {
      "cell_type": "markdown",
      "source": [
        "**4. What output does this code produce? Why?**\n",
        "\n",
        "**&gt;&gt;&gt; X = &#39;iNeuron&#39;**\n",
        "\n",
        "**&gt;&gt;&gt; def func():**\n",
        "\n",
        "**global X**\n",
        "\n",
        "**X = &#39;NI&#39;**\n",
        "\n",
        "**&gt;&gt;&gt; func()**\n",
        "\n",
        "**&gt;&gt;&gt; print(X)**\n",
        "\n",
        "**Ans:** **Explanation:**\n",
        "\n",
        "* Initially, a global variable X is defined with the value 'iNeuron'.\n",
        "* Then, a function func() is defined. Inside this function, global X is used to declare X as a global variable. Then, the value of the global variable X is changed to 'NI'.\n",
        "* When the function func() is called, it modifies the global variable X to 'NI'.\n",
        "* After the function call, when print(X) is executed, it prints the value of the modified global variable X, which is now 'NI'. The global variable X has been changed within the function due to the use of the global keyword**"
      ],
      "metadata": {
        "id": "tMtBSpWvMhZH"
      }
    },
    {
      "cell_type": "code",
      "source": [
        "X = 'iNeuron'  # defining a global variable X with value 'iNeuron'\n",
        "\n",
        "def func():\n",
        "    global X  # declaring X as a global variable within the function\n",
        "    X = 'NI'  # modifying the global variable X\n",
        "\n",
        "func()  # calling the function\n",
        "print(X)  # printing the value of the global variable X\n"
      ],
      "metadata": {
        "id": "SRGS8ITRMD7c"
      },
      "execution_count": null,
      "outputs": []
    },
    {
      "cell_type": "markdown",
      "source": [
        "**5. What about this code—what’s the output, and why?**\n",
        "\n",
        "**&gt;&gt;&gt; X = &#39;iNeuron&#39;**\n",
        "\n",
        "**&gt;&gt;&gt; def func():**\n",
        "\n",
        "**X = &#39;NI&#39;**\n",
        "\n",
        "**def nested():**\n",
        "\n",
        "**print(X)**\n",
        "\n",
        "**nested()**\n",
        "\n",
        "**&gt;&gt;&gt; func()**\n",
        "\n",
        "**&gt;&gt;&gt; X**\n",
        "\n",
        "**Ans:** **Explanation:**\n",
        "\n",
        "* Initially, a global variable X is defined with the value 'iNeuron'.\n",
        "* Then, a function func() is defined. Inside this function, a local variable X is defined with the value 'NI'.\n",
        "* Inside the func() function, another function nested() is defined. When nested() is called, it prints the value of X. Since X is not defined locally in nested(), it looks for X in the scope where nested() is defined, which is inside func(). Therefore, it prints the value of the local variable X within func(), which is 'NI'.\n",
        "* After the nested() function is called within func(), execution returns to the func() function. However, func() doesn't return or print anything further.\n",
        "* Finally, when X is printed outside of any function, it prints the value of the global variable X, which remains 'iNeuron'. The local variable X defined inside the func() function doesn't affect the global variable X."
      ],
      "metadata": {
        "id": "fiODO78jNRTv"
      }
    },
    {
      "cell_type": "code",
      "source": [
        "X = 'iNeuron'  # defining a global variable X with value 'iNeuron'\n",
        "\n",
        "def func():\n",
        "    X = 'NI'  # defining a local variable X with value 'NI'\n",
        "\n",
        "    def nested():\n",
        "        print(X)  # printing the value of X\n",
        "\n",
        "    nested()  # calling the nested function\n",
        "\n",
        "func()  # calling the function\n",
        "print(X)  # printing the value of the global variable X\n"
      ],
      "metadata": {
        "colab": {
          "base_uri": "https://localhost:8080/"
        },
        "id": "iK1Ht6rvNavs",
        "outputId": "c86898c5-e29f-4774-d398-4f13e3b28325"
      },
      "execution_count": 5,
      "outputs": [
        {
          "output_type": "stream",
          "name": "stdout",
          "text": [
            "NI\n",
            "iNeuron\n"
          ]
        }
      ]
    },
    {
      "cell_type": "markdown",
      "source": [
        "**6. How about this code: what is its output in Python 3, and explain?**\n",
        "\n",
        "**&gt;&gt;&gt; def func():**\n",
        "\n",
        "**X = &#39;NI&#39;**\n",
        "\n",
        "**def nested():**\n",
        "\n",
        "**nonlocal X**\n",
        "\n",
        "**X = &#39;Spam&#39;**\n",
        "\n",
        "**nested()**\n",
        "\n",
        "**print(X)**\n",
        "\n",
        "**&gt;&gt;&gt; func()**\n",
        "\n",
        "**Ans:** **Explanation:**\n",
        "\n",
        "* The func() function defines a local variable X with the value 'NI'.\n",
        "Inside func(), another function nested() is defined.\n",
        "* The nonlocal keyword is used within nested() to indicate that X belongs to the enclosing scope of func() rather than being local to nested().\n",
        "* Inside nested(), X is assigned the value 'Spam'.\n",
        "* After calling nested(), print(X) within func() prints the modified value of X, which is now 'Spam'."
      ],
      "metadata": {
        "id": "HS9lGos2NxRL"
      }
    },
    {
      "cell_type": "code",
      "source": [
        "def func():\n",
        "    X = 'NI'\n",
        "    def nested():\n",
        "        nonlocal X\n",
        "        X = 'Spam'\n",
        "    nested()\n",
        "    print(X)\n",
        "\n",
        "func()\n"
      ],
      "metadata": {
        "colab": {
          "base_uri": "https://localhost:8080/"
        },
        "id": "etfxtStbNwR0",
        "outputId": "60e0f022-2f88-4e43-fdb7-04cc82f4cb82"
      },
      "execution_count": 6,
      "outputs": [
        {
          "output_type": "stream",
          "name": "stdout",
          "text": [
            "Spam\n"
          ]
        }
      ]
    }
  ]
}