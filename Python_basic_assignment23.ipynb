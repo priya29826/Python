{
  "nbformat": 4,
  "nbformat_minor": 0,
  "metadata": {
    "colab": {
      "provenance": []
    },
    "kernelspec": {
      "name": "python3",
      "display_name": "Python 3"
    },
    "language_info": {
      "name": "python"
    }
  },
  "cells": [
    {
      "cell_type": "markdown",
      "source": [
        "**1. What is the result of the code, and why?**\n",
        "\n",
        "**&gt;&gt;&gt; def func(a, b=6, c=8):**\n",
        "\n",
        "**print(a, b, c)**\n",
        "\n",
        "**&gt;&gt;&gt; func(1, 2)**\n",
        "\n",
        "**Ans:** This happens because in the function func, the parameters a, b, and c are defined with default values. When you call func(1, 2), you provide values for a and b, but not for c. So, c retains its default value of 8. Therefore, the output shows a as 1, b as 2 (the value you provided), and c as 8 (its default value).\n",
        "\n",
        "---\n",
        "\n"
      ],
      "metadata": {
        "id": "dVgRJtXhyhkr"
      }
    },
    {
      "cell_type": "code",
      "source": [
        "def func(a, b=6, c=8):\n",
        "    print(a, b, c)\n",
        "\n",
        "func(1, 2)\n"
      ],
      "metadata": {
        "colab": {
          "base_uri": "https://localhost:8080/"
        },
        "id": "iFvrloPTy4ZE",
        "outputId": "bb60af30-d0b6-4bf0-8167-c5e639ff5ef9"
      },
      "execution_count": 3,
      "outputs": [
        {
          "output_type": "stream",
          "name": "stdout",
          "text": [
            "1 2 8\n"
          ]
        }
      ]
    },
    {
      "cell_type": "markdown",
      "source": [
        "**2. What is the result of this code, and why?**\n",
        "\n",
        "**&gt;&gt;&gt; def func(a, b, c=5):**\n",
        "\n",
        "**print(a, b, c)**\n",
        "\n",
        "**&gt;&gt;&gt; func(1, c=3, b=2)**\n",
        "\n",
        "**Ans:** Here's why:\n",
        "\n",
        "When calling the function func(1, c=3, b=2), the values for a, b, and c are explicitly provided. The order of the keyword arguments (c=3 and b=2) doesn't matter because they are specified by their parameter names. Therefore, the output shows a as 1, b as 2, and c as 3, as specified in the function call."
      ],
      "metadata": {
        "id": "mvfKm7fBzFhw"
      }
    },
    {
      "cell_type": "code",
      "source": [
        "def func(a, b, c=5):\n",
        "    print(a, b, c)\n",
        "\n",
        "func(1, c=3, b=2)\n"
      ],
      "metadata": {
        "id": "YknCg_v36SXV"
      },
      "execution_count": null,
      "outputs": []
    },
    {
      "cell_type": "markdown",
      "source": [
        "**3. How about this code: what is its result, and why?**\n",
        "\n",
        "**&gt;&gt;&gt; def func(a, *pargs):**\n",
        "\n",
        "**print(a, pargs)**\n",
        "\n",
        "**&gt;&gt;&gt; func(1, 2, 3)**\n",
        "\n",
        "**Ans:** Here's why:\n",
        "\n",
        "In the function definition func(a, *pargs), the *pargs syntax collects any additional positional arguments passed to the function into a tuple named pargs.\n",
        "\n",
        "When calling func(1, 2, 3), 1 is assigned to a, and the remaining positional arguments 2 and 3 are collected into the tuple pargs. Therefore, the output shows a as 1 and pargs as (2, 3).\n",
        "\n",
        "\n",
        "\n"
      ],
      "metadata": {
        "id": "-oq1lkrv5r_Y"
      }
    },
    {
      "cell_type": "code",
      "source": [
        "def func(a, *pargs):\n",
        "    print(a, pargs)\n",
        "\n",
        "func(1, 2, 3)\n"
      ],
      "metadata": {
        "id": "CXI5zlMR6gYC"
      },
      "execution_count": null,
      "outputs": []
    },
    {
      "cell_type": "markdown",
      "source": [
        "**4. What does this code print, and why?**\n",
        "\n",
        "**&gt;&gt;&gt; def func(a, **kargs):**\n",
        "\n",
        "**print(a, kargs)**\n",
        "\n",
        "**&gt;&gt;&gt; func(a=1, c=3, b=2)**\n",
        "\n",
        "**Ans:** Here's why:\n",
        "\n",
        "In the function definition func(a, **kargs), the **kargs syntax collects any additional keyword arguments passed to the function into a dictionary named kargs.\n",
        "\n",
        "When calling func(a=1, c=3, b=2), 1 is assigned to a, and the remaining keyword arguments c=3 and b=2 are collected into the dictionary kargs. Therefore, the output shows a as 1 and kargs as {'c': 3, 'b': 2}."
      ],
      "metadata": {
        "id": "43NYN2Tv5gRn"
      }
    },
    {
      "cell_type": "code",
      "source": [
        "def func(a, **kargs):\n",
        "    print(a, kargs)\n",
        "\n",
        "func(a=1, c=3, b=2)\n"
      ],
      "metadata": {
        "id": "DoY1x7-d6xkQ"
      },
      "execution_count": null,
      "outputs": []
    },
    {
      "cell_type": "markdown",
      "source": [
        "**5. What gets printed by this, and explain?**\n",
        "\n",
        "**&gt;&gt;&gt; def func(a, b, c=8, d=5): print(a, b, c, d)**\n",
        "\n",
        "**&gt;&gt;&gt; func(1, *(5, 6))**\n",
        "\n",
        "**Ans:** Here's why:\n",
        "\n",
        "In the function definition func(a, **kargs), the **kargs syntax collects any additional keyword arguments passed to the function into a dictionary named kargs.\n",
        "\n",
        "When calling func(a=1, c=3, b=2), 1 is assigned to a, and the remaining keyword arguments c=3 and b=2 are collected into the dictionary kargs. Therefore, the output shows a as 1 and kargs as {'c': 3, 'b': 2}.\n",
        "\n"
      ],
      "metadata": {
        "id": "-O4v6zoU5Vda"
      }
    },
    {
      "cell_type": "code",
      "source": [
        "def func(a, **kargs):\n",
        "    print(a, kargs)\n",
        "\n",
        "func(a=1, c=3, b=2)\n"
      ],
      "metadata": {
        "colab": {
          "base_uri": "https://localhost:8080/"
        },
        "id": "ctwQ3rC55BCT",
        "outputId": "12d1bc1d-662a-4349-b136-e0d36b83e2ac"
      },
      "execution_count": 4,
      "outputs": [
        {
          "output_type": "stream",
          "name": "stdout",
          "text": [
            "1 {'c': 3, 'b': 2}\n"
          ]
        }
      ]
    },
    {
      "cell_type": "markdown",
      "source": [
        "**6. what is the result of this, and explain?**\n",
        "\n",
        "**&gt;&gt;&gt; def func(a, b, c): a = 2; b[0] = &#39;x&#39;; c[&#39;a&#39;] = &#39;y&#39;**\n",
        "\n",
        "**&gt;&gt;&gt; l=1; m=[1]; n={&#39;a&#39;:0}**\n",
        "\n",
        "**&gt;&gt;&gt; func(l, m, n)**\n",
        "\n",
        "**Ans:**\n",
        "The result of the code will change the values of m and n but not l.\n",
        "\n",
        "Here's why:\n",
        "\n",
        "1. Initially, l is an integer (1), m is a list ([1]), and n is a dictionary ({'a': 0}).\n",
        "2. When calling func(l, m, n), the function func receives l, m, and n as arguments.\n",
        "3. Inside the function func, a is assigned the value 2, which doesn't affect the variable l outside of the function.\n",
        "4. b[0] is assigned 'x', modifying the first element of list m to 'x'.\n",
        "5. c['a'] is assigned 'y', modifying the value associated with the key 'a' in dictionary n to 'y'.\n",
        "\n",
        "Therefore, after calling func(l, m, n), the values of l, m, and n will be:\n",
        "\n",
        "* l remains 1 (unchanged).\n",
        "* m becomes ['x'].\n",
        "* n becomes {'a': 'y'}.\n",
        "\n",
        "So, the function call modifies the list m and the dictionary n, but it doesn't affect the integer l."
      ],
      "metadata": {
        "id": "PRd0jbcl5FU8"
      }
    },
    {
      "cell_type": "code",
      "source": [
        "def func(a, b, c):\n",
        "    a = 2\n",
        "    b[0] = 'x'\n",
        "    c['a'] = 'y'\n",
        "\n",
        "l = 1\n",
        "m = [1]\n",
        "n = {'a': 0}\n",
        "\n",
        "func(l, m, n)\n",
        "\n",
        "print(l)  # Output: 1\n",
        "print(m)  # Output: ['x']\n",
        "print(n)  # Output: {'a': 'y'}\n"
      ],
      "metadata": {
        "id": "LTmJHZbW5Se8"
      },
      "execution_count": null,
      "outputs": []
    }
  ]
}