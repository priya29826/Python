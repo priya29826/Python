{
  "nbformat": 4,
  "nbformat_minor": 0,
  "metadata": {
    "colab": {
      "provenance": []
    },
    "kernelspec": {
      "name": "python3",
      "display_name": "Python 3"
    },
    "language_info": {
      "name": "python"
    }
  },
  "cells": [
    {
      "cell_type": "markdown",
      "source": [
        "**1. What does an empty dictionary&#39;s code look like?**\n",
        "\n",
        "**Ans:** In Python, an empty dictionary is represented by curly braces {}. Here's how it looks:\n"
      ],
      "metadata": {
        "id": "1TOj1UV0ELdW"
      }
    },
    {
      "cell_type": "code",
      "execution_count": null,
      "metadata": {
        "id": "HCGJ6lKgEDq5"
      },
      "outputs": [],
      "source": [
        "empty_dict = {}"
      ]
    },
    {
      "cell_type": "markdown",
      "source": [
        "**2. What is the value of a dictionary value with the key &#39;foo&#39; and the value 42?**\n",
        "\n",
        "**Ans:** In Python, if you have a dictionary with the key 'foo' and the value 42, the value associated with the key 'foo' would be 42. Here's how you would create such a dictionary:"
      ],
      "metadata": {
        "id": "fZi_XOXNFH7h"
      }
    },
    {
      "cell_type": "code",
      "source": [
        "my_dict = {'foo': 42}\n"
      ],
      "metadata": {
        "id": "dwBb_nHtFBlu"
      },
      "execution_count": null,
      "outputs": []
    },
    {
      "cell_type": "markdown",
      "source": [
        "**3. What is the most significant distinction between a dictionary and a list?**\n",
        "\n",
        "**Ans:**\n",
        "The most significant distinction between a dictionary and a list is their structure and how they store data:\n",
        "\n",
        "\n",
        "**1. Structure:**\n",
        "\n",
        "* A dictionary is a collection of key-value pairs, where each key is associated with a value. Keys within a dictionary must be unique, but the values can be duplicated.\n",
        "* A list is an ordered collection of items, where each item is indexed by its position in the list. Lists allow duplicate elements, and the order of elements is maintained.\n",
        "\n",
        "**2. Accessing Elements:**\n",
        "\n",
        "* In a dictionary, elements are accessed by their keys. You provide the key to retrieve the corresponding value.\n",
        "* In a list, elements are accessed by their index position. You provide the index (which starts at 0) to access the element at that position.\n",
        "\n",
        "**3. Mutability:**\n",
        "\n",
        "* Both dictionaries and lists are mutable, meaning you can change their content after creation. You can add, remove, or modify elements.\n",
        "* However, the way you modify them differs: in a dictionary, you modify elements by their keys, while in a list, you modify elements by their index positions.\n",
        "\n",
        "**4. Ordering:**\n",
        "\n",
        "* Dictionaries do not maintain any specific order for their elements. Starting from Python 3.7, dictionaries retain the insertion order of their keys. Python 3.6 and earlier versions do not guarantee this behavior.\n",
        "* Lists maintain the order of elements as they are inserted.\n",
        "\n",
        "In summary, while both dictionaries and lists are used for storing collections of data, dictionaries are best suited for associating unique keys with values, while lists are used when the order of elements is important or when elements are accessed by position rather than by key.\n",
        "\n",
        "\n",
        "\n",
        "\n"
      ],
      "metadata": {
        "id": "OY-42LudFkaI"
      }
    },
    {
      "cell_type": "markdown",
      "source": [
        "**4. What happens if you try to access spam[&#39;foo&#39;] if spam is {&#39;bar&#39;: 100}?**\n",
        "\n",
        "**Ans:**\n",
        "If you try to access spam['foo'] and spam is { 'bar': 100 }, you will encounter a KeyError because the key 'foo' does not exist in the dictionary spam.\n",
        "\n",
        "Here's what happens:\n",
        "\n",
        "The KeyError indicates that the key 'foo' is not present in the dictionary spam, hence Python cannot retrieve a value associated with it."
      ],
      "metadata": {
        "id": "wiWRV-L-GVse"
      }
    },
    {
      "cell_type": "code",
      "source": [
        "spam = {'bar': 100}\n",
        "print(spam['foo'])  # This line will raise a KeyError\n"
      ],
      "metadata": {
        "colab": {
          "base_uri": "https://localhost:8080/",
          "height": 166
        },
        "id": "QyzEUHAYKT2P",
        "outputId": "c7f2a727-92b9-45a0-d612-9e90fe9150e4"
      },
      "execution_count": 4,
      "outputs": [
        {
          "output_type": "error",
          "ename": "KeyError",
          "evalue": "'foo'",
          "traceback": [
            "\u001b[0;31m---------------------------------------------------------------------------\u001b[0m",
            "\u001b[0;31mKeyError\u001b[0m                                  Traceback (most recent call last)",
            "\u001b[0;32m<ipython-input-4-a62b60040251>\u001b[0m in \u001b[0;36m<cell line: 2>\u001b[0;34m()\u001b[0m\n\u001b[1;32m      1\u001b[0m \u001b[0mspam\u001b[0m \u001b[0;34m=\u001b[0m \u001b[0;34m{\u001b[0m\u001b[0;34m'bar'\u001b[0m\u001b[0;34m:\u001b[0m \u001b[0;36m100\u001b[0m\u001b[0;34m}\u001b[0m\u001b[0;34m\u001b[0m\u001b[0;34m\u001b[0m\u001b[0m\n\u001b[0;32m----> 2\u001b[0;31m \u001b[0mprint\u001b[0m\u001b[0;34m(\u001b[0m\u001b[0mspam\u001b[0m\u001b[0;34m[\u001b[0m\u001b[0;34m'foo'\u001b[0m\u001b[0;34m]\u001b[0m\u001b[0;34m)\u001b[0m  \u001b[0;31m# This line will raise a KeyError\u001b[0m\u001b[0;34m\u001b[0m\u001b[0;34m\u001b[0m\u001b[0m\n\u001b[0m",
            "\u001b[0;31mKeyError\u001b[0m: 'foo'"
          ]
        }
      ]
    },
    {
      "cell_type": "markdown",
      "source": [
        "**5. If a dictionary is stored in spam, what is the difference between the expressions &#39;cat&#39; in spam and\n",
        "&#39;cat&#39; in spam.keys()?**\n",
        "\n",
        "**Ans:** In Python, both expressions 'cat' in spam and 'cat' in spam.keys() check for the presence of the key 'cat' in the dictionary spam. However, there is a slight difference in their behavior:\n",
        "\n",
        "**1. 'cat' in spam:**\n",
        "\n",
        "* This expression checks if the key 'cat' exists directly in the dictionary spam.\n",
        "* It directly checks the keys of the dictionary and returns True if the key 'cat' is present, and False otherwise.\n",
        "\n",
        "**2. 'cat' in spam.keys():**\n",
        "\n",
        "* This expression first retrieves all the keys of the dictionary spam using the keys() method.\n",
        "* Then, it checks if the string 'cat' is present among those keys.\n",
        "* It returns True if 'cat' is among the keys of spam, and False otherwise.\n",
        "\n",
        "In terms of functionality, both expressions achieve the same result in this context. However, the second expression involves an additional step of retrieving all keys of the dictionary before performing the check. In most cases, using 'cat' in spam directly is more efficient because it directly accesses the dictionary's keys without needing to create an intermediate list of keys.\n",
        "\n",
        "\n"
      ],
      "metadata": {
        "id": "D8w0ho3PHftV"
      }
    },
    {
      "cell_type": "markdown",
      "source": [
        "\n",
        "**6. If a dictionary is stored in spam, what is the difference between the expressions &#39;cat&#39; in spam and\n",
        "&#39;cat&#39; in spam.values()?**\n",
        "\n",
        "**Ans:** The expressions 'cat' in spam and 'cat' in spam.values() both involve searching for the presence of the string 'cat' within the values of the dictionary spam, but they operate on different parts of the dictionary:\n",
        "\n",
        "**1. 'cat' in spam:**\n",
        "\n",
        "* This expression checks if the string 'cat' exists directly as a key in the dictionary spam.\n",
        "* It returns True if 'cat' is a key in spam, regardless of what values are associated with that key.\n",
        "\n",
        "**2. 'cat' in spam.values():**\n",
        "* This expression checks if the string 'cat' exists as a value within the dictionary spam.\n",
        "* It iterates through all the values of the dictionary and returns True if 'cat' is found among those values, and False otherwise.\n",
        "\n",
        "So, the main difference is that 'cat' in spam checks if 'cat' is a key in the dictionary, while 'cat' in spam.values() checks if 'cat' is a value in the dictionary. Depending on the context and what you're trying to achieve, you would choose one expression over the other.\n",
        "\n"
      ],
      "metadata": {
        "id": "iLui4mchFfRD"
      }
    },
    {
      "cell_type": "markdown",
      "source": [
        "**7. What is a shortcut for the following code?**\n",
        "\n",
        "if &#39;color&#39; not in spam:\n",
        "\n",
        "spam[&#39;color&#39;] = &#39;black&#39;\n",
        "\n",
        "**Ans:** A shortcut for the provided code can be achieved using the setdefault() method of dictionaries. This method sets a default value for a key if the key is not already in the dictionary. Here's how you can use it:\n",
        "\n",
        "This line of code will set the value of 'color' to 'black' in the spam dictionary only if 'color' is not already a key in the dictionary. If 'color' is already a key in spam, it will leave the value unchanged.\n"
      ],
      "metadata": {
        "id": "CHaHDTIoIs2O"
      }
    },
    {
      "cell_type": "code",
      "source": [
        "spam.setdefault('color', 'black')"
      ],
      "metadata": {
        "id": "eDZZfUQpFXnh"
      },
      "execution_count": null,
      "outputs": []
    },
    {
      "cell_type": "markdown",
      "source": [
        "**8. How do you &quot;pretty print&quot; dictionary values using which module and function?**\n",
        "\n",
        "**Ans:** To \"pretty print\" dictionary values in Python, you can use the pprint module, specifically the pprint() function within it.\n",
        "\n",
        "Here's how you would use it:\n",
        "\n",
        "This will output the dictionary my_dict in a formatted and readable way. The pprint() function provides a more human-readable output compared to simply printing the dictionary, especially when dealing with nested or complex data structures."
      ],
      "metadata": {
        "id": "Zb1cm8EEJQYY"
      }
    },
    {
      "cell_type": "code",
      "source": [
        "import pprint\n",
        "\n",
        "my_dict = {'name': 'John', 'age': 30, 'city': 'New York'}\n",
        "\n",
        "pprint.pprint(my_dict)\n"
      ],
      "metadata": {
        "colab": {
          "base_uri": "https://localhost:8080/"
        },
        "id": "5N7YuqoKJ1u2",
        "outputId": "18a5ae14-b76d-4575-b8c6-8c48a4ac93f2"
      },
      "execution_count": 3,
      "outputs": [
        {
          "output_type": "stream",
          "name": "stdout",
          "text": [
            "{'age': 30, 'city': 'New York', 'name': 'John'}\n"
          ]
        }
      ]
    }
  ]
}