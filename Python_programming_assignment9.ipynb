{
  "nbformat": 4,
  "nbformat_minor": 0,
  "metadata": {
    "colab": {
      "provenance": []
    },
    "kernelspec": {
      "name": "python3",
      "display_name": "Python 3"
    },
    "language_info": {
      "name": "python"
    }
  },
  "cells": [
    {
      "cell_type": "markdown",
      "source": [
        "1. **Write a Python program to check if the given number is a Disarium Number?**"
      ],
      "metadata": {
        "id": "MqmEdx20h19y"
      }
    },
    {
      "cell_type": "code",
      "execution_count": 2,
      "metadata": {
        "colab": {
          "base_uri": "https://localhost:8080/"
        },
        "id": "Y0IRiK_7hoMP",
        "outputId": "21470f1e-beef-486e-aca0-b97962c60e52"
      },
      "outputs": [
        {
          "output_type": "stream",
          "name": "stdout",
          "text": [
            "Enter a number: 12\n",
            "12 is not a Disarium number.\n"
          ]
        }
      ],
      "source": [
        "def is_disarium(num):\n",
        "    # Convert number to string to iterate through digits\n",
        "    num_str = str(num)\n",
        "    length = len(num_str)\n",
        "    sum = 0\n",
        "\n",
        "    # Calculate sum of each digit raised to its respective position\n",
        "    for i in range(length):\n",
        "        sum += int(num_str[i]) ** (i + 1)\n",
        "\n",
        "    # Check if the sum is equal to the number\n",
        "    return sum == num\n",
        "\n",
        "# Example usage\n",
        "num = int(input(\"Enter a number: \"))\n",
        "if is_disarium(num):\n",
        "    print(num, \"is a Disarium number.\")\n",
        "else:\n",
        "    print(num, \"is not a Disarium number.\")\n"
      ]
    },
    {
      "cell_type": "markdown",
      "source": [
        "2. **Write a Python program to print all disarium numbers between 1 to 100?**"
      ],
      "metadata": {
        "id": "3dmy5UZ6h4BJ"
      }
    },
    {
      "cell_type": "code",
      "source": [
        "def is_disarium(num):\n",
        "    return num == sum(int(digit)**(i+1) for i, digit in enumerate(str(num)))\n",
        "\n",
        "print(\"Disarium numbers between 1 and 100:\")\n",
        "for i in range(1, 101):\n",
        "    if is_disarium(i):\n",
        "        print(i)\n"
      ],
      "metadata": {
        "colab": {
          "base_uri": "https://localhost:8080/"
        },
        "id": "LTcNI9c6inMV",
        "outputId": "320f678c-2e71-43de-e19f-283f52e0c99c"
      },
      "execution_count": 3,
      "outputs": [
        {
          "output_type": "stream",
          "name": "stdout",
          "text": [
            "Disarium numbers between 1 and 100:\n",
            "1\n",
            "2\n",
            "3\n",
            "4\n",
            "5\n",
            "6\n",
            "7\n",
            "8\n",
            "9\n",
            "89\n"
          ]
        }
      ]
    },
    {
      "cell_type": "markdown",
      "source": [
        "3. **Write a Python program to check if the given number is Happy Number?**"
      ],
      "metadata": {
        "id": "j1gWWwAph8FQ"
      }
    },
    {
      "cell_type": "code",
      "source": [
        "def is_happy_number(num):\n",
        "    seen = set()\n",
        "    while num != 1 and num not in seen:\n",
        "        seen.add(num)\n",
        "        num = sum(int(digit)**2 for digit in str(num))\n",
        "    return num == 1\n",
        "\n",
        "# Example usage\n",
        "num = int(input(\"Enter a number: \"))\n",
        "print(num, \"is a Happy number.\" if is_happy_number(num) else \"is not a Happy number.\")\n"
      ],
      "metadata": {
        "colab": {
          "base_uri": "https://localhost:8080/"
        },
        "id": "5C5_5PQ0h-rw",
        "outputId": "c21eab14-437e-4e2e-e002-10832e184dc5"
      },
      "execution_count": 4,
      "outputs": [
        {
          "output_type": "stream",
          "name": "stdout",
          "text": [
            "Enter a number: 100\n",
            "100 is a Happy number.\n"
          ]
        }
      ]
    },
    {
      "cell_type": "markdown",
      "source": [
        "4. **Write a Python program to print all happy numbers between 1 and 100?**"
      ],
      "metadata": {
        "id": "_y3gG7H_iEVH"
      }
    },
    {
      "cell_type": "code",
      "source": [
        "def is_happy_number(num):\n",
        "    seen = set()\n",
        "    while num != 1 and num not in seen:\n",
        "        seen.add(num)\n",
        "        num = sum(int(digit)**2 for digit in str(num))\n",
        "    return num == 1\n",
        "\n",
        "print(\"Happy numbers between 1 and 100:\")\n",
        "for i in range(1, 101):\n",
        "    if is_happy_number(i):\n",
        "        print(i)\n"
      ],
      "metadata": {
        "colab": {
          "base_uri": "https://localhost:8080/"
        },
        "id": "Q6ZVsg4viEtt",
        "outputId": "bb197b46-0eed-40ab-ec26-f325d6910c60"
      },
      "execution_count": 5,
      "outputs": [
        {
          "output_type": "stream",
          "name": "stdout",
          "text": [
            "Happy numbers between 1 and 100:\n",
            "1\n",
            "7\n",
            "10\n",
            "13\n",
            "19\n",
            "23\n",
            "28\n",
            "31\n",
            "32\n",
            "44\n",
            "49\n",
            "68\n",
            "70\n",
            "79\n",
            "82\n",
            "86\n",
            "91\n",
            "94\n",
            "97\n",
            "100\n"
          ]
        }
      ]
    },
    {
      "cell_type": "markdown",
      "source": [
        "\n",
        "5. **Write a Python program to determine whether the given number is a Harshad Number?**\n"
      ],
      "metadata": {
        "id": "E9wLpuI6iHgP"
      }
    },
    {
      "cell_type": "code",
      "source": [
        "def is_harshad_number(num):\n",
        "    return num % sum(int(digit) for digit in str(num)) == 0\n",
        "\n",
        "# Example usage\n",
        "num = int(input(\"Enter a number: \"))\n",
        "print(num, \"is a Harshad number.\" if is_harshad_number(num) else \"is not a Harshad number.\")\n"
      ],
      "metadata": {
        "colab": {
          "base_uri": "https://localhost:8080/"
        },
        "id": "_zFhYesCiNoc",
        "outputId": "f383efde-c30c-4e45-a8e4-27cd939adc12"
      },
      "execution_count": 6,
      "outputs": [
        {
          "output_type": "stream",
          "name": "stdout",
          "text": [
            "Enter a number: 16\n",
            "16 is not a Harshad number.\n"
          ]
        }
      ]
    },
    {
      "cell_type": "markdown",
      "source": [
        "\n",
        "6. **Write a Python program to print all pronic numbers between 1 and 100?**"
      ],
      "metadata": {
        "id": "uACUxfHMiOL1"
      }
    },
    {
      "cell_type": "code",
      "source": [
        "def is_pronic(num):\n",
        "    return any(i * (i + 1) == num for i in range(num))\n",
        "\n",
        "print(\"Pronic numbers between 1 and 100:\")\n",
        "for i in range(1, 101):\n",
        "    if is_pronic(i):\n",
        "        print(i)\n"
      ],
      "metadata": {
        "colab": {
          "base_uri": "https://localhost:8080/"
        },
        "id": "5BHWyJzRiP-t",
        "outputId": "e71227b0-68a1-418e-bbf9-81f8478d0dd9"
      },
      "execution_count": 7,
      "outputs": [
        {
          "output_type": "stream",
          "name": "stdout",
          "text": [
            "Pronic numbers between 1 and 100:\n",
            "2\n",
            "6\n",
            "12\n",
            "20\n",
            "30\n",
            "42\n",
            "56\n",
            "72\n",
            "90\n"
          ]
        }
      ]
    },
    {
      "cell_type": "code",
      "source": [],
      "metadata": {
        "id": "MFOp8_iyi7Qw"
      },
      "execution_count": null,
      "outputs": []
    }
  ]
}