{
  "nbformat": 4,
  "nbformat_minor": 0,
  "metadata": {
    "colab": {
      "provenance": []
    },
    "kernelspec": {
      "name": "python3",
      "display_name": "Python 3"
    },
    "language_info": {
      "name": "python"
    }
  },
  "cells": [
    {
      "cell_type": "markdown",
      "source": [
        "**Question1\n",
        "Create a function that takes an integer and returns a list from 1 to the given number, where:**\n",
        "\n",
        "1. If the number can be divided evenly by 4, amplify it by 10 (i.e. return 10 times the\n",
        "number).\n",
        "\n",
        "2. If the number cannot be divided evenly by 4, simply return the number.\n",
        "\n",
        "**Examples**\n",
        "\n",
        "amplify(4) ➞ [1, 2, 3, 40]\n",
        "\n",
        "amplify(3) ➞ [1, 2, 3]\n",
        "\n",
        "amplify(25) ➞ [1, 2, 3, 40, 5, 6, 7, 80, 9, 10, 11, 120, 13, 14, 15, 160,\n",
        "17, 18, 19, 200, 21, 22, 23, 240, 25]\n",
        "\n",
        "**Notes**\n",
        "\n",
        " The given integer will always be equal to or greater than 1.\n",
        "\n",
        " Include the number (see example above).\n",
        "\n",
        " To perform this problem with its intended purpose, try doing it with list\n",
        "comprehensions. If that&#39;s too difficult, just solve the challenge any way you can."
      ],
      "metadata": {
        "id": "lKO6IFco3cL6"
      }
    },
    {
      "cell_type": "code",
      "execution_count": 5,
      "metadata": {
        "colab": {
          "base_uri": "https://localhost:8080/"
        },
        "id": "7Qi64OrL3U2A",
        "outputId": "6b03a297-7c84-49ab-ccfa-e6f30b0ef058"
      },
      "outputs": [
        {
          "output_type": "stream",
          "name": "stdout",
          "text": [
            "[1, 2, 3, 40]\n",
            "[1, 2, 3]\n",
            "[1, 2, 3, 40, 5, 6, 7, 80, 9, 10, 11, 120, 13, 14, 15, 160, 17, 18, 19, 200, 21, 22, 23, 240, 25]\n"
          ]
        }
      ],
      "source": [
        "def amplify(num):\n",
        "    return [n * 10 if n % 4 == 0 else n for n in range(1, num + 1)]\n",
        "\n",
        "# Test cases\n",
        "print(amplify(4))  # ➞ [1, 2, 3, 40]\n",
        "print(amplify(3))  # ➞ [1, 2, 3]\n",
        "print(amplify(25)) # ➞ [1, 2, 3, 40, 5, 6, 7, 80, 9, 10, 11, 120, 13, 14, 15, 160, 17, 18, 19, 200, 21, 22, 23, 240, 25]\n"
      ]
    },
    {
      "cell_type": "markdown",
      "source": [
        "**Question2\n",
        "Create a function that takes a list of numbers and return the number that&#39;s unique.**\n",
        "\n",
        "**Examples**\n",
        "\n",
        "unique([3, 3, 3, 7, 3, 3]) ➞ 7\n",
        "\n",
        "unique([0, 0, 0.77, 0, 0]) ➞ 0.77\n",
        "\n",
        "unique([0, 1, 1, 1, 1, 1, 1, 1]) ➞ 0\n",
        "\n",
        "**Notes**\n",
        "\n",
        "Test cases will always have exactly one unique number while all others are the same."
      ],
      "metadata": {
        "id": "-L1gO3wp3jsa"
      }
    },
    {
      "cell_type": "code",
      "source": [
        "def unique(lst):\n",
        "    counts = {}\n",
        "    for num in lst:\n",
        "        counts[num] = counts.get(num, 0) + 1\n",
        "\n",
        "    for num, count in counts.items():\n",
        "        if count == 1:\n",
        "            return num\n",
        "\n",
        "# Test cases\n",
        "print(unique([3, 3, 3, 7, 3, 3]))   # ➞ 7\n",
        "print(unique([0, 0, 0.77, 0, 0]))   # ➞ 0.77\n",
        "print(unique([0, 1, 1, 1, 1, 1, 1, 1]))  # ➞ 0\n"
      ],
      "metadata": {
        "colab": {
          "base_uri": "https://localhost:8080/"
        },
        "id": "H8yP0GcO3pGq",
        "outputId": "47bc7f74-c3c7-4723-f592-44f88199e473"
      },
      "execution_count": 4,
      "outputs": [
        {
          "output_type": "stream",
          "name": "stdout",
          "text": [
            "7\n",
            "0.77\n",
            "0\n"
          ]
        }
      ]
    },
    {
      "cell_type": "markdown",
      "source": [
        "**Question3\n",
        "Your task is to create a Circle constructor that creates a circle with a radius provided by an\n",
        "argument. The circles constructed must have two getters getArea() (PIr^2) and\n",
        "getPerimeter() (2PI*r) which give both respective areas and perimeter (circumference).**\n",
        "\n",
        "**For help with this class, I have provided you with a Rectangle constructor which you can use\n",
        "as a base example.**\n",
        "\n",
        "**Examples**\n",
        "circy = Circle(11)\n",
        "\n",
        "circy.getArea()\n",
        "\n",
        "##### Should return 380.132711084365\n",
        "circy = Circle(4.44)\n",
        "\n",
        "circy.getPerimeter()\n",
        "\n",
        "##### Should return 27.897342763877365\n",
        "\n",
        "**Notes**\n",
        "\n",
        "Round results up to the nearest integer.|"
      ],
      "metadata": {
        "id": "R2WCs4XH3qDi"
      }
    },
    {
      "cell_type": "code",
      "source": [
        "import math\n",
        "\n",
        "class Circle:\n",
        "    def __init__(self, radius):\n",
        "        self.radius = radius\n",
        "\n",
        "    def getArea(self):\n",
        "        return math.ceil(math.pi * self.radius ** 2)\n",
        "\n",
        "    def getPerimeter(self):\n",
        "        return math.ceil(2 * math.pi * self.radius)\n",
        "\n",
        "# Test cases\n",
        "circy = Circle(11)\n",
        "print(circy.getArea())        # Should return 380\n",
        "circy = Circle(4.44)\n",
        "print(circy.getPerimeter())   # Should return 28\n"
      ],
      "metadata": {
        "colab": {
          "base_uri": "https://localhost:8080/"
        },
        "id": "3CJqpN7k4SHS",
        "outputId": "e8a7242c-6123-4972-8ed7-b0e898f4487d"
      },
      "execution_count": 3,
      "outputs": [
        {
          "output_type": "stream",
          "name": "stdout",
          "text": [
            "381\n",
            "28\n"
          ]
        }
      ]
    },
    {
      "cell_type": "markdown",
      "source": [
        "**Question4\n",
        "Create a function that takes a list of strings and return a list, sorted from shortest to longest.**\n",
        "\n",
        "**Examples**\n",
        "\n",
        "sort_by_length([&quot;Google&quot;, &quot;Apple&quot;, &quot;Microsoft&quot;])\n",
        "➞ [&quot;Apple&quot;, &quot;Google&quot;, &quot;Microsoft&quot;]\n",
        "\n",
        "sort_by_length([&quot;Leonardo&quot;, &quot;Michelangelo&quot;, &quot;Raphael&quot;, &quot;Donatello&quot;])\n",
        "\n",
        "➞ [&quot;Raphael&quot;, &quot;Leonardo&quot;, &quot;Donatello&quot;, &quot;Michelangelo&quot;]\n",
        "\n",
        "sort_by_length([&quot;Turing&quot;, &quot;Einstein&quot;, &quot;Jung&quot;])\n",
        "➞ [&quot;Jung&quot;, &quot;Turing&quot;, &quot;Einstein&quot;]\n",
        "\n",
        "**Notes**\n",
        "\n",
        "All test cases contain lists with strings of different lengths, so you won&#39;t have to deal with\n",
        "multiple strings of the same length.\n",
        "\n"
      ],
      "metadata": {
        "id": "3Nllryf03p0h"
      }
    },
    {
      "cell_type": "code",
      "source": [
        "def sort_by_length(lst):\n",
        "    return sorted(lst, key=len)\n",
        "\n",
        "# Test cases\n",
        "print(sort_by_length([\"Google\", \"Apple\", \"Microsoft\"]))  # ➞ [\"Apple\", \"Google\", \"Microsoft\"]\n",
        "print(sort_by_length([\"Leonardo\", \"Michelangelo\", \"Raphael\", \"Donatello\"]))  # ➞ [\"Raphael\", \"Leonardo\", \"Donatello\", \"Michelangelo\"]\n",
        "print(sort_by_length([\"Turing\", \"Einstein\", \"Jung\"]))  # ➞ [\"Jung\", \"Turing\", \"Einstein\"]\n"
      ],
      "metadata": {
        "colab": {
          "base_uri": "https://localhost:8080/"
        },
        "id": "HkSH9Pxy333a",
        "outputId": "aa5c0ce3-e28d-41ab-cdf7-f962be0682af"
      },
      "execution_count": 2,
      "outputs": [
        {
          "output_type": "stream",
          "name": "stdout",
          "text": [
            "['Apple', 'Google', 'Microsoft']\n",
            "['Raphael', 'Leonardo', 'Donatello', 'Michelangelo']\n",
            "['Jung', 'Turing', 'Einstein']\n"
          ]
        }
      ]
    },
    {
      "cell_type": "markdown",
      "source": [
        "**Question5\n",
        "Create a function that validates whether three given integers form a Pythagorean triplet. The\n",
        "sum of the squares of the two smallest integers must equal the square of the largest number to\n",
        "be validated.**\n",
        "\n",
        "**Examples**\n",
        "\n",
        "is_triplet(3, 4, 5) ➞ True\n",
        "\n",
        "##### 3² + 4² = 25\n",
        "##### 5² = 25\n",
        "\n",
        "is_triplet(13, 5, 12) ➞ True\n",
        "\n",
        "##### 5² + 12² = 169\n",
        "##### 13² = 169\n",
        "\n",
        "is_triplet(1, 2, 3) ➞ False\n",
        "\n",
        "##### 1² + 2² = 5\n",
        "##### 3² = 9\n",
        "\n",
        "**Notes**\n",
        "\n",
        "Numbers may not be given in a sorted order."
      ],
      "metadata": {
        "id": "ZTmWgwGo34rh"
      }
    },
    {
      "cell_type": "code",
      "source": [
        "def is_triplet(a, b, c):\n",
        "    # Sort the numbers\n",
        "    numbers = sorted([a, b, c])\n",
        "    # Check if it's a Pythagorean triplet\n",
        "    return numbers[0] ** 2 + numbers[1] ** 2 == numbers[2] ** 2\n",
        "\n",
        "# Test cases\n",
        "print(is_triplet(3, 4, 5))     # ➞ True\n",
        "print(is_triplet(13, 5, 12))    # ➞ True\n",
        "print(is_triplet(1, 2, 3))      # ➞ False\n"
      ],
      "metadata": {
        "colab": {
          "base_uri": "https://localhost:8080/"
        },
        "id": "NLJO1AQz35QY",
        "outputId": "2652eedd-a966-4e31-d392-40b492715659"
      },
      "execution_count": 1,
      "outputs": [
        {
          "output_type": "stream",
          "name": "stdout",
          "text": [
            "True\n",
            "True\n",
            "False\n"
          ]
        }
      ]
    }
  ]
}