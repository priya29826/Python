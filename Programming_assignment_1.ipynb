{
  "nbformat": 4,
  "nbformat_minor": 0,
  "metadata": {
    "colab": {
      "provenance": []
    },
    "kernelspec": {
      "name": "python3",
      "display_name": "Python 3"
    },
    "language_info": {
      "name": "python"
    }
  },
  "cells": [
    {
      "cell_type": "markdown",
      "source": [
        "**Q1** **Write a Python program to print &quot;Hello Python&quot;?**"
      ],
      "metadata": {
        "id": "NvjehbhpzWis"
      }
    },
    {
      "cell_type": "code",
      "execution_count": 1,
      "metadata": {
        "colab": {
          "base_uri": "https://localhost:8080/"
        },
        "id": "nvTUj9Exy0h8",
        "outputId": "88f25d9e-fd42-4c6b-c44e-7330da510d29"
      },
      "outputs": [
        {
          "output_type": "stream",
          "name": "stdout",
          "text": [
            "Hello Python\n"
          ]
        }
      ],
      "source": [
        "print(\"Hello Python\")"
      ]
    },
    {
      "cell_type": "markdown",
      "source": [
        "**Q2** **Write a Python program to do arithmetical operations addition and division.?**"
      ],
      "metadata": {
        "id": "101JFB-3zzcl"
      }
    },
    {
      "cell_type": "code",
      "source": [
        "# Input two numbers from the user\n",
        "num1 = float(input(\"Enter the first number: \"))\n",
        "num2 = float(input(\"Enter the second number: \"))\n",
        "\n",
        "# Perform addition\n",
        "sum_result = num1 + num2\n",
        "print(\"Addition result:\", sum_result)\n",
        "\n",
        "# Perform division\n",
        "if num2 != 0:\n",
        "    division_result = num1 / num2\n",
        "    print(\"Division result:\", division_result)\n",
        "else:\n",
        "    print(\"Cannot divide by zero.\")"
      ],
      "metadata": {
        "colab": {
          "base_uri": "https://localhost:8080/"
        },
        "id": "GVYqQC9SzsKi",
        "outputId": "000cc6bd-901e-4339-b07b-6ea8a0c70988"
      },
      "execution_count": 6,
      "outputs": [
        {
          "output_type": "stream",
          "name": "stdout",
          "text": [
            "Enter the first number: 100\n",
            "Enter the second number: 50\n",
            "Addition result: 150.0\n",
            "Division result: 2.0\n"
          ]
        }
      ]
    },
    {
      "cell_type": "markdown",
      "source": [
        "**Q3** **Write a Python program to find the area of a triangle?**"
      ],
      "metadata": {
        "id": "ZbsFBrSP1-uz"
      }
    },
    {
      "cell_type": "code",
      "source": [
        "# Input base and height from the user\n",
        "base = float(input(\"Enter the length of the base of the triangle: \"))\n",
        "height = float(input(\"Enter the height of the triangle: \"))\n",
        "\n",
        "# Calculate the area of the triangle\n",
        "area = 0.5 * base * height\n",
        "\n",
        "# Print the area of the triangle\n",
        "print(\"The area of the triangle is:\", area)"
      ],
      "metadata": {
        "colab": {
          "base_uri": "https://localhost:8080/"
        },
        "id": "IQ_-KYIq2COm",
        "outputId": "38bd3f71-6193-40bc-9e89-2c349abc5e27"
      },
      "execution_count": 5,
      "outputs": [
        {
          "output_type": "stream",
          "name": "stdout",
          "text": [
            "Enter the length of the base of the triangle: 30.5\n",
            "Enter the height of the triangle: 40\n",
            "The area of the triangle is: 610.0\n"
          ]
        }
      ]
    },
    {
      "cell_type": "markdown",
      "source": [
        "**Q4** **Write a Python program to swap two variables?**"
      ],
      "metadata": {
        "id": "nFgCnpUE2Dof"
      }
    },
    {
      "cell_type": "code",
      "source": [
        "# Input variables\n",
        "a = input(\"Enter value for variable a: \")\n",
        "b = input(\"Enter value for variable b: \")\n",
        "\n",
        "print(\"Before swapping:\")\n",
        "print(\"a =\", a)\n",
        "print(\"b =\", b)\n",
        "\n",
        "# Swapping variables\n",
        "temp = a\n",
        "a = b\n",
        "b = temp\n",
        "\n",
        "print(\"\\nAfter swapping:\")\n",
        "print(\"a =\", a)\n",
        "print(\"b =\", b)"
      ],
      "metadata": {
        "colab": {
          "base_uri": "https://localhost:8080/"
        },
        "id": "4zcfSHdL2JmY",
        "outputId": "842a62ec-e790-40bf-c6ad-7c869c65a6c8"
      },
      "execution_count": 4,
      "outputs": [
        {
          "output_type": "stream",
          "name": "stdout",
          "text": [
            "Enter value for variable a: 22\n",
            "Enter value for variable b: 33\n",
            "Before swapping:\n",
            "a = 22\n",
            "b = 33\n",
            "\n",
            "After swapping:\n",
            "a = 33\n",
            "b = 22\n"
          ]
        }
      ]
    },
    {
      "cell_type": "markdown",
      "source": [
        "**Q5** **Write a Python program to generate a random number?**"
      ],
      "metadata": {
        "id": "XLqSHwYC2KZD"
      }
    },
    {
      "cell_type": "code",
      "source": [
        "import random\n",
        "\n",
        "# Generate a random number between 1 and 100\n",
        "random_number = random.randint(1, 100)\n",
        "\n",
        "print(\"Random number:\", random_number)"
      ],
      "metadata": {
        "colab": {
          "base_uri": "https://localhost:8080/"
        },
        "id": "lOgsEUdB2QUE",
        "outputId": "287d3c20-ac01-46a9-c508-3953dd5e9993"
      },
      "execution_count": 3,
      "outputs": [
        {
          "output_type": "stream",
          "name": "stdout",
          "text": [
            "Random number: 38\n"
          ]
        }
      ]
    }
  ]
}