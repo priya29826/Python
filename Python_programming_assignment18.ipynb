{
  "nbformat": 4,
  "nbformat_minor": 0,
  "metadata": {
    "colab": {
      "provenance": []
    },
    "kernelspec": {
      "name": "python3",
      "display_name": "Python 3"
    },
    "language_info": {
      "name": "python"
    }
  },
  "cells": [
    {
      "cell_type": "markdown",
      "source": [
        "**Question 1\n",
        "Create a function that takes a list of non-negative integers and strings and return a new list\n",
        "without the strings.**\n",
        "\n",
        "**Examples**\n",
        "\n",
        "filter_list([1, 2, &quot;a&quot;, &quot;b&quot;]) ➞ [1, 2]\n",
        "\n",
        "filter_list([1, &quot;a&quot;, &quot;b&quot;, 0, 15]) ➞ [1, 0, 15]\n",
        "\n",
        "filter_list([1, 2, &quot;aasf&quot;, &quot;1&quot;, &quot;123&quot;, 123]) ➞ [1, 2, 123]"
      ],
      "metadata": {
        "id": "y0mnO5kg8jH9"
      }
    },
    {
      "cell_type": "code",
      "source": [
        "def filter_list(lst):\n",
        "    return [item for item in lst if not isinstance(item, str)]\n",
        "\n",
        "# Test cases\n",
        "print(filter_list([1, 2, \"a\", \"b\"]))          # ➞ [1, 2]\n",
        "print(filter_list([1, \"a\", \"b\", 0, 15]))      # ➞ [1, 0, 15]\n",
        "print(filter_list([1, 2, \"aasf\", \"1\", \"123\", 123]))  # ➞ [1, 2, 123]\n"
      ],
      "metadata": {
        "id": "bBFOqwOs83oK"
      },
      "execution_count": null,
      "outputs": []
    },
    {
      "cell_type": "markdown",
      "source": [
        "**Question 2\n",
        "The &quot;Reverser&quot; takes a string as input and returns that string in reverse order, with the\n",
        "opposite case.**\n",
        "\n",
        "**Examples**\n",
        "\n",
        "reverse(&quot;Hello World&quot;) ➞ &quot;DLROw OLLEh&quot;\n",
        "\n",
        "reverse(&quot;ReVeRsE&quot;) ➞ &quot;eSrEvEr&quot;\n",
        "\n",
        "reverse(&quot;Radar&quot;) ➞ &quot;RADAr&quot;"
      ],
      "metadata": {
        "id": "aezjvYHZ8dDw"
      }
    },
    {
      "cell_type": "code",
      "execution_count": 1,
      "metadata": {
        "colab": {
          "base_uri": "https://localhost:8080/"
        },
        "id": "_cDAPwUw8XgK",
        "outputId": "d114e1f1-f576-4161-ac0d-65ae594f7fc5"
      },
      "outputs": [
        {
          "output_type": "stream",
          "name": "stdout",
          "text": [
            "DLROw OLLEh\n",
            "eSrEvEr\n",
            "RADAr\n"
          ]
        }
      ],
      "source": [
        "def reverse(s):\n",
        "    return ''.join(c.lower() if c.isupper() else c.upper() for c in s[::-1])\n",
        "\n",
        "# Test cases\n",
        "print(reverse(\"Hello World\"))  # ➞ \"DLROw OLLEh\"\n",
        "print(reverse(\"ReVeRsE\"))       # ➞ \"eSrEvEr\"\n",
        "print(reverse(\"Radar\"))         # ➞ \"RADAr\"\n"
      ]
    },
    {
      "cell_type": "markdown",
      "source": [
        "**Question 3\n",
        "You can assign variables from lists like this:**\n",
        "\n",
        "lst = [1, 2, 3, 4, 5, 6]\n",
        "\n",
        "first = lst[0]\n",
        "\n",
        "middle = lst[1:-1]\n",
        "\n",
        "last = lst[-1]\n",
        "\n",
        "print(first) ➞ outputs 1\n",
        "\n",
        "print(middle) ➞ outputs [2, 3, 4, 5]\n",
        "\n",
        "print(last) ➞ outputs 6\n",
        "\n",
        "With Python 3, you can assign variables from lists in a much more succinct way. Create\n",
        "variables first, middle and last from the given list using destructuring assignment\n",
        "\n",
        "(check the Resources tab for some examples), where:\n",
        "\n",
        "first ➞ 1\n",
        "\n",
        "middle ➞ [2, 3, 4, 5]\n",
        "\n",
        "last ➞ 6\n",
        "\n",
        "Your task is to unpack the list writeyourcodehere into three variables, being first,\n",
        "middle, and last, with middle being everything in between the first and last element. Then\n",
        "print all three variables."
      ],
      "metadata": {
        "id": "CQOCsQcG-EFm"
      }
    },
    {
      "cell_type": "code",
      "source": [
        "# Given list\n",
        "writeyourcodehere = [1, 2, 3, 4, 5, 6]\n",
        "\n",
        "# Unpack the list into variables first, *middle, and last\n",
        "first, *middle, last = writeyourcodehere\n",
        "\n",
        "# Print the variables\n",
        "print(first)    # ➞ 1\n",
        "print(middle)   # ➞ [2, 3, 4, 5]\n",
        "print(last)     # ➞ 6\n"
      ],
      "metadata": {
        "colab": {
          "base_uri": "https://localhost:8080/"
        },
        "id": "yh6apL_9-SdH",
        "outputId": "0cdc73a6-bc9b-47f6-c815-48a010845ffc"
      },
      "execution_count": 5,
      "outputs": [
        {
          "output_type": "stream",
          "name": "stdout",
          "text": [
            "1\n",
            "[2, 3, 4, 5]\n",
            "6\n"
          ]
        }
      ]
    },
    {
      "cell_type": "markdown",
      "source": [
        "**Question 4\n",
        "Write a function that calculates the factorial of a number recursively.**\n",
        "\n",
        "**Examples**\n",
        "\n",
        "factorial(5) ➞ 120\n",
        "\n",
        "factorial(3) ➞ 6\n",
        "\n",
        "factorial(1) ➞ 1\n",
        "\n",
        "factorial(0) ➞ 1"
      ],
      "metadata": {
        "id": "RrkM1PAD9Wg-"
      }
    },
    {
      "cell_type": "code",
      "source": [
        "def factorial(n):\n",
        "    if n == 0 or n == 1:\n",
        "        return 1\n",
        "    else:\n",
        "        return n * factorial(n - 1)\n",
        "\n",
        "# Test cases\n",
        "print(factorial(5))  # ➞ 120\n",
        "print(factorial(3))  # ➞ 6\n",
        "print(factorial(1))  # ➞ 1\n",
        "print(factorial(0))  # ➞ 1\n"
      ],
      "metadata": {
        "colab": {
          "base_uri": "https://localhost:8080/"
        },
        "id": "x4toFkRq9Pz3",
        "outputId": "081ee26d-2819-4640-a154-9fcf28ce5844"
      },
      "execution_count": 2,
      "outputs": [
        {
          "output_type": "stream",
          "name": "stdout",
          "text": [
            "120\n",
            "6\n",
            "1\n",
            "1\n"
          ]
        }
      ]
    },
    {
      "cell_type": "markdown",
      "source": [
        "**Question 5\n",
        "Write a function that moves all elements of one type to the end of the list.**\n",
        "\n",
        "**Examples**\n",
        "\n",
        "move_to_end([1, 3, 2, 4, 4, 1], 1) ➞ [3, 2, 4, 4, 1, 1]\n",
        "\n",
        "####Move all the 1s to the end of the array.\n",
        "\n",
        "move_to_end([7, 8, 9, 1, 2, 3, 4], 9) ➞ [7, 8, 1, 2, 3, 4, 9]\n",
        "\n",
        "move_to_end([&quot;a&quot;, &quot;a&quot;, &quot;a&quot;, &quot;b&quot;], &quot;a&quot;) ➞ [&quot;b&quot;, &quot;a&quot;, &quot;a&quot;, &quot;a&quot;]"
      ],
      "metadata": {
        "id": "DtU-s5L79pqU"
      }
    },
    {
      "cell_type": "code",
      "source": [
        "def move_to_end(lst, element):\n",
        "    count = lst.count(element)\n",
        "    lst[:] = [x for x in lst if x != element]\n",
        "    lst.extend([element] * count)\n",
        "    return lst\n",
        "\n",
        "# Test cases\n",
        "print(move_to_end([1, 3, 2, 4, 4, 1], 1))       # ➞ [3, 2, 4, 4, 1, 1]\n",
        "print(move_to_end([7, 8, 9, 1, 2, 3, 4], 9))     # ➞ [7, 8, 1, 2, 3, 4, 9]\n",
        "print(move_to_end([\"a\", \"a\", \"a\", \"b\"], \"a\"))   # ➞ [\"b\", \"a\", \"a\", \"a\"]\n"
      ],
      "metadata": {
        "colab": {
          "base_uri": "https://localhost:8080/"
        },
        "id": "K7gwsfRo9klU",
        "outputId": "9364ab2c-0641-43bb-de5b-35148579951a"
      },
      "execution_count": 4,
      "outputs": [
        {
          "output_type": "stream",
          "name": "stdout",
          "text": [
            "[3, 2, 4, 4, 1, 1]\n",
            "[7, 8, 1, 2, 3, 4, 9]\n",
            "['b', 'a', 'a', 'a']\n"
          ]
        }
      ]
    }
  ]
}