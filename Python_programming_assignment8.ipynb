{
  "nbformat": 4,
  "nbformat_minor": 0,
  "metadata": {
    "colab": {
      "provenance": []
    },
    "kernelspec": {
      "name": "python3",
      "display_name": "Python 3"
    },
    "language_info": {
      "name": "python"
    }
  },
  "cells": [
    {
      "cell_type": "markdown",
      "source": [
        "**1. Write a Python Program to Add Two Matrices?**"
      ],
      "metadata": {
        "id": "OGLYBg6Qcb_O"
      }
    },
    {
      "cell_type": "code",
      "execution_count": 1,
      "metadata": {
        "colab": {
          "base_uri": "https://localhost:8080/"
        },
        "id": "s9aiF1mVcUlw",
        "outputId": "79e899e9-3ae2-48e3-86b0-0e90a4948e1b"
      },
      "outputs": [
        {
          "output_type": "stream",
          "name": "stdout",
          "text": [
            "Matrix 1: [[1, 2, 3], [4, 5, 6], [7, 8, 9]]\n",
            "Matrix 2: [[9, 8, 7], [6, 5, 4], [3, 2, 1]]\n",
            "Sum of matrices: [[10, 10, 10], [10, 10, 10], [10, 10, 10]]\n"
          ]
        }
      ],
      "source": [
        "def add_matrices(matrix1, matrix2):\n",
        "    result = []\n",
        "    for i in range(len(matrix1)):\n",
        "        row = []\n",
        "        for j in range(len(matrix1[0])):\n",
        "            row.append(matrix1[i][j] + matrix2[i][j])\n",
        "        result.append(row)\n",
        "    return result\n",
        "\n",
        "# Example usage:\n",
        "matrix1 = [[1, 2, 3], [4, 5, 6], [7, 8, 9]]\n",
        "matrix2 = [[9, 8, 7], [6, 5, 4], [3, 2, 1]]\n",
        "print(\"Matrix 1:\", matrix1)\n",
        "print(\"Matrix 2:\", matrix2)\n",
        "print(\"Sum of matrices:\", add_matrices(matrix1, matrix2))\n"
      ]
    },
    {
      "cell_type": "markdown",
      "source": [
        "**2. Write a Python Program to Multiply Two Matrices?**"
      ],
      "metadata": {
        "id": "NW2e2fgackHt"
      }
    },
    {
      "cell_type": "code",
      "source": [
        "def multiply_matrices(matrix1, matrix2):\n",
        "    result = [[0 for _ in range(len(matrix2[0]))] for _ in range(len(matrix1))]\n",
        "    for i in range(len(matrix1)):\n",
        "        for j in range(len(matrix2[0])):\n",
        "            for k in range(len(matrix2)):\n",
        "                result[i][j] += matrix1[i][k] * matrix2[k][j]\n",
        "    return result\n",
        "\n",
        "# Example usage:\n",
        "matrix1 = [[1, 2], [3, 4], [5, 6]]\n",
        "matrix2 = [[7, 8, 9], [10, 11, 12]]\n",
        "print(\"Matrix 1:\", matrix1)\n",
        "print(\"Matrix 2:\", matrix2)\n",
        "print(\"Product of matrices:\", multiply_matrices(matrix1, matrix2))\n"
      ],
      "metadata": {
        "colab": {
          "base_uri": "https://localhost:8080/"
        },
        "id": "fsGCISo9cmVz",
        "outputId": "cfee6eae-1c2d-40e9-c7d9-7eb34c85091a"
      },
      "execution_count": 2,
      "outputs": [
        {
          "output_type": "stream",
          "name": "stdout",
          "text": [
            "Matrix 1: [[1, 2], [3, 4], [5, 6]]\n",
            "Matrix 2: [[7, 8, 9], [10, 11, 12]]\n",
            "Product of matrices: [[27, 30, 33], [61, 68, 75], [95, 106, 117]]\n"
          ]
        }
      ]
    },
    {
      "cell_type": "markdown",
      "source": [
        "**3. Write a Python Program to Transpose a Matrix?**"
      ],
      "metadata": {
        "id": "bRXxgqJxctBd"
      }
    },
    {
      "cell_type": "code",
      "source": [
        "def transpose_matrix(matrix):\n",
        "    return [[matrix[j][i] for j in range(len(matrix))] for i in range(len(matrix[0]))]\n",
        "\n",
        "# Example usage:\n",
        "matrix = [[1, 2, 3], [4, 5, 6], [7, 8, 9]]\n",
        "print(\"Original Matrix:\", matrix)\n",
        "print(\"Transposed Matrix:\", transpose_matrix(matrix))\n"
      ],
      "metadata": {
        "colab": {
          "base_uri": "https://localhost:8080/"
        },
        "id": "9VCnNRRVcvQc",
        "outputId": "f5744726-a699-42fb-a365-af87255e135b"
      },
      "execution_count": 4,
      "outputs": [
        {
          "output_type": "stream",
          "name": "stdout",
          "text": [
            "Original Matrix: [[1, 2, 3], [4, 5, 6], [7, 8, 9]]\n",
            "Transposed Matrix: [[1, 4, 7], [2, 5, 8], [3, 6, 9]]\n"
          ]
        }
      ]
    },
    {
      "cell_type": "markdown",
      "source": [
        "**4. Write a Python Program to Sort Words in Alphabetic Order?**"
      ],
      "metadata": {
        "id": "PSix1Bh9cv2I"
      }
    },
    {
      "cell_type": "code",
      "source": [
        "def sort_words(sentence):\n",
        "    words = sentence.split()\n",
        "    words.sort()\n",
        "    return ' '.join(words)\n",
        "\n",
        "# Example usage:\n",
        "sentence = \"Hello this is a sample sentence\"\n",
        "print(\"Original Sentence:\", sentence)\n",
        "print(\"Sorted Words:\", sort_words(sentence))\n"
      ],
      "metadata": {
        "colab": {
          "base_uri": "https://localhost:8080/"
        },
        "id": "6hIOu3PgcygQ",
        "outputId": "95708b7b-3582-49d5-ad6d-e54ce91375b8"
      },
      "execution_count": 5,
      "outputs": [
        {
          "output_type": "stream",
          "name": "stdout",
          "text": [
            "Original Sentence: Hello this is a sample sentence\n",
            "Sorted Words: Hello a is sample sentence this\n"
          ]
        }
      ]
    },
    {
      "cell_type": "markdown",
      "source": [
        "**5. Write a Python Program to Remove Punctuation From a String?**"
      ],
      "metadata": {
        "id": "kC4RStYyc0bJ"
      }
    },
    {
      "cell_type": "code",
      "source": [
        "import string\n",
        "\n",
        "def remove_punctuation(text):\n",
        "    return text.translate(str.maketrans('', '', string.punctuation))\n",
        "\n",
        "# Example usage:\n",
        "text = \"Hello! How are you doing?\"\n",
        "print(\"Original Text:\", text)\n",
        "print(\"Text without Punctuation:\", remove_punctuation(text))\n"
      ],
      "metadata": {
        "colab": {
          "base_uri": "https://localhost:8080/"
        },
        "id": "YbgqtQ20c1oJ",
        "outputId": "44468391-bbe3-493c-eeb3-d12d18727552"
      },
      "execution_count": 6,
      "outputs": [
        {
          "output_type": "stream",
          "name": "stdout",
          "text": [
            "Original Text: Hello! How are you doing?\n",
            "Text without Punctuation: Hello How are you doing\n"
          ]
        }
      ]
    },
    {
      "cell_type": "code",
      "source": [],
      "metadata": {
        "id": "ZkEbC18JdUWg"
      },
      "execution_count": null,
      "outputs": []
    }
  ]
}