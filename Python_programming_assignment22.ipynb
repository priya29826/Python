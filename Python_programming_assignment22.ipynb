{
  "nbformat": 4,
  "nbformat_minor": 0,
  "metadata": {
    "colab": {
      "provenance": []
    },
    "kernelspec": {
      "name": "python3",
      "display_name": "Python 3"
    },
    "language_info": {
      "name": "python"
    }
  },
  "cells": [
    {
      "cell_type": "markdown",
      "source": [
        "**Question1\n",
        "Create a function that takes three parameters where:**\n",
        "\n",
        " x is the start of the range (inclusive).\n",
        "\n",
        " y is the end of the range (inclusive).\n",
        "\n",
        " n is the divisor to be checked against.\n",
        "\n",
        "**Return an ordered list with numbers in the range that are divisible by the third parameter n.**\n",
        "\n",
        "**Return an empty list if there are no numbers that are divisible by n.**\n",
        "\n",
        "**Examples**\n",
        "\n",
        "list_operation(1, 10, 3) ➞ [3, 6, 9]\n",
        "\n",
        "list_operation(7, 9, 2) ➞ [8]\n",
        "\n",
        "list_operation(15, 20, 7) ➞ []"
      ],
      "metadata": {
        "id": "fELDiwZTIeWK"
      }
    },
    {
      "cell_type": "code",
      "execution_count": 3,
      "metadata": {
        "colab": {
          "base_uri": "https://localhost:8080/"
        },
        "id": "e3O4hYSHHLdp",
        "outputId": "914d31ab-fa34-4c19-d432-3a11fc3e5011"
      },
      "outputs": [
        {
          "output_type": "stream",
          "name": "stdout",
          "text": [
            "[3, 6, 9]\n",
            "[8]\n",
            "[]\n"
          ]
        }
      ],
      "source": [
        "def list_operation(x, y, n):\n",
        "    # Generate a list of numbers from x to y (inclusive) that are divisible by n\n",
        "    return [num for num in range(x, y + 1) if num % n == 0]\n",
        "\n",
        "# Test cases\n",
        "print(list_operation(1, 10, 3))   # ➞ [3, 6, 9]\n",
        "print(list_operation(7, 9, 2))    # ➞ [8]\n",
        "print(list_operation(15, 20, 7))  # ➞ []\n"
      ]
    },
    {
      "cell_type": "markdown",
      "source": [
        "**Question2\n",
        "Create a function that takes in two lists and returns True if the second list follows the first list\n",
        "by one element, and False otherwise. In other words, determine if the second list is the first\n",
        "list shifted to the right by 1.**\n",
        "\n",
        "**Examples**\n",
        "\n",
        "simon_says([1, 2], [5, 1]) ➞ True\n",
        "\n",
        "simon_says([1, 2], [5, 5]) ➞ False\n",
        "\n",
        "simon_says([1, 2, 3, 4, 5], [0, 1, 2, 3, 4]) ➞ True\n",
        "\n",
        "simon_says([1, 2, 3, 4, 5], [5, 5, 1, 2, 3]) ➞ False\n",
        "\n",
        "**Notes**\n",
        "\n",
        " Both input lists will be of the same length, and will have a minimum length of 2.\n",
        "\n",
        " The values of the 0-indexed element in the second list and the n-1th indexed element\n",
        "in the first list do not matter."
      ],
      "metadata": {
        "id": "Wbvv8irkJRZ2"
      }
    },
    {
      "cell_type": "code",
      "source": [
        "def simon_says(lst1, lst2):\n",
        "    # Check if the second list is the first list shifted to the right by one element\n",
        "    return lst1[:-1] == lst2[1:]\n",
        "\n",
        "# Test cases\n",
        "print(simon_says([1, 2], [5, 1]))                # ➞ True\n",
        "print(simon_says([1, 2], [5, 5]))                # ➞ False\n",
        "print(simon_says([1, 2, 3, 4, 5], [0, 1, 2, 3, 4]))  # ➞ True\n",
        "print(simon_says([1, 2, 3, 4, 5], [5, 5, 1, 2, 3]))  # ➞ False\n"
      ],
      "metadata": {
        "colab": {
          "base_uri": "https://localhost:8080/"
        },
        "id": "PET2iboRJmX8",
        "outputId": "d0134baa-612c-4f8e-ed26-ada8fdbcdf86"
      },
      "execution_count": 4,
      "outputs": [
        {
          "output_type": "stream",
          "name": "stdout",
          "text": [
            "True\n",
            "False\n",
            "True\n",
            "False\n"
          ]
        }
      ]
    },
    {
      "cell_type": "markdown",
      "source": [
        "**Question3\n",
        "A group of friends have decided to start a secret society. The name will be the first letter of\n",
        "each of their names, sorted in alphabetical order.\n",
        "Create a function that takes in a list of names and returns the name of the secret society.**\n",
        "\n",
        "**Examples**\n",
        "\n",
        "society_name([&quot;Adam&quot;, &quot;Sarah&quot;, &quot;Malcolm&quot;]) ➞ &quot;AMS&quot;\n",
        "\n",
        "society_name([&quot;Harry&quot;, &quot;Newt&quot;, &quot;Luna&quot;, &quot;Cho&quot;]) ➞ &quot;CHLN&quot;\n",
        "\n",
        "society_name([&quot;Phoebe&quot;, &quot;Chandler&quot;, &quot;Rachel&quot;, &quot;Ross&quot;, &quot;Monica&quot;, &quot;Joey&quot;])"
      ],
      "metadata": {
        "id": "-M2J7f1eJz3K"
      }
    },
    {
      "cell_type": "code",
      "source": [
        "def society_name(names):\n",
        "    # Extract the first letter of each name and sort them\n",
        "    initials = sorted([name[0] for name in names])\n",
        "    # Concatenate the initials to form the name of the secret society\n",
        "    return ''.join(initials)\n",
        "\n",
        "# Test cases\n",
        "print(society_name([\"Adam\", \"Sarah\", \"Malcolm\"]))          # ➞ \"AMS\"\n",
        "print(society_name([\"Harry\", \"Newt\", \"Luna\", \"Cho\"]))      # ➞ \"CHLN\"\n",
        "print(society_name([\"Phoebe\", \"Chandler\", \"Rachel\", \"Ross\", \"Monica\", \"Joey\"]))  # ➞ \"CJMPRR\"\n"
      ],
      "metadata": {
        "colab": {
          "base_uri": "https://localhost:8080/"
        },
        "id": "eXbofDl1KNr9",
        "outputId": "5eab2328-4b0f-47ce-f761-c4690a7d5cc4"
      },
      "execution_count": 5,
      "outputs": [
        {
          "output_type": "stream",
          "name": "stdout",
          "text": [
            "AMS\n",
            "CHLN\n",
            "CJMPRR\n"
          ]
        }
      ]
    },
    {
      "cell_type": "markdown",
      "source": [
        "**Question4\n",
        "An isogram is a word that has no duplicate letters. Create a function that takes a string and\n",
        "returns either True or False depending on whether or not it&#39;s an &quot;isogram&quot;.**\n",
        "\n",
        "**Examples**\n",
        "\n",
        "is_isogram(&quot;Algorism&quot;) ➞ True\n",
        "\n",
        "is_isogram(&quot;PasSword&quot;) ➞ False\n",
        "\n",
        "##### Not case sensitive.\n",
        "\n",
        "is_isogram(&quot;Consecutive&quot;) ➞ False\n",
        "Notes\n",
        "\n",
        " Ignore letter case (should not be case sensitive).\n",
        "\n",
        " All test cases contain valid one word strings."
      ],
      "metadata": {
        "id": "84-4dY30Hun0"
      }
    },
    {
      "cell_type": "code",
      "source": [
        "def is_isogram(string):\n",
        "    # Convert the string to lowercase to make it case insensitive\n",
        "    string = string.lower()\n",
        "    # Check if the length of the string matches the length of its set of characters\n",
        "    return len(string) == len(set(string))\n",
        "\n",
        "# Test cases\n",
        "print(is_isogram(\"Algorism\"))    # ➞ True\n",
        "print(is_isogram(\"PasSword\"))    # ➞ False\n",
        "print(is_isogram(\"Consecutive\"))  # ➞ False\n"
      ],
      "metadata": {
        "colab": {
          "base_uri": "https://localhost:8080/"
        },
        "id": "KKsr-H5NICsF",
        "outputId": "1b1d10f9-bb24-4316-86ef-23102a98fcf4"
      },
      "execution_count": 2,
      "outputs": [
        {
          "output_type": "stream",
          "name": "stdout",
          "text": [
            "True\n",
            "False\n",
            "False\n"
          ]
        }
      ]
    },
    {
      "cell_type": "markdown",
      "source": [
        "**Question5\n",
        "Create a function that takes a string and returns True or False, depending on whether the\n",
        "characters are in order or not.**\n",
        "\n",
        "**Examples**\n",
        "\n",
        "is_in_order(&quot;abc&quot;) ➞ True\n",
        "\n",
        "is_in_order(&quot;edabit&quot;) ➞ False\n",
        "\n",
        "is_in_order(&quot;123&quot;) ➞ True\n",
        "\n",
        "is_in_order(&quot;xyzz&quot;) ➞ True\n",
        "\n",
        "**Notes**\n",
        "\n",
        "You don&#39;t have to handle empty strings."
      ],
      "metadata": {
        "id": "6iTyj9_UHS8P"
      }
    },
    {
      "cell_type": "code",
      "source": [
        "def is_in_order(s):\n",
        "    return s == ''.join(sorted(s))\n",
        "\n",
        "# Test cases\n",
        "print(is_in_order(\"abc\"))    # ➞ True\n",
        "print(is_in_order(\"edabit\")) # ➞ False\n",
        "print(is_in_order(\"123\"))    # ➞ True\n",
        "print(is_in_order(\"xyzz\"))   # ➞ True\n"
      ],
      "metadata": {
        "colab": {
          "base_uri": "https://localhost:8080/"
        },
        "id": "Aov-Px_1Ho5e",
        "outputId": "8083db90-413a-4f1e-ff46-fd4b383197b2"
      },
      "execution_count": 1,
      "outputs": [
        {
          "output_type": "stream",
          "name": "stdout",
          "text": [
            "True\n",
            "False\n",
            "True\n",
            "True\n"
          ]
        }
      ]
    },
    {
      "cell_type": "code",
      "source": [],
      "metadata": {
        "id": "cwzjsdkwHpvK"
      },
      "execution_count": null,
      "outputs": []
    }
  ]
}