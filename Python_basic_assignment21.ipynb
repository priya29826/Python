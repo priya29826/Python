{
  "nbformat": 4,
  "nbformat_minor": 0,
  "metadata": {
    "colab": {
      "provenance": []
    },
    "kernelspec": {
      "name": "python3",
      "display_name": "Python 3"
    },
    "language_info": {
      "name": "python"
    }
  },
  "cells": [
    {
      "cell_type": "markdown",
      "source": [
        "**1. Add the current date to the text file today.txt as a string.**"
      ],
      "metadata": {
        "id": "jSw-hAqwriKH"
      }
    },
    {
      "cell_type": "code",
      "execution_count": 1,
      "metadata": {
        "id": "L3if1Efard_p"
      },
      "outputs": [],
      "source": [
        "from datetime import datetime\n",
        "\n",
        "# Get the current date and time\n",
        "current_date = datetime.now().strftime(\"%Y-%m-%d %H:%M:%S\")\n",
        "\n",
        "# Write the current date to the file\n",
        "with open('today.txt', 'a') as file:\n",
        "    file.write(current_date + '\\n')\n"
      ]
    },
    {
      "cell_type": "markdown",
      "source": [
        "**2. Read the text file today.txt into the string today_string**"
      ],
      "metadata": {
        "id": "0EJ-ezFPrqRu"
      }
    },
    {
      "cell_type": "code",
      "source": [
        "# Read the contents of the file into a string\n",
        "with open('today.txt', 'r') as file:\n",
        "    today_string = file.read()\n",
        "\n",
        "print(today_string)\n"
      ],
      "metadata": {
        "colab": {
          "base_uri": "https://localhost:8080/"
        },
        "id": "h204fIRcrsah",
        "outputId": "c75ca9f3-8b9f-456e-8eb1-fa42282ffb55"
      },
      "execution_count": 2,
      "outputs": [
        {
          "output_type": "stream",
          "name": "stdout",
          "text": [
            "2024-04-26 13:59:42\n",
            "\n"
          ]
        }
      ]
    },
    {
      "cell_type": "markdown",
      "source": [
        "**3. Parse the date from today_string.**"
      ],
      "metadata": {
        "id": "sdPgcmOMrw1L"
      }
    },
    {
      "cell_type": "code",
      "source": [
        "from datetime import datetime\n",
        "\n",
        "# Assuming today_string contains a date in the format 'YYYY-MM-DD HH:MM:SS'\n",
        "# You might need to adjust the format based on the actual format in your file\n",
        "date_string = today_string.strip()  # Remove any leading or trailing whitespace\n",
        "\n",
        "# Parse the date string into a datetime object\n",
        "parsed_date = datetime.strptime(date_string, '%Y-%m-%d %H:%M:%S')\n",
        "\n",
        "print(\"Parsed Date:\", parsed_date)\n"
      ],
      "metadata": {
        "colab": {
          "base_uri": "https://localhost:8080/"
        },
        "id": "vwCEp9LGrymS",
        "outputId": "09f3ba23-3782-46e8-e2d1-bbb0d5d8d885"
      },
      "execution_count": 3,
      "outputs": [
        {
          "output_type": "stream",
          "name": "stdout",
          "text": [
            "Parsed Date: 2024-04-26 13:59:42\n"
          ]
        }
      ]
    },
    {
      "cell_type": "markdown",
      "source": [
        "**4. List the files in your current directory**"
      ],
      "metadata": {
        "id": "DIY5J-LGr4Bd"
      }
    },
    {
      "cell_type": "code",
      "source": [
        "import os\n",
        "\n",
        "# List files in the current directory\n",
        "files = os.listdir()\n",
        "\n",
        "# Print the list of files\n",
        "print(\"Files in the current directory:\")\n",
        "for file in files:\n",
        "    print(file)\n"
      ],
      "metadata": {
        "colab": {
          "base_uri": "https://localhost:8080/"
        },
        "id": "mEI46L9Ir6Ak",
        "outputId": "52fe1197-31fe-47ba-812b-f68b9a0ce662"
      },
      "execution_count": 4,
      "outputs": [
        {
          "output_type": "stream",
          "name": "stdout",
          "text": [
            "Files in the current directory:\n",
            ".config\n",
            "today.txt\n",
            "sample_data\n"
          ]
        }
      ]
    },
    {
      "cell_type": "markdown",
      "source": [
        "**5. Create a list of all of the files in your parent directory (minimum five files should be available).**"
      ],
      "metadata": {
        "id": "2AiCJCXZsJcY"
      }
    },
    {
      "cell_type": "code",
      "source": [
        "import os\n",
        "\n",
        "# Get the current directory\n",
        "current_directory = os.getcwd()\n",
        "\n",
        "# Get the parent directory\n",
        "parent_directory = os.path.dirname(current_directory)\n",
        "\n",
        "# List files in the parent directory\n",
        "files_in_parent_directory = os.listdir(parent_directory)\n",
        "\n",
        "# Print the list of files\n",
        "print(\"Files in the parent directory:\")\n",
        "for file in files_in_parent_directory:\n",
        "    print(file)\n"
      ],
      "metadata": {
        "colab": {
          "base_uri": "https://localhost:8080/"
        },
        "id": "c0K7vVoJtSwp",
        "outputId": "4a675bc6-9b63-465f-d6ed-69373de88daf"
      },
      "execution_count": 5,
      "outputs": [
        {
          "output_type": "stream",
          "name": "stdout",
          "text": [
            "Files in the parent directory:\n",
            "usr\n",
            "media\n",
            "bin\n",
            "lib\n",
            "run\n",
            "tmp\n",
            "libx32\n",
            "boot\n",
            "root\n",
            "lib64\n",
            "opt\n",
            "mnt\n",
            "dev\n",
            "srv\n",
            "sbin\n",
            "proc\n",
            "sys\n",
            "lib32\n",
            "etc\n",
            "var\n",
            "home\n",
            "content\n",
            "kaggle\n",
            ".dockerenv\n",
            "tools\n",
            "datalab\n",
            "NGC-DL-CONTAINER-LICENSE\n",
            "cuda-keyring_1.0-1_all.deb\n"
          ]
        }
      ]
    },
    {
      "cell_type": "markdown",
      "source": [
        "**6. Use multiprocessing to create three separate processes. Make each one wait a random number of\n",
        "seconds between one and five, print the current time, and then exit.**"
      ],
      "metadata": {
        "id": "dpqeakNQsIph"
      }
    },
    {
      "cell_type": "code",
      "source": [
        "import multiprocessing\n",
        "import random\n",
        "import time\n",
        "from datetime import datetime\n",
        "\n",
        "def worker():\n",
        "    # Generate a random sleep time between 1 and 5 seconds\n",
        "    sleep_time = random.randint(1, 5)\n",
        "\n",
        "    # Sleep for the random time\n",
        "    time.sleep(sleep_time)\n",
        "\n",
        "    # Get the current time\n",
        "    current_time = datetime.now().strftime(\"%Y-%m-%d %H:%M:%S\")\n",
        "\n",
        "    # Print the current time\n",
        "    print(f\"Process {multiprocessing.current_process().name}: Current Time - {current_time}\")\n",
        "\n",
        "if __name__ == \"__main__\":\n",
        "    # Create three separate processes\n",
        "    processes = []\n",
        "    for i in range(3):\n",
        "        p = multiprocessing.Process(target=worker, name=f\"Process-{i+1}\")\n",
        "        processes.append(p)\n",
        "        p.start()\n",
        "\n",
        "    # Wait for all processes to finish\n",
        "    for p in processes:\n",
        "        p.join()\n"
      ],
      "metadata": {
        "colab": {
          "base_uri": "https://localhost:8080/"
        },
        "id": "g4msSZmbtY-4",
        "outputId": "9adf872c-7895-49d7-cbc0-288007b988df"
      },
      "execution_count": 6,
      "outputs": [
        {
          "output_type": "stream",
          "name": "stdout",
          "text": [
            "Process Process-3: Current Time - 2024-04-26 14:01:02\n",
            "Process Process-2: Current Time - 2024-04-26 14:01:03\n",
            "Process Process-1: Current Time - 2024-04-26 14:01:05\n"
          ]
        }
      ]
    },
    {
      "cell_type": "markdown",
      "source": [
        "**7. Create a date object of your day of birth.**"
      ],
      "metadata": {
        "id": "F2O53UyasQ8C"
      }
    },
    {
      "cell_type": "code",
      "source": [
        "from datetime import date\n",
        "\n",
        "# Replace these values with your actual birth date\n",
        "birth_year = 2000\n",
        "birth_month = 5\n",
        "birth_day = 15\n",
        "\n",
        "# Create a date object for the birth date\n",
        "birth_date = date(birth_year, birth_month, birth_day)\n",
        "\n",
        "print(\"Date of Birth:\", birth_date)\n"
      ],
      "metadata": {
        "colab": {
          "base_uri": "https://localhost:8080/"
        },
        "id": "Kx8-avZnsUP2",
        "outputId": "57c42a13-1fae-4067-e959-bcb5340f26b9"
      },
      "execution_count": 7,
      "outputs": [
        {
          "output_type": "stream",
          "name": "stdout",
          "text": [
            "Date of Birth: 2000-05-15\n"
          ]
        }
      ]
    },
    {
      "cell_type": "markdown",
      "source": [
        "**8. What day of the week was your day of birth?**"
      ],
      "metadata": {
        "id": "BGDDc9qOsbi4"
      }
    },
    {
      "cell_type": "code",
      "source": [
        "from datetime import datetime\n",
        "\n",
        "# Replace these values with your actual birth date\n",
        "birth_year = 2000\n",
        "birth_month = 5\n",
        "birth_day = 15\n",
        "\n",
        "# Create a datetime object for the birth date\n",
        "birth_date = datetime(birth_year, birth_month, birth_day)\n",
        "\n",
        "# Get the day of the week (0 = Monday, 1 = Tuesday, ..., 6 = Sunday)\n",
        "day_of_week = birth_date.weekday()\n",
        "\n",
        "# Define a list of days of the week\n",
        "days_of_week = [\"Monday\", \"Tuesday\", \"Wednesday\", \"Thursday\", \"Friday\", \"Saturday\", \"Sunday\"]\n",
        "\n",
        "# Print the day of the week for the birth date\n",
        "print(\"Day of the week of birth:\", days_of_week[day_of_week])\n"
      ],
      "metadata": {
        "colab": {
          "base_uri": "https://localhost:8080/"
        },
        "id": "QVR1_S69sdP2",
        "outputId": "6eaa4288-82c5-45a6-a719-9a3111915170"
      },
      "execution_count": 8,
      "outputs": [
        {
          "output_type": "stream",
          "name": "stdout",
          "text": [
            "Day of the week of birth: Monday\n"
          ]
        }
      ]
    },
    {
      "cell_type": "markdown",
      "source": [
        "**9. When will you be (or when were you) 10,000 days old?**"
      ],
      "metadata": {
        "id": "XnDxENSCsjfd"
      }
    },
    {
      "cell_type": "code",
      "source": [
        "from datetime import datetime, timedelta\n",
        "\n",
        "# Replace these values with your actual birth date\n",
        "birth_year = 2000\n",
        "birth_month = 5\n",
        "birth_day = 15\n",
        "\n",
        "# Create a datetime object for the birth date\n",
        "birth_date = datetime(birth_year, birth_month, birth_day)\n",
        "\n",
        "# Add 10,000 days to the birth date\n",
        "ten_thousand_days_later = birth_date + timedelta(days=10000)\n",
        "\n",
        "print(\"Date when you will be (or were) 10,000 days old:\", ten_thousand_days_later.date())\n"
      ],
      "metadata": {
        "colab": {
          "base_uri": "https://localhost:8080/"
        },
        "id": "fUK0SEOqslVo",
        "outputId": "308db364-5aeb-453b-8971-d3ae7a8dea6a"
      },
      "execution_count": 9,
      "outputs": [
        {
          "output_type": "stream",
          "name": "stdout",
          "text": [
            "Date when you will be (or were) 10,000 days old: 2027-10-01\n"
          ]
        }
      ]
    }
  ]
}