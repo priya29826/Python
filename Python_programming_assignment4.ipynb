{
  "nbformat": 4,
  "nbformat_minor": 0,
  "metadata": {
    "colab": {
      "provenance": []
    },
    "kernelspec": {
      "name": "python3",
      "display_name": "Python 3"
    },
    "language_info": {
      "name": "python"
    }
  },
  "cells": [
    {
      "cell_type": "markdown",
      "source": [
        "**1. Write a Python Program to Find the Factorial of a Number?**"
      ],
      "metadata": {
        "id": "GP9FLRhgMtGi"
      }
    },
    {
      "cell_type": "code",
      "execution_count": 2,
      "metadata": {
        "colab": {
          "base_uri": "https://localhost:8080/"
        },
        "id": "_2azACmuMUh2",
        "outputId": "ab0a82fa-c215-40f2-9985-27a2a7ad8804"
      },
      "outputs": [
        {
          "output_type": "stream",
          "name": "stdout",
          "text": [
            "Enter a number: 5\n",
            "Factorial of 5 is 120\n"
          ]
        }
      ],
      "source": [
        "def factorial(n):\n",
        "    if n == 0:\n",
        "        return 1\n",
        "    else:\n",
        "        return n * factorial(n-1)\n",
        "\n",
        "num = int(input(\"Enter a number: \"))\n",
        "print(\"Factorial of\", num, \"is\", factorial(num))\n"
      ]
    },
    {
      "cell_type": "markdown",
      "source": [
        "**2. Write a Python Program to Display the multiplication Table?**"
      ],
      "metadata": {
        "id": "HGg_4FEfMy9U"
      }
    },
    {
      "cell_type": "code",
      "source": [
        "num = int(input(\"Enter a number: \"))\n",
        "\n",
        "print(\"Multiplication Table for\", num)\n",
        "for i in range(1, 11):\n",
        "    print(num, 'x', i, '=', num*i)\n"
      ],
      "metadata": {
        "colab": {
          "base_uri": "https://localhost:8080/"
        },
        "id": "vUIU3q5YM1OH",
        "outputId": "81666bee-42e6-4c4b-d2c1-b8831363b3cc"
      },
      "execution_count": 3,
      "outputs": [
        {
          "output_type": "stream",
          "name": "stdout",
          "text": [
            "Enter a number: 10\n",
            "Multiplication Table for 10\n",
            "10 x 1 = 10\n",
            "10 x 2 = 20\n",
            "10 x 3 = 30\n",
            "10 x 4 = 40\n",
            "10 x 5 = 50\n",
            "10 x 6 = 60\n",
            "10 x 7 = 70\n",
            "10 x 8 = 80\n",
            "10 x 9 = 90\n",
            "10 x 10 = 100\n"
          ]
        }
      ]
    },
    {
      "cell_type": "markdown",
      "source": [
        "**3. Write a Python Program to Print the Fibonacci sequence?**"
      ],
      "metadata": {
        "id": "dgs7YxUmM1vK"
      }
    },
    {
      "cell_type": "code",
      "source": [
        "def fibonacci(n):\n",
        "    fib_sequence = [0, 1]\n",
        "    for i in range(2, n):\n",
        "        fib_sequence.append(fib_sequence[i-1] + fib_sequence[i-2])\n",
        "    return fib_sequence\n",
        "\n",
        "terms = int(input(\"Enter the number of terms: \"))\n",
        "print(\"Fibonacci sequence:\")\n",
        "print(fibonacci(terms))\n"
      ],
      "metadata": {
        "colab": {
          "base_uri": "https://localhost:8080/"
        },
        "id": "nZxlvbViM4Yu",
        "outputId": "ec208379-cd9c-496a-905e-03e4d58c4af5"
      },
      "execution_count": 5,
      "outputs": [
        {
          "output_type": "stream",
          "name": "stdout",
          "text": [
            "Enter the number of terms: 30\n",
            "Fibonacci sequence:\n",
            "[0, 1, 1, 2, 3, 5, 8, 13, 21, 34, 55, 89, 144, 233, 377, 610, 987, 1597, 2584, 4181, 6765, 10946, 17711, 28657, 46368, 75025, 121393, 196418, 317811, 514229]\n"
          ]
        }
      ]
    },
    {
      "cell_type": "markdown",
      "source": [
        "**4. Write a Python Program to Check Armstrong Number?**"
      ],
      "metadata": {
        "id": "WDruMU5eM5E5"
      }
    },
    {
      "cell_type": "code",
      "source": [
        "def is_armstrong(num):\n",
        "    order = len(str(num))\n",
        "    sum = 0\n",
        "    temp = num\n",
        "    while temp > 0:\n",
        "        digit = temp % 10\n",
        "        sum += digit ** order\n",
        "        temp //= 10\n",
        "    return num == sum\n",
        "\n",
        "num = int(input(\"Enter a number: \"))\n",
        "if is_armstrong(num):\n",
        "    print(num, \"is an Armstrong number\")\n",
        "else:\n",
        "    print(num, \"is not an Armstrong number\")\n"
      ],
      "metadata": {
        "colab": {
          "base_uri": "https://localhost:8080/"
        },
        "id": "6W-dxAFZM75A",
        "outputId": "9c12a1b5-5474-4eae-a70b-6447143bfc12"
      },
      "execution_count": 7,
      "outputs": [
        {
          "output_type": "stream",
          "name": "stdout",
          "text": [
            "Enter a number: 25\n",
            "25 is not an Armstrong number\n"
          ]
        }
      ]
    },
    {
      "cell_type": "markdown",
      "source": [
        "**5. Write a Python Program to Find Armstrong Number in an Interval?**"
      ],
      "metadata": {
        "id": "0l_46UrZM8je"
      }
    },
    {
      "cell_type": "code",
      "source": [
        "def armstrong_in_interval(start, end):\n",
        "    armstrong_nums = []\n",
        "    for num in range(start, end+1):\n",
        "        if is_armstrong(num):\n",
        "            armstrong_nums.append(num)\n",
        "    return armstrong_nums\n",
        "\n",
        "start = int(input(\"Enter the start of the interval: \"))\n",
        "end = int(input(\"Enter the end of the interval: \"))\n",
        "\n",
        "print(\"Armstrong numbers in the interval:\", armstrong_in_interval(start, end))\n"
      ],
      "metadata": {
        "colab": {
          "base_uri": "https://localhost:8080/"
        },
        "id": "0srmC7NBM-za",
        "outputId": "e5878ce6-604b-4a9c-d9cd-b8dd0d13f9cb"
      },
      "execution_count": 9,
      "outputs": [
        {
          "output_type": "stream",
          "name": "stdout",
          "text": [
            "Enter the start of the interval: 20\n",
            "Enter the end of the interval: 5\n",
            "Armstrong numbers in the interval: []\n"
          ]
        }
      ]
    },
    {
      "cell_type": "markdown",
      "source": [
        "**6. Write a Python Program to Find the Sum of Natural Numbers?**"
      ],
      "metadata": {
        "id": "e9LZsAwtNAGv"
      }
    },
    {
      "cell_type": "code",
      "source": [
        "def sum_of_natural_numbers(n):\n",
        "    return (n * (n + 1)) // 2\n",
        "\n",
        "num = int(input(\"Enter a number: \"))\n",
        "print(\"Sum of first\", num, \"natural numbers is\", sum_of_natural_numbers(num))\n"
      ],
      "metadata": {
        "colab": {
          "base_uri": "https://localhost:8080/"
        },
        "id": "b1hpTHgiNCss",
        "outputId": "019109e9-1d9c-4bfb-c3b6-e36ec7b8c8b2"
      },
      "execution_count": 10,
      "outputs": [
        {
          "output_type": "stream",
          "name": "stdout",
          "text": [
            "Enter a number: 20\n",
            "Sum of first 20 natural numbers is 210\n"
          ]
        }
      ]
    }
  ]
}