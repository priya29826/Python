{
  "nbformat": 4,
  "nbformat_minor": 0,
  "metadata": {
    "colab": {
      "provenance": []
    },
    "kernelspec": {
      "name": "python3",
      "display_name": "Python 3"
    },
    "language_info": {
      "name": "python"
    }
  },
  "cells": [
    {
      "cell_type": "markdown",
      "source": [
        "**Question1\n",
        "Create a function that takes three integer arguments (a, b, c) and returns the amount of\n",
        "integers which are of equal value.**\n",
        "\n",
        "**Examples**\n",
        "\n",
        "equal(3, 4, 3) ➞ 2\n",
        "\n",
        "equal(1, 1, 1) ➞ 3\n",
        "\n",
        "equal(3, 4, 1) ➞ 0\n",
        "\n",
        "**Notes**\n",
        "\n",
        "Your function must return 0, 2 or 3."
      ],
      "metadata": {
        "id": "jJkyMc860_nd"
      }
    },
    {
      "cell_type": "code",
      "execution_count": 3,
      "metadata": {
        "colab": {
          "base_uri": "https://localhost:8080/"
        },
        "id": "dfyzxxAI0-nC",
        "outputId": "a57ecbe7-8eb3-485d-bd72-094199b8c348"
      },
      "outputs": [
        {
          "output_type": "stream",
          "name": "stdout",
          "text": [
            "2\n",
            "3\n",
            "0\n"
          ]
        }
      ],
      "source": [
        "def equal(a, b, c):\n",
        "    if a == b == c:\n",
        "        return 3\n",
        "    elif a == b or a == c or b == c:\n",
        "        return 2\n",
        "    else:\n",
        "        return 0\n",
        "\n",
        "# Test cases\n",
        "print(equal(3, 4, 3))  # ➞ 2\n",
        "print(equal(1, 1, 1))  # ➞ 3\n",
        "print(equal(3, 4, 1))  # ➞ 0\n"
      ]
    },
    {
      "cell_type": "markdown",
      "source": [
        "**Question2\n",
        "Write a function that converts a dictionary into a list of keys-values tuples.**\n",
        "\n",
        "**Examples**\n",
        "\n",
        "dict_to_list({\n",
        "\n",
        "&quot;D&quot;: 1,\n",
        "\n",
        "&quot;B&quot;: 2,\n",
        "\n",
        "&quot;C&quot;: 3\n",
        "\n",
        "}) ➞ [(&quot;B&quot;, 2), (&quot;C&quot;, 3), (&quot;D&quot;, 1)]\n",
        "\n",
        "dict_to_list({\n",
        "\n",
        "&quot;likes&quot;: 2,\n",
        "\n",
        "&quot;dislikes&quot;: 3,\n",
        "\n",
        "&quot;followers&quot;: 10\n",
        "\n",
        "}) ➞ [(&quot;dislikes&quot;, 3), (&quot;followers&quot;, 10), (&quot;likes&\n",
        "\n",
        "quot;, 2)]\n",
        "\n",
        "**Notes**\n",
        "\n",
        "Return the elements in the list in alphabetical order."
      ],
      "metadata": {
        "id": "bJ-2NlOp1O8O"
      }
    },
    {
      "cell_type": "code",
      "source": [
        "def dict_to_list(dictionary):\n",
        "    return sorted(dictionary.items())\n",
        "\n",
        "# Test cases\n",
        "print(dict_to_list({\"D\": 1, \"B\": 2, \"C\": 3}))  # ➞ [(\"B\", 2), (\"C\", 3), (\"D\", 1)]\n",
        "print(dict_to_list({\"likes\": 2, \"dislikes\": 3, \"followers\": 10}))  # ➞ [(\"dislikes\", 3), (\"followers\", 10), (\"likes\", 2)]\n"
      ],
      "metadata": {
        "colab": {
          "base_uri": "https://localhost:8080/"
        },
        "id": "B2ZCNHM91XrX",
        "outputId": "aa23a9eb-f5e6-4f1f-abc4-5d4ebe1d9ba7"
      },
      "execution_count": 2,
      "outputs": [
        {
          "output_type": "stream",
          "name": "stdout",
          "text": [
            "[('B', 2), ('C', 3), ('D', 1)]\n",
            "[('dislikes', 3), ('followers', 10), ('likes', 2)]\n"
          ]
        }
      ]
    },
    {
      "cell_type": "markdown",
      "source": [
        "**Question3\n",
        "Write a function that creates a dictionary with each (key, value) pair being the (lower case,\n",
        "upper case) versions of a letter, respectively.**\n",
        "\n",
        "**Examples**\n",
        "\n",
        "mapping([&quot;p&quot;, &quot;s&quot;]) ➞ { &quot;p&quot;: &quot;P&quot;, &quot;s&quot;: &quot;S&quot; }\n",
        "\n",
        "\n",
        "mapping([&quot;a&quot;, &quot;b&quot;, &quot;c&quot;]) ➞ { &quot;a&quot;: &quot;A&quot;, &quot;b&quot;: &quot;B&quot;, &quot;c&quot;: &quot;C&quot; }\n",
        "\n",
        "mapping([&quot;a&quot;, &quot;v&quot;, &quot;y&quot;, &quot;z&quot;]) ➞ { &quot;a&quot;: &quot;A&quot;, &quot;v&quot;: &quot;V&quot;, &quot;y&quot;: &quot;Y&quot;, &quot;z&quot;: &quot;Z&quot; }\n",
        "\n",
        "**Notes**\n",
        "\n",
        "All of the letters in the input list will always be lowercase."
      ],
      "metadata": {
        "id": "__ovA1rO1lrz"
      }
    },
    {
      "cell_type": "code",
      "source": [
        "def mapping(lst):\n",
        "    return {letter: letter.upper() for letter in lst}\n",
        "\n",
        "# Test cases\n",
        "print(mapping([\"p\", \"s\"]))  # ➞ {\"p\": \"P\", \"s\": \"S\"}\n",
        "print(mapping([\"a\", \"b\", \"c\"]))  # ➞ {\"a\": \"A\", \"b\": \"B\", \"c\": \"C\"}\n",
        "print(mapping([\"a\", \"v\", \"y\", \"z\"]))  # ➞ {\"a\": \"A\", \"v\": \"V\", \"y\": \"Y\", \"z\": \"Z\"}\n"
      ],
      "metadata": {
        "colab": {
          "base_uri": "https://localhost:8080/"
        },
        "id": "GIVLSq1e11dH",
        "outputId": "24bc71e9-21f2-46f5-fc7a-b8d81dbd968a"
      },
      "execution_count": 1,
      "outputs": [
        {
          "output_type": "stream",
          "name": "stdout",
          "text": [
            "{'p': 'P', 's': 'S'}\n",
            "{'a': 'A', 'b': 'B', 'c': 'C'}\n",
            "{'a': 'A', 'v': 'V', 'y': 'Y', 'z': 'Z'}\n"
          ]
        }
      ]
    },
    {
      "cell_type": "markdown",
      "source": [
        "**Question4\n",
        "Write a function, that replaces all vowels in a string with a specified vowel.**\n",
        "\n",
        "**Examples**\n",
        "\n",
        "vow_replace(&quot;apples and bananas&quot;, &quot;u&quot;) ➞ &quot;upplus und bununus&quot;\n",
        "\n",
        "vow_replace(&quot;cheese casserole&quot;, &quot;o&quot;) ➞ &quot;chooso cossorolo&quot;\n",
        "\n",
        "vow_replace(&quot;stuffed jalapeno poppers&quot;, &quot;e&quot;) ➞ &quot;steffed jelepene peppers&quot;\n",
        "\n",
        "**Notes**\n",
        "\n",
        "All words will be lowercase. Y is not considered a vowel."
      ],
      "metadata": {
        "id": "QRZ_wsmD16LS"
      }
    },
    {
      "cell_type": "code",
      "source": [
        "def vow_replace(string, vowel):\n",
        "    vowels = 'aeiou'\n",
        "    result = ''\n",
        "    for char in string:\n",
        "        if char in vowels:\n",
        "            result += vowel\n",
        "        else:\n",
        "            result += char\n",
        "    return result\n",
        "\n",
        "# Test cases\n",
        "print(vow_replace(\"apples and bananas\", \"u\"))  # ➞ \"upplus und bununus\"\n",
        "print(vow_replace(\"cheese casserole\", \"o\"))   # ➞ \"chooso cossorolo\"\n",
        "print(vow_replace(\"stuffed jalapeno poppers\", \"e\"))  # ➞ \"steffed jelepene peppers\"\n"
      ],
      "metadata": {
        "colab": {
          "base_uri": "https://localhost:8080/"
        },
        "id": "3H5UHbso2ED8",
        "outputId": "b56a7bdb-9e1d-4299-dbaa-f29840bf5313"
      },
      "execution_count": 4,
      "outputs": [
        {
          "output_type": "stream",
          "name": "stdout",
          "text": [
            "upplus und bununus\n",
            "chooso cossorolo\n",
            "steffed jelepene peppers\n"
          ]
        }
      ]
    },
    {
      "cell_type": "markdown",
      "source": [
        "**Question5\n",
        "Create a function that takes a string as input and capitalizes a letter if its ASCII code is even\n",
        "and returns its lower case version if its ASCII code is odd.**\n",
        "\n",
        "**Examples**\n",
        "\n",
        "ascii_capitalize(&quot;to be or not to be!&quot;) ➞ &quot;To Be oR NoT To Be!&quot;\n",
        "\n",
        "ascii_capitalize(&quot;THE LITTLE MERMAID&quot;) ➞ &quot;THe LiTTLe meRmaiD&quot;\n",
        "\n",
        "ascii_capitalize(&quot;Oh what a beautiful morning.&quot;) ➞ &quot;oH wHaT a BeauTiFuL\n",
        "\n",
        "moRNiNg.&quot;"
      ],
      "metadata": {
        "id": "1UBlkQRA2IxO"
      }
    },
    {
      "cell_type": "code",
      "source": [
        "def ascii_capitalize(string):\n",
        "    result = ''\n",
        "    for char in string:\n",
        "        ascii_code = ord(char)\n",
        "        if ascii_code % 2 == 0:\n",
        "            result += char.upper()\n",
        "        else:\n",
        "            result += char.lower()\n",
        "    return result\n",
        "\n",
        "# Test cases\n",
        "print(ascii_capitalize(\"to be or not to be!\"))  # ➞ \"To Be oR NoT To Be!\"\n",
        "print(ascii_capitalize(\"THE LITTLE MERMAID\"))  # ➞ \"THe LiTTLe meRmaiD\"\n",
        "print(ascii_capitalize(\"Oh what a beautiful morning.\"))  # ➞ \"oH wHaT a BeauTiFuL moRNiNg.\"\n"
      ],
      "metadata": {
        "colab": {
          "base_uri": "https://localhost:8080/"
        },
        "id": "ki2AMci12Rr6",
        "outputId": "39476ffd-83ec-4dd4-a6c2-484272839789"
      },
      "execution_count": 5,
      "outputs": [
        {
          "output_type": "stream",
          "name": "stdout",
          "text": [
            "To Be oR NoT To Be!\n",
            "THe LiTTLe meRmaiD\n",
            "oH wHaT a BeauTiFuL moRNiNg.\n"
          ]
        }
      ]
    },
    {
      "cell_type": "code",
      "source": [],
      "metadata": {
        "id": "Qh99hmR63DRe"
      },
      "execution_count": null,
      "outputs": []
    }
  ]
}